{
  "nbformat": 4,
  "nbformat_minor": 0,
  "metadata": {
    "colab": {
      "provenance": []
    },
    "kernelspec": {
      "name": "python3",
      "display_name": "Python 3"
    },
    "language_info": {
      "name": "python"
    }
  },
  "cells": [
    {
      "cell_type": "code",
      "source": [
        "import re\n",
        "import string\n",
        "\n",
        "import numpy as np\n",
        "import pandas as pd\n",
        "\n",
        "from unidecode import unidecode\n",
        "\n",
        "import nltk\n",
        "from nltk.corpus import stopwords\n",
        "from nltk.stem import PorterStemmer\n",
        "\n",
        "from sklearn.feature_extraction.text import TfidfVectorizer"
      ],
      "metadata": {
        "id": "iwvMwUDuAIUQ"
      },
      "execution_count": 4,
      "outputs": []
    },
    {
      "cell_type": "code",
      "source": [
        "text = \"\"\"\n",
        "Fake news significa \"notícias falsas\", em inglês. São informações enganosas, inventadas ou que distorcem a realidade, construídas em formato de notícia (imitando o texto jornalístico) e feitas para que o seu leitor acredite que a informação é verdadeira.\n",
        "\n",
        "As notícias falsas e o fenômeno da desinformação cresceram muito com o estabelecimento da internet e a criação das redes sociais, as plataformas onde as fake news são mais compartilhadas.\n",
        "\n",
        "Normalmente, o objetivo de uma fake news é criar uma polêmica em torno de uma situação ou mesmo de uma pessoa. Elas servem para criar um clima de insegurança e medo, incentivar discursos de ódio ou ainda para sujar a imagem de alguém.\n",
        "\n",
        "Por abordar temas dramáticos e apelativos, costumam atrair muita atenção das pessoas, especialmente das que estão desatentas, não têm o costume de confirmar dados ou ainda daquelas que tem opinião concordante com a abordagem da notícia falsa.\n",
        "\n",
        "No âmbito político, por exemplo, as notícias falsas são fabricadas para manchar a reputação de determinado candidato, influenciando para uma derrota em potenciais eleitores.\n",
        "\n",
        "Fake news são extremamente perigosas. Além de prejudicar individualmente as pessoas, coletivamente, elas conseguem distorcer a percepção da realidade.\n",
        "\"\"\"\n"
      ],
      "metadata": {
        "id": "7RUcBHXtALzz"
      },
      "execution_count": 5,
      "outputs": []
    },
    {
      "cell_type": "code",
      "source": [
        "# Lowercase\n",
        "text = text.lower()\n"
      ],
      "metadata": {
        "id": "fLCGsbtbAQjC"
      },
      "execution_count": 6,
      "outputs": []
    },
    {
      "cell_type": "code",
      "source": [
        "pip install unidecode"
      ],
      "metadata": {
        "colab": {
          "base_uri": "https://localhost:8080/"
        },
        "id": "G53rhs9v3lH7",
        "outputId": "0c79eb10-e693-4c0e-c12b-3b19e6644163"
      },
      "execution_count": 3,
      "outputs": [
        {
          "output_type": "stream",
          "name": "stdout",
          "text": [
            "Collecting unidecode\n",
            "  Downloading Unidecode-1.3.8-py3-none-any.whl (235 kB)\n",
            "\u001b[2K     \u001b[90m━━━━━━━━━━━━━━━━━━━━━━━━━━━━━━━━━━━━━━━━\u001b[0m \u001b[32m235.5/235.5 kB\u001b[0m \u001b[31m3.0 MB/s\u001b[0m eta \u001b[36m0:00:00\u001b[0m\n",
            "\u001b[?25hInstalling collected packages: unidecode\n",
            "Successfully installed unidecode-1.3.8\n"
          ]
        }
      ]
    },
    {
      "cell_type": "code",
      "source": [
        "print(text)"
      ],
      "metadata": {
        "colab": {
          "base_uri": "https://localhost:8080/"
        },
        "id": "SLAHVBYMAV89",
        "outputId": "af287fee-9683-42c3-9b2c-82ab0b281021"
      },
      "execution_count": 9,
      "outputs": [
        {
          "output_type": "stream",
          "name": "stdout",
          "text": [
            "\n",
            "fake news significa \"notícias falsas\", em inglês. são informações enganosas, inventadas ou que distorcem a realidade, construídas em formato de notícia (imitando o texto jornalístico) e feitas para que o seu leitor acredite que a informação é verdadeira.\n",
            "\n",
            "as notícias falsas e o fenômeno da desinformação cresceram muito com o estabelecimento da internet e a criação das redes sociais, as plataformas onde as fake news são mais compartilhadas.\n",
            "\n",
            "normalmente, o objetivo de uma fake news é criar uma polêmica em torno de uma situação ou mesmo de uma pessoa. elas servem para criar um clima de insegurança e medo, incentivar discursos de ódio ou ainda para sujar a imagem de alguém.\n",
            "\n",
            "por abordar temas dramáticos e apelativos, costumam atrair muita atenção das pessoas, especialmente das que estão desatentas, não têm o costume de confirmar dados ou ainda daquelas que tem opinião concordante com a abordagem da notícia falsa.\n",
            "\n",
            "no âmbito político, por exemplo, as notícias falsas são fabricadas para manchar a reputação de determinado candidato, influenciando para uma derrota em potenciais eleitores.\n",
            "\n",
            "fake news são extremamente perigosas. além de prejudicar individualmente as pessoas, coletivamente, elas conseguem distorcer a percepção da realidade.\n",
            "\n"
          ]
        }
      ]
    },
    {
      "cell_type": "code",
      "source": [
        "# Remoção de pontuação e símbolos\n",
        "punctuation = string.punctuation\n",
        "trantab = str.maketrans(punctuation, len(punctuation)*' ')\n",
        "text = text.translate(trantab)"
      ],
      "metadata": {
        "id": "OrW09u_8Aaom"
      },
      "execution_count": 7,
      "outputs": []
    },
    {
      "cell_type": "code",
      "source": [
        "print(text)"
      ],
      "metadata": {
        "colab": {
          "base_uri": "https://localhost:8080/"
        },
        "id": "eLv6nBVbAfgj",
        "outputId": "69d2bfe8-8666-4717-e99e-2bb155edc25d"
      },
      "execution_count": 8,
      "outputs": [
        {
          "output_type": "stream",
          "name": "stdout",
          "text": [
            "\n",
            "fake news significa  notícias falsas   em inglês  são informações enganosas  inventadas ou que distorcem a realidade  construídas em formato de notícia  imitando o texto jornalístico  e feitas para que o seu leitor acredite que a informação é verdadeira \n",
            "\n",
            "as notícias falsas e o fenômeno da desinformação cresceram muito com o estabelecimento da internet e a criação das redes sociais  as plataformas onde as fake news são mais compartilhadas \n",
            "\n",
            "normalmente  o objetivo de uma fake news é criar uma polêmica em torno de uma situação ou mesmo de uma pessoa  elas servem para criar um clima de insegurança e medo  incentivar discursos de ódio ou ainda para sujar a imagem de alguém \n",
            "\n",
            "por abordar temas dramáticos e apelativos  costumam atrair muita atenção das pessoas  especialmente das que estão desatentas  não têm o costume de confirmar dados ou ainda daquelas que tem opinião concordante com a abordagem da notícia falsa \n",
            "\n",
            "no âmbito político  por exemplo  as notícias falsas são fabricadas para manchar a reputação de determinado candidato  influenciando para uma derrota em potenciais eleitores \n",
            "\n",
            "fake news são extremamente perigosas  além de prejudicar individualmente as pessoas  coletivamente  elas conseguem distorcer a percepção da realidade \n",
            "\n"
          ]
        }
      ]
    },
    {
      "cell_type": "code",
      "source": [
        "# Remover caracteres especiais (acentos e afins)\n",
        "text = unidecode(text)"
      ],
      "metadata": {
        "id": "onlegNdbAiAn"
      },
      "execution_count": 9,
      "outputs": []
    },
    {
      "cell_type": "code",
      "source": [
        "print(text)"
      ],
      "metadata": {
        "colab": {
          "base_uri": "https://localhost:8080/"
        },
        "id": "trqAIO7mAkn-",
        "outputId": "3bf97425-5f71-4f53-f394-e0ee94c145c7"
      },
      "execution_count": 10,
      "outputs": [
        {
          "output_type": "stream",
          "name": "stdout",
          "text": [
            "\n",
            "fake news significa  noticias falsas   em ingles  sao informacoes enganosas  inventadas ou que distorcem a realidade  construidas em formato de noticia  imitando o texto jornalistico  e feitas para que o seu leitor acredite que a informacao e verdadeira \n",
            "\n",
            "as noticias falsas e o fenomeno da desinformacao cresceram muito com o estabelecimento da internet e a criacao das redes sociais  as plataformas onde as fake news sao mais compartilhadas \n",
            "\n",
            "normalmente  o objetivo de uma fake news e criar uma polemica em torno de uma situacao ou mesmo de uma pessoa  elas servem para criar um clima de inseguranca e medo  incentivar discursos de odio ou ainda para sujar a imagem de alguem \n",
            "\n",
            "por abordar temas dramaticos e apelativos  costumam atrair muita atencao das pessoas  especialmente das que estao desatentas  nao tem o costume de confirmar dados ou ainda daquelas que tem opiniao concordante com a abordagem da noticia falsa \n",
            "\n",
            "no ambito politico  por exemplo  as noticias falsas sao fabricadas para manchar a reputacao de determinado candidato  influenciando para uma derrota em potenciais eleitores \n",
            "\n",
            "fake news sao extremamente perigosas  alem de prejudicar individualmente as pessoas  coletivamente  elas conseguem distorcer a percepcao da realidade \n",
            "\n"
          ]
        }
      ]
    },
    {
      "cell_type": "code",
      "source": [
        "# Remover dígitos\n",
        "text = re.sub(r'\\d+', '', text)"
      ],
      "metadata": {
        "id": "LZxATjBhAqbY"
      },
      "execution_count": 11,
      "outputs": []
    },
    {
      "cell_type": "code",
      "source": [
        "print(text)"
      ],
      "metadata": {
        "colab": {
          "base_uri": "https://localhost:8080/"
        },
        "id": "m8Xt5VYbA4VH",
        "outputId": "4e8f0f2b-38ab-4a40-8e71-2fd86ea3a6ad"
      },
      "execution_count": 12,
      "outputs": [
        {
          "output_type": "stream",
          "name": "stdout",
          "text": [
            "\n",
            "fake news significa  noticias falsas   em ingles  sao informacoes enganosas  inventadas ou que distorcem a realidade  construidas em formato de noticia  imitando o texto jornalistico  e feitas para que o seu leitor acredite que a informacao e verdadeira \n",
            "\n",
            "as noticias falsas e o fenomeno da desinformacao cresceram muito com o estabelecimento da internet e a criacao das redes sociais  as plataformas onde as fake news sao mais compartilhadas \n",
            "\n",
            "normalmente  o objetivo de uma fake news e criar uma polemica em torno de uma situacao ou mesmo de uma pessoa  elas servem para criar um clima de inseguranca e medo  incentivar discursos de odio ou ainda para sujar a imagem de alguem \n",
            "\n",
            "por abordar temas dramaticos e apelativos  costumam atrair muita atencao das pessoas  especialmente das que estao desatentas  nao tem o costume de confirmar dados ou ainda daquelas que tem opiniao concordante com a abordagem da noticia falsa \n",
            "\n",
            "no ambito politico  por exemplo  as noticias falsas sao fabricadas para manchar a reputacao de determinado candidato  influenciando para uma derrota em potenciais eleitores \n",
            "\n",
            "fake news sao extremamente perigosas  alem de prejudicar individualmente as pessoas  coletivamente  elas conseguem distorcer a percepcao da realidade \n",
            "\n"
          ]
        }
      ]
    },
    {
      "cell_type": "code",
      "source": [
        "# Remover stopwords\n",
        "try:\n",
        "    stopwords_list = stopwords.words('portuguese')\n",
        "except:\n",
        "    nltk.download('stopwords')\n",
        "    stopwords_list = stopwords.words('portuguese')\n",
        "\n",
        "def remove_stopwords(input_text, stopwords_list):\n",
        "    words = input_text.split()\n",
        "    clean_words = [word for word in words if (word not in stopwords_list) and len(word) > 1]\n",
        "    return \" \".join(clean_words)\n",
        "\n",
        "text = remove_stopwords(text, stopwords_list)"
      ],
      "metadata": {
        "colab": {
          "base_uri": "https://localhost:8080/"
        },
        "id": "j6GJhpbvBDDu",
        "outputId": "597d3bb8-0db1-413a-eb71-eecba1e5b02e"
      },
      "execution_count": 13,
      "outputs": [
        {
          "output_type": "stream",
          "name": "stderr",
          "text": [
            "[nltk_data] Downloading package stopwords to /root/nltk_data...\n",
            "[nltk_data]   Unzipping corpora/stopwords.zip.\n"
          ]
        }
      ]
    },
    {
      "cell_type": "code",
      "source": [
        "print(text)"
      ],
      "metadata": {
        "colab": {
          "base_uri": "https://localhost:8080/"
        },
        "id": "RjNKBqoSBMCv",
        "outputId": "0c57934b-9b28-4a4b-a6ec-b9fd6a9f12bd"
      },
      "execution_count": 14,
      "outputs": [
        {
          "output_type": "stream",
          "name": "stdout",
          "text": [
            "fake news significa noticias falsas ingles sao informacoes enganosas inventadas distorcem realidade construidas formato noticia imitando texto jornalistico feitas leitor acredite informacao verdadeira noticias falsas fenomeno desinformacao cresceram estabelecimento internet criacao redes sociais plataformas onde fake news sao compartilhadas normalmente objetivo fake news criar polemica torno situacao pessoa servem criar clima inseguranca medo incentivar discursos odio ainda sujar imagem alguem abordar temas dramaticos apelativos costumam atrair muita atencao pessoas especialmente estao desatentas nao costume confirmar dados ainda daquelas opiniao concordante abordagem noticia falsa ambito politico exemplo noticias falsas sao fabricadas manchar reputacao determinado candidato influenciando derrota potenciais eleitores fake news sao extremamente perigosas alem prejudicar individualmente pessoas coletivamente conseguem distorcer percepcao realidade\n"
          ]
        }
      ]
    },
    {
      "cell_type": "code",
      "source": [
        "# Radicalização\n",
        "def stemming(input_text):\n",
        "    porter = PorterStemmer()\n",
        "    words = input_text.split()\n",
        "    stemmed_words = [porter.stem(word) for word in words]\n",
        "    return \" \".join(stemmed_words)\n",
        "\n",
        "text = stemming(text)\n"
      ],
      "metadata": {
        "id": "0AvaJE6tBPKt"
      },
      "execution_count": 15,
      "outputs": []
    },
    {
      "cell_type": "code",
      "source": [
        "print(text)"
      ],
      "metadata": {
        "colab": {
          "base_uri": "https://localhost:8080/"
        },
        "id": "OCcZH2_EBT2r",
        "outputId": "dd06786c-3875-47cd-8d0f-d2fbf2814228"
      },
      "execution_count": 16,
      "outputs": [
        {
          "output_type": "stream",
          "name": "stdout",
          "text": [
            "fake news significa noticia falsa ingl sao informaco enganosa inventada distorcem realidad construida formato noticia imitando texto jornalistico feita leitor acredit informacao verdadeira noticia falsa fenomeno desinformacao cresceram estabelecimento internet criacao rede sociai plataforma ond fake news sao compartilhada normalment objetivo fake news criar polemica torno situacao pessoa servem criar clima inseguranca medo incentivar discurso odio ainda sujar imagem alguem abordar tema dramatico apelativo costumam atrair muita atencao pessoa especialment estao desatenta nao costum confirmar dado ainda daquela opiniao concordant abordagem noticia falsa ambito politico exemplo noticia falsa sao fabricada manchar reputacao determinado candidato influenciando derrota potenciai eleitor fake news sao extremament perigosa alem prejudicar individualment pessoa coletivament conseguem distorc percepcao realidad\n"
          ]
        }
      ]
    },
    {
      "cell_type": "code",
      "source": [
        "# O TF-IDF\n",
        "# Instanciar o vetorizador do sklearn\n",
        "tfv = TfidfVectorizer()\n",
        "# Ajustar os pesos e fazer a transformação do corpus para a representação TF-IDF\n",
        "tfidf = tfv.fit_transform([text])"
      ],
      "metadata": {
        "id": "HDj4tPgeBX91"
      },
      "execution_count": 17,
      "outputs": []
    },
    {
      "cell_type": "code",
      "source": [
        "print(text)"
      ],
      "metadata": {
        "colab": {
          "base_uri": "https://localhost:8080/"
        },
        "id": "PHgzqwSyBece",
        "outputId": "e5ec3eb5-73c1-43cd-c32a-893052e15577"
      },
      "execution_count": 18,
      "outputs": [
        {
          "output_type": "stream",
          "name": "stdout",
          "text": [
            "fake news significa noticia falsa ingl sao informaco enganosa inventada distorcem realidad construida formato noticia imitando texto jornalistico feita leitor acredit informacao verdadeira noticia falsa fenomeno desinformacao cresceram estabelecimento internet criacao rede sociai plataforma ond fake news sao compartilhada normalment objetivo fake news criar polemica torno situacao pessoa servem criar clima inseguranca medo incentivar discurso odio ainda sujar imagem alguem abordar tema dramatico apelativo costumam atrair muita atencao pessoa especialment estao desatenta nao costum confirmar dado ainda daquela opiniao concordant abordagem noticia falsa ambito politico exemplo noticia falsa sao fabricada manchar reputacao determinado candidato influenciando derrota potenciai eleitor fake news sao extremament perigosa alem prejudicar individualment pessoa coletivament conseguem distorc percepcao realidad\n"
          ]
        }
      ]
    },
    {
      "cell_type": "code",
      "source": [
        "tfidf = pd.DataFrame.sparse.from_spmatrix(tfidf, columns=tfv.get_feature_names_out())\n",
        "print(tfidf)"
      ],
      "metadata": {
        "colab": {
          "base_uri": "https://localhost:8080/"
        },
        "id": "vh9243WzdI0n",
        "outputId": "e1a2c100-8d0d-402a-e6b4-af5d3e9bc647"
      },
      "execution_count": 19,
      "outputs": [
        {
          "output_type": "stream",
          "name": "stdout",
          "text": [
            "   abordagem   abordar   acredit     ainda      alem    alguem    ambito  \\\n",
            "0   0.072169  0.072169  0.072169  0.144338  0.072169  0.072169  0.072169   \n",
            "\n",
            "   apelativo   atencao    atrair  ...       sao    servem  significa  \\\n",
            "0   0.072169  0.072169  0.072169  ...  0.288675  0.072169   0.072169   \n",
            "\n",
            "   situacao    sociai     sujar      tema     texto     torno  verdadeira  \n",
            "0  0.072169  0.072169  0.072169  0.072169  0.072169  0.072169    0.072169  \n",
            "\n",
            "[1 rows x 91 columns]\n"
          ]
        }
      ]
    }
  ]
}