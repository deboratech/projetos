{
 "cells": [
  {
   "cell_type": "markdown",
   "id": "a6d075ca-2764-4cd9-838c-4919c27c3ec4",
   "metadata": {},
   "source": [
    "# JOGO DA FORCA"
   ]
  },
  {
   "cell_type": "markdown",
   "id": "9b169b93-3cd2-4541-92f2-59b375ad0039",
   "metadata": {},
   "source": [
    "### MODA: 7 Estilos Universais"
   ]
  },
  {
   "cell_type": "code",
   "execution_count": null,
   "id": "5c6736af-f534-4aa6-96e2-3c3c8beed4bf",
   "metadata": {},
   "outputs": [],
   "source": [
    "import random\n",
    "from os import system, name\n",
    "\n",
    "def limpa_tela():\n",
    "    if name == 'nt':\n",
    "        _ = system('cls')\n",
    "\n",
    "def game():\n",
    "    limpa_tela()\n",
    "    print(\"\\nBem-vindo(a) ao jogo da forca!\")\n",
    "    print(\"Adivinhe a palavra abaixo:\\n\")\n",
    "    \n",
    "    palavras = ['classico', 'sexy', 'elegante', 'romantico', 'esportivo', 'criativo', 'exuberante']\n",
    "    palavra = random.choice(palavras)\n",
    "    letras_descobertas = ['_' for letra in palavra]\n",
    "\n",
    "    chances = 7\n",
    "    letras_erradas = []\n",
    "\n",
    "    while chances > 0:\n",
    "        print(\" \".join(letras_descobertas))\n",
    "        print(\"\\nChances restantes:\", chances)\n",
    "        print(\"Letras erradas:\", \" \".join(letras_erradas))\n",
    "        \n",
    "        tentativa = input(\"\\nDigite uma letra: \").lower()\n",
    "        \n",
    "        if tentativa in palavra:\n",
    "            index = 0\n",
    "            for letra in palavra:\n",
    "                if tentativa == letra:\n",
    "                    letras_descobertas[index] = letra\n",
    "                index += 1\n",
    "        else:\n",
    "            chances -= 1\n",
    "            letras_erradas.append(tentativa)\n",
    "        \n",
    "        if \"_\" not in letras_descobertas:\n",
    "            print(\"\\nParabéns. Você adivinhou a palavra:\", palavra)\n",
    "            break\n",
    "    \n",
    "    if \"_\" in letras_descobertas:\n",
    "        print(\"\\nVocê perdeu, a palavra era:\", palavra)\n",
    "\n",
    "if __name__ == \"__main__\":\n",
    "    game()\n",
    "    print(\"\\nParabéns. Você está por dentro do mundo da moda ;)\\n\")\n"
   ]
  },
  {
   "cell_type": "code",
   "execution_count": null,
   "id": "c8250f45-40d4-43a2-b552-d17586cbb26d",
   "metadata": {},
   "outputs": [],
   "source": []
  },
  {
   "cell_type": "code",
   "execution_count": null,
   "id": "f680c81c-4f0e-4a02-89c2-9e1ea6714765",
   "metadata": {},
   "outputs": [],
   "source": []
  },
  {
   "cell_type": "code",
   "execution_count": null,
   "id": "6bdb4c08-174b-4a7f-a4e5-6309da5fc8f3",
   "metadata": {},
   "outputs": [],
   "source": []
  }
 ],
 "metadata": {
  "kernelspec": {
   "display_name": "anaconda-panel-2023.05-py310",
   "language": "python",
   "name": "conda-env-anaconda-panel-2023.05-py310-py"
  },
  "language_info": {
   "codemirror_mode": {
    "name": "ipython",
    "version": 3
   },
   "file_extension": ".py",
   "mimetype": "text/x-python",
   "name": "python",
   "nbconvert_exporter": "python",
   "pygments_lexer": "ipython3",
   "version": "3.11.5"
  }
 },
 "nbformat": 4,
 "nbformat_minor": 5
}
