{
 "cells": [
  {
   "cell_type": "markdown",
   "id": "a6d075ca-2764-4cd9-838c-4919c27c3ec4",
   "metadata": {},
   "source": [
    "# JOGO DA FORCA"
   ]
  },
  {
   "cell_type": "markdown",
   "id": "9b169b93-3cd2-4541-92f2-59b375ad0039",
   "metadata": {},
   "source": [
    "### MODA: 7 Estilos Universais"
   ]
  },
  {
   "cell_type": "code",
   "execution_count": null,
   "id": "5c6736af-f534-4aa6-96e2-3c3c8beed4bf",
   "metadata": {},
   "outputs": [
    {
     "name": "stdout",
     "output_type": "stream",
     "text": [
      "\n",
      "Bem-vindo(a) ao jogo da forca!\n",
      "Adivinhe a palavra abaixo:\n",
      "\n",
      "_ _ _ _ _ _ _ _ _ _\n",
      "\n",
      "Chances restantes: 7\n",
      "Letras erradas: \n"
     ]
    },
    {
     "name": "stdin",
     "output_type": "stream",
     "text": [
      "\n",
      "Digite uma letra:  e\n"
     ]
    },
    {
     "name": "stdout",
     "output_type": "stream",
     "text": [
      "e _ _ _ e _ _ _ _ e\n",
      "\n",
      "Chances restantes: 7\n",
      "Letras erradas: \n"
     ]
    },
    {
     "name": "stdin",
     "output_type": "stream",
     "text": [
      "\n",
      "Digite uma letra:  t\n"
     ]
    },
    {
     "name": "stdout",
     "output_type": "stream",
     "text": [
      "e _ _ _ e _ _ _ t e\n",
      "\n",
      "Chances restantes: 7\n",
      "Letras erradas: \n"
     ]
    }
   ],
   "source": [
    "import random\n",
    "from os import system, name\n",
    "\n",
    "def limpa_tela():\n",
    "    if name == 'nt':\n",
    "        _ = system('cls')\n",
    "\n",
    "def game():\n",
    "    limpa_tela()\n",
    "    print(\"\\nBem-vindo(a) ao jogo da forca!\")\n",
    "    print(\"Adivinhe a palavra abaixo:\\n\")\n",
    "    \n",
    "    palavras = ['classico', 'sexy', 'elegante', 'romantico', 'esportivo', 'criativo', 'exuberante']\n",
    "    palavra = random.choice(palavras)\n",
    "    letras_descobertas = ['_' for letra in palavra]\n",
    "\n",
    "    chances = 7\n",
    "    letras_erradas = []\n",
    "\n",
    "    while chances > 0:\n",
    "        print(\" \".join(letras_descobertas))\n",
    "        print(\"\\nChances restantes:\", chances)\n",
    "        print(\"Letras erradas:\", \" \".join(letras_erradas))\n",
    "        \n",
    "        tentativa = input(\"\\nDigite uma letra: \").lower()\n",
    "        \n",
    "        if tentativa in palavra:\n",
    "            index = 0\n",
    "            for letra in palavra:\n",
    "                if tentativa == letra:\n",
    "                    letras_descobertas[index] = letra\n",
    "                index += 1\n",
    "        else:\n",
    "            chances -= 1\n",
    "            letras_erradas.append(tentativa)\n",
    "        \n",
    "        if \"_\" not in letras_descobertas:\n",
    "            print(\"\\nParabéns. Você adivinhou a palavra:\", palavra)\n",
    "            break\n",
    "    \n",
    "    if \"_\" in letras_descobertas:\n",
    "        print(\"\\nVocê perdeu, a palavra era:\", palavra)\n",
    "\n",
    "if __name__ == \"__main__\":\n",
    "    game()\n",
    "    print(\"\\nParabéns. Você está por dentro do mundo da moda ;)\\n\")\n"
   ]
  },
  {
   "cell_type": "markdown",
   "id": "f0f0a8e4-df13-4471-b9e3-45159b4d2c24",
   "metadata": {},
   "source": [
    "# FIM!"
   ]
  }
 ],
 "metadata": {
  "kernelspec": {
   "display_name": "anaconda-panel-2023.05-py310",
   "language": "python",
   "name": "conda-env-anaconda-panel-2023.05-py310-py"
  },
  "language_info": {
   "codemirror_mode": {
    "name": "ipython",
    "version": 3
   },
   "file_extension": ".py",
   "mimetype": "text/x-python",
   "name": "python",
   "nbconvert_exporter": "python",
   "pygments_lexer": "ipython3",
   "version": "3.11.5"
  }
 },
 "nbformat": 4,
 "nbformat_minor": 5
}
