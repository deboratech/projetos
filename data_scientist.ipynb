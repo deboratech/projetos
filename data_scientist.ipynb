{
  "nbformat": 4,
  "nbformat_minor": 0,
  "metadata": {
    "colab": {
      "provenance": [],
      "include_colab_link": true
    },
    "kernelspec": {
      "name": "python3",
      "display_name": "Python 3"
    },
    "language_info": {
      "name": "python"
    }
  },
  "cells": [
    {
      "cell_type": "markdown",
      "metadata": {
        "id": "view-in-github",
        "colab_type": "text"
      },
      "source": [
        "<a href=\"https://colab.research.google.com/github/deboratech/projetos/blob/main/data_scientist.ipynb\" target=\"_parent\"><img src=\"https://colab.research.google.com/assets/colab-badge.svg\" alt=\"Open In Colab\"/></a>"
      ]
    },
    {
      "cell_type": "markdown",
      "source": [
        "# Realização da análise de cargos e salários para empregos relacionados ao campo de dados.\n",
        "\n",
        "Dataset disponível em: https://www.kaggle.com/datasets/harishkumardatalab/data-science-salary-2021-to-2023/data"
      ],
      "metadata": {
        "id": "dQIqckp8KNhZ"
      }
    },
    {
      "cell_type": "code",
      "execution_count": 118,
      "metadata": {
        "id": "1AEb_nPnP9zg"
      },
      "outputs": [],
      "source": [
        "import pandas as pd\n"
      ]
    },
    {
      "cell_type": "code",
      "source": [
        "import numpy as np\n",
        "import matplotlib.pyplot as plt"
      ],
      "metadata": {
        "id": "ULxZgPLGQDLy"
      },
      "execution_count": 119,
      "outputs": []
    },
    {
      "cell_type": "code",
      "source": [
        "import seaborn as sns\n",
        "plt.style.use(\"seaborn-whitegrid\")\n",
        "import warnings\n",
        "warnings.filterwarnings('ignore')"
      ],
      "metadata": {
        "id": "KIwa-xRdRr_H"
      },
      "execution_count": 120,
      "outputs": []
    },
    {
      "cell_type": "markdown",
      "source": [
        "# Leitura de dados"
      ],
      "metadata": {
        "id": "K49V6VUpLw24"
      }
    },
    {
      "cell_type": "code",
      "source": [
        "ds_salary = pd.read_csv('/content/ds_salary_2021_2023(2).csv', sep=';')\n"
      ],
      "metadata": {
        "id": "Fs8PrdiMYO-D"
      },
      "execution_count": 121,
      "outputs": []
    },
    {
      "cell_type": "code",
      "source": [
        "print(ds_salary)"
      ],
      "metadata": {
        "colab": {
          "base_uri": "https://localhost:8080/"
        },
        "id": "vCZ5gHcuaTxN",
        "outputId": "03840d50-dadc-477a-c175-e047fda3c6ad"
      },
      "execution_count": 122,
      "outputs": [
        {
          "output_type": "stream",
          "name": "stdout",
          "text": [
            "      work_year experience_level employment_type                  job_title  \\\n",
            "0          2023               EN              FT          Applied Scientist   \n",
            "1          2023               EN              FT          Applied Scientist   \n",
            "2          2023               EN              FT       Data Quality Analyst   \n",
            "3          2023               EN              FT    Compliance Data Analyst   \n",
            "4          2023               EN              FT          Applied Scientist   \n",
            "...         ...              ...             ...                        ...   \n",
            "3756       2020               SE              FT   Principal Data Scientist   \n",
            "3757       2020               SE              FT             Data Scientist   \n",
            "3758       2020               SE              FT       Data Science Manager   \n",
            "3759       2020               SE              FT  Machine Learning Engineer   \n",
            "3760       2020               SE              FT             Data Scientist   \n",
            "\n",
            "      salary salary_currency  salary_in_usd company_location company_size  \n",
            "0     213660             USD         213660               US            L  \n",
            "1     130760             USD         130760               US            L  \n",
            "2     100000             USD         100000               NG            L  \n",
            "3      30000             USD          30000               NG            L  \n",
            "4     204620             USD         204620               US            L  \n",
            "...      ...             ...            ...              ...          ...  \n",
            "3756  130000             EUR         148261               DE            M  \n",
            "3757   80000             EUR          91237               AT            S  \n",
            "3758  190200             USD         190200               US            M  \n",
            "3759   40000             EUR          45618               HR            S  \n",
            "3760  412000             USD         412000               US            L  \n",
            "\n",
            "[3761 rows x 9 columns]\n"
          ]
        }
      ]
    },
    {
      "cell_type": "markdown",
      "source": [
        "# Visualização dos 5 primeiros registros"
      ],
      "metadata": {
        "id": "BkulOKpjLzUX"
      }
    },
    {
      "cell_type": "code",
      "source": [
        "ds_salary.head()"
      ],
      "metadata": {
        "colab": {
          "base_uri": "https://localhost:8080/",
          "height": 206
        },
        "id": "f_9GWQUVaVBg",
        "outputId": "bca7b28c-896f-480b-f554-27586ba538c2"
      },
      "execution_count": 123,
      "outputs": [
        {
          "output_type": "execute_result",
          "data": {
            "text/plain": [
              "   work_year experience_level employment_type                job_title  \\\n",
              "0       2023               EN              FT        Applied Scientist   \n",
              "1       2023               EN              FT        Applied Scientist   \n",
              "2       2023               EN              FT     Data Quality Analyst   \n",
              "3       2023               EN              FT  Compliance Data Analyst   \n",
              "4       2023               EN              FT        Applied Scientist   \n",
              "\n",
              "   salary salary_currency  salary_in_usd company_location company_size  \n",
              "0  213660             USD         213660               US            L  \n",
              "1  130760             USD         130760               US            L  \n",
              "2  100000             USD         100000               NG            L  \n",
              "3   30000             USD          30000               NG            L  \n",
              "4  204620             USD         204620               US            L  "
            ],
            "text/html": [
              "\n",
              "  <div id=\"df-a7f29932-b5f5-48c7-800d-2d2fabcf0121\" class=\"colab-df-container\">\n",
              "    <div>\n",
              "<style scoped>\n",
              "    .dataframe tbody tr th:only-of-type {\n",
              "        vertical-align: middle;\n",
              "    }\n",
              "\n",
              "    .dataframe tbody tr th {\n",
              "        vertical-align: top;\n",
              "    }\n",
              "\n",
              "    .dataframe thead th {\n",
              "        text-align: right;\n",
              "    }\n",
              "</style>\n",
              "<table border=\"1\" class=\"dataframe\">\n",
              "  <thead>\n",
              "    <tr style=\"text-align: right;\">\n",
              "      <th></th>\n",
              "      <th>work_year</th>\n",
              "      <th>experience_level</th>\n",
              "      <th>employment_type</th>\n",
              "      <th>job_title</th>\n",
              "      <th>salary</th>\n",
              "      <th>salary_currency</th>\n",
              "      <th>salary_in_usd</th>\n",
              "      <th>company_location</th>\n",
              "      <th>company_size</th>\n",
              "    </tr>\n",
              "  </thead>\n",
              "  <tbody>\n",
              "    <tr>\n",
              "      <th>0</th>\n",
              "      <td>2023</td>\n",
              "      <td>EN</td>\n",
              "      <td>FT</td>\n",
              "      <td>Applied Scientist</td>\n",
              "      <td>213660</td>\n",
              "      <td>USD</td>\n",
              "      <td>213660</td>\n",
              "      <td>US</td>\n",
              "      <td>L</td>\n",
              "    </tr>\n",
              "    <tr>\n",
              "      <th>1</th>\n",
              "      <td>2023</td>\n",
              "      <td>EN</td>\n",
              "      <td>FT</td>\n",
              "      <td>Applied Scientist</td>\n",
              "      <td>130760</td>\n",
              "      <td>USD</td>\n",
              "      <td>130760</td>\n",
              "      <td>US</td>\n",
              "      <td>L</td>\n",
              "    </tr>\n",
              "    <tr>\n",
              "      <th>2</th>\n",
              "      <td>2023</td>\n",
              "      <td>EN</td>\n",
              "      <td>FT</td>\n",
              "      <td>Data Quality Analyst</td>\n",
              "      <td>100000</td>\n",
              "      <td>USD</td>\n",
              "      <td>100000</td>\n",
              "      <td>NG</td>\n",
              "      <td>L</td>\n",
              "    </tr>\n",
              "    <tr>\n",
              "      <th>3</th>\n",
              "      <td>2023</td>\n",
              "      <td>EN</td>\n",
              "      <td>FT</td>\n",
              "      <td>Compliance Data Analyst</td>\n",
              "      <td>30000</td>\n",
              "      <td>USD</td>\n",
              "      <td>30000</td>\n",
              "      <td>NG</td>\n",
              "      <td>L</td>\n",
              "    </tr>\n",
              "    <tr>\n",
              "      <th>4</th>\n",
              "      <td>2023</td>\n",
              "      <td>EN</td>\n",
              "      <td>FT</td>\n",
              "      <td>Applied Scientist</td>\n",
              "      <td>204620</td>\n",
              "      <td>USD</td>\n",
              "      <td>204620</td>\n",
              "      <td>US</td>\n",
              "      <td>L</td>\n",
              "    </tr>\n",
              "  </tbody>\n",
              "</table>\n",
              "</div>\n",
              "    <div class=\"colab-df-buttons\">\n",
              "\n",
              "  <div class=\"colab-df-container\">\n",
              "    <button class=\"colab-df-convert\" onclick=\"convertToInteractive('df-a7f29932-b5f5-48c7-800d-2d2fabcf0121')\"\n",
              "            title=\"Convert this dataframe to an interactive table.\"\n",
              "            style=\"display:none;\">\n",
              "\n",
              "  <svg xmlns=\"http://www.w3.org/2000/svg\" height=\"24px\" viewBox=\"0 -960 960 960\">\n",
              "    <path d=\"M120-120v-720h720v720H120Zm60-500h600v-160H180v160Zm220 220h160v-160H400v160Zm0 220h160v-160H400v160ZM180-400h160v-160H180v160Zm440 0h160v-160H620v160ZM180-180h160v-160H180v160Zm440 0h160v-160H620v160Z\"/>\n",
              "  </svg>\n",
              "    </button>\n",
              "\n",
              "  <style>\n",
              "    .colab-df-container {\n",
              "      display:flex;\n",
              "      gap: 12px;\n",
              "    }\n",
              "\n",
              "    .colab-df-convert {\n",
              "      background-color: #E8F0FE;\n",
              "      border: none;\n",
              "      border-radius: 50%;\n",
              "      cursor: pointer;\n",
              "      display: none;\n",
              "      fill: #1967D2;\n",
              "      height: 32px;\n",
              "      padding: 0 0 0 0;\n",
              "      width: 32px;\n",
              "    }\n",
              "\n",
              "    .colab-df-convert:hover {\n",
              "      background-color: #E2EBFA;\n",
              "      box-shadow: 0px 1px 2px rgba(60, 64, 67, 0.3), 0px 1px 3px 1px rgba(60, 64, 67, 0.15);\n",
              "      fill: #174EA6;\n",
              "    }\n",
              "\n",
              "    .colab-df-buttons div {\n",
              "      margin-bottom: 4px;\n",
              "    }\n",
              "\n",
              "    [theme=dark] .colab-df-convert {\n",
              "      background-color: #3B4455;\n",
              "      fill: #D2E3FC;\n",
              "    }\n",
              "\n",
              "    [theme=dark] .colab-df-convert:hover {\n",
              "      background-color: #434B5C;\n",
              "      box-shadow: 0px 1px 3px 1px rgba(0, 0, 0, 0.15);\n",
              "      filter: drop-shadow(0px 1px 2px rgba(0, 0, 0, 0.3));\n",
              "      fill: #FFFFFF;\n",
              "    }\n",
              "  </style>\n",
              "\n",
              "    <script>\n",
              "      const buttonEl =\n",
              "        document.querySelector('#df-a7f29932-b5f5-48c7-800d-2d2fabcf0121 button.colab-df-convert');\n",
              "      buttonEl.style.display =\n",
              "        google.colab.kernel.accessAllowed ? 'block' : 'none';\n",
              "\n",
              "      async function convertToInteractive(key) {\n",
              "        const element = document.querySelector('#df-a7f29932-b5f5-48c7-800d-2d2fabcf0121');\n",
              "        const dataTable =\n",
              "          await google.colab.kernel.invokeFunction('convertToInteractive',\n",
              "                                                    [key], {});\n",
              "        if (!dataTable) return;\n",
              "\n",
              "        const docLinkHtml = 'Like what you see? Visit the ' +\n",
              "          '<a target=\"_blank\" href=https://colab.research.google.com/notebooks/data_table.ipynb>data table notebook</a>'\n",
              "          + ' to learn more about interactive tables.';\n",
              "        element.innerHTML = '';\n",
              "        dataTable['output_type'] = 'display_data';\n",
              "        await google.colab.output.renderOutput(dataTable, element);\n",
              "        const docLink = document.createElement('div');\n",
              "        docLink.innerHTML = docLinkHtml;\n",
              "        element.appendChild(docLink);\n",
              "      }\n",
              "    </script>\n",
              "  </div>\n",
              "\n",
              "\n",
              "<div id=\"df-fbbbc041-4d2b-494d-b783-4ba4d56fb204\">\n",
              "  <button class=\"colab-df-quickchart\" onclick=\"quickchart('df-fbbbc041-4d2b-494d-b783-4ba4d56fb204')\"\n",
              "            title=\"Suggest charts\"\n",
              "            style=\"display:none;\">\n",
              "\n",
              "<svg xmlns=\"http://www.w3.org/2000/svg\" height=\"24px\"viewBox=\"0 0 24 24\"\n",
              "     width=\"24px\">\n",
              "    <g>\n",
              "        <path d=\"M19 3H5c-1.1 0-2 .9-2 2v14c0 1.1.9 2 2 2h14c1.1 0 2-.9 2-2V5c0-1.1-.9-2-2-2zM9 17H7v-7h2v7zm4 0h-2V7h2v10zm4 0h-2v-4h2v4z\"/>\n",
              "    </g>\n",
              "</svg>\n",
              "  </button>\n",
              "\n",
              "<style>\n",
              "  .colab-df-quickchart {\n",
              "      --bg-color: #E8F0FE;\n",
              "      --fill-color: #1967D2;\n",
              "      --hover-bg-color: #E2EBFA;\n",
              "      --hover-fill-color: #174EA6;\n",
              "      --disabled-fill-color: #AAA;\n",
              "      --disabled-bg-color: #DDD;\n",
              "  }\n",
              "\n",
              "  [theme=dark] .colab-df-quickchart {\n",
              "      --bg-color: #3B4455;\n",
              "      --fill-color: #D2E3FC;\n",
              "      --hover-bg-color: #434B5C;\n",
              "      --hover-fill-color: #FFFFFF;\n",
              "      --disabled-bg-color: #3B4455;\n",
              "      --disabled-fill-color: #666;\n",
              "  }\n",
              "\n",
              "  .colab-df-quickchart {\n",
              "    background-color: var(--bg-color);\n",
              "    border: none;\n",
              "    border-radius: 50%;\n",
              "    cursor: pointer;\n",
              "    display: none;\n",
              "    fill: var(--fill-color);\n",
              "    height: 32px;\n",
              "    padding: 0;\n",
              "    width: 32px;\n",
              "  }\n",
              "\n",
              "  .colab-df-quickchart:hover {\n",
              "    background-color: var(--hover-bg-color);\n",
              "    box-shadow: 0 1px 2px rgba(60, 64, 67, 0.3), 0 1px 3px 1px rgba(60, 64, 67, 0.15);\n",
              "    fill: var(--button-hover-fill-color);\n",
              "  }\n",
              "\n",
              "  .colab-df-quickchart-complete:disabled,\n",
              "  .colab-df-quickchart-complete:disabled:hover {\n",
              "    background-color: var(--disabled-bg-color);\n",
              "    fill: var(--disabled-fill-color);\n",
              "    box-shadow: none;\n",
              "  }\n",
              "\n",
              "  .colab-df-spinner {\n",
              "    border: 2px solid var(--fill-color);\n",
              "    border-color: transparent;\n",
              "    border-bottom-color: var(--fill-color);\n",
              "    animation:\n",
              "      spin 1s steps(1) infinite;\n",
              "  }\n",
              "\n",
              "  @keyframes spin {\n",
              "    0% {\n",
              "      border-color: transparent;\n",
              "      border-bottom-color: var(--fill-color);\n",
              "      border-left-color: var(--fill-color);\n",
              "    }\n",
              "    20% {\n",
              "      border-color: transparent;\n",
              "      border-left-color: var(--fill-color);\n",
              "      border-top-color: var(--fill-color);\n",
              "    }\n",
              "    30% {\n",
              "      border-color: transparent;\n",
              "      border-left-color: var(--fill-color);\n",
              "      border-top-color: var(--fill-color);\n",
              "      border-right-color: var(--fill-color);\n",
              "    }\n",
              "    40% {\n",
              "      border-color: transparent;\n",
              "      border-right-color: var(--fill-color);\n",
              "      border-top-color: var(--fill-color);\n",
              "    }\n",
              "    60% {\n",
              "      border-color: transparent;\n",
              "      border-right-color: var(--fill-color);\n",
              "    }\n",
              "    80% {\n",
              "      border-color: transparent;\n",
              "      border-right-color: var(--fill-color);\n",
              "      border-bottom-color: var(--fill-color);\n",
              "    }\n",
              "    90% {\n",
              "      border-color: transparent;\n",
              "      border-bottom-color: var(--fill-color);\n",
              "    }\n",
              "  }\n",
              "</style>\n",
              "\n",
              "  <script>\n",
              "    async function quickchart(key) {\n",
              "      const quickchartButtonEl =\n",
              "        document.querySelector('#' + key + ' button');\n",
              "      quickchartButtonEl.disabled = true;  // To prevent multiple clicks.\n",
              "      quickchartButtonEl.classList.add('colab-df-spinner');\n",
              "      try {\n",
              "        const charts = await google.colab.kernel.invokeFunction(\n",
              "            'suggestCharts', [key], {});\n",
              "      } catch (error) {\n",
              "        console.error('Error during call to suggestCharts:', error);\n",
              "      }\n",
              "      quickchartButtonEl.classList.remove('colab-df-spinner');\n",
              "      quickchartButtonEl.classList.add('colab-df-quickchart-complete');\n",
              "    }\n",
              "    (() => {\n",
              "      let quickchartButtonEl =\n",
              "        document.querySelector('#df-fbbbc041-4d2b-494d-b783-4ba4d56fb204 button');\n",
              "      quickchartButtonEl.style.display =\n",
              "        google.colab.kernel.accessAllowed ? 'block' : 'none';\n",
              "    })();\n",
              "  </script>\n",
              "</div>\n",
              "    </div>\n",
              "  </div>\n"
            ]
          },
          "metadata": {},
          "execution_count": 123
        }
      ]
    },
    {
      "cell_type": "markdown",
      "source": [
        "# Visualização dos 5 últimos registros"
      ],
      "metadata": {
        "id": "pD0CNGbfL183"
      }
    },
    {
      "cell_type": "code",
      "source": [
        "ds_salary.tail()"
      ],
      "metadata": {
        "colab": {
          "base_uri": "https://localhost:8080/",
          "height": 206
        },
        "id": "H4fEnhqoU_QO",
        "outputId": "393ab537-776a-4bf2-c7e8-16825ca10686"
      },
      "execution_count": 124,
      "outputs": [
        {
          "output_type": "execute_result",
          "data": {
            "text/plain": [
              "      work_year experience_level employment_type                  job_title  \\\n",
              "3756       2020               SE              FT   Principal Data Scientist   \n",
              "3757       2020               SE              FT             Data Scientist   \n",
              "3758       2020               SE              FT       Data Science Manager   \n",
              "3759       2020               SE              FT  Machine Learning Engineer   \n",
              "3760       2020               SE              FT             Data Scientist   \n",
              "\n",
              "      salary salary_currency  salary_in_usd company_location company_size  \n",
              "3756  130000             EUR         148261               DE            M  \n",
              "3757   80000             EUR          91237               AT            S  \n",
              "3758  190200             USD         190200               US            M  \n",
              "3759   40000             EUR          45618               HR            S  \n",
              "3760  412000             USD         412000               US            L  "
            ],
            "text/html": [
              "\n",
              "  <div id=\"df-8056b057-1c11-4286-b905-094b58a342a7\" class=\"colab-df-container\">\n",
              "    <div>\n",
              "<style scoped>\n",
              "    .dataframe tbody tr th:only-of-type {\n",
              "        vertical-align: middle;\n",
              "    }\n",
              "\n",
              "    .dataframe tbody tr th {\n",
              "        vertical-align: top;\n",
              "    }\n",
              "\n",
              "    .dataframe thead th {\n",
              "        text-align: right;\n",
              "    }\n",
              "</style>\n",
              "<table border=\"1\" class=\"dataframe\">\n",
              "  <thead>\n",
              "    <tr style=\"text-align: right;\">\n",
              "      <th></th>\n",
              "      <th>work_year</th>\n",
              "      <th>experience_level</th>\n",
              "      <th>employment_type</th>\n",
              "      <th>job_title</th>\n",
              "      <th>salary</th>\n",
              "      <th>salary_currency</th>\n",
              "      <th>salary_in_usd</th>\n",
              "      <th>company_location</th>\n",
              "      <th>company_size</th>\n",
              "    </tr>\n",
              "  </thead>\n",
              "  <tbody>\n",
              "    <tr>\n",
              "      <th>3756</th>\n",
              "      <td>2020</td>\n",
              "      <td>SE</td>\n",
              "      <td>FT</td>\n",
              "      <td>Principal Data Scientist</td>\n",
              "      <td>130000</td>\n",
              "      <td>EUR</td>\n",
              "      <td>148261</td>\n",
              "      <td>DE</td>\n",
              "      <td>M</td>\n",
              "    </tr>\n",
              "    <tr>\n",
              "      <th>3757</th>\n",
              "      <td>2020</td>\n",
              "      <td>SE</td>\n",
              "      <td>FT</td>\n",
              "      <td>Data Scientist</td>\n",
              "      <td>80000</td>\n",
              "      <td>EUR</td>\n",
              "      <td>91237</td>\n",
              "      <td>AT</td>\n",
              "      <td>S</td>\n",
              "    </tr>\n",
              "    <tr>\n",
              "      <th>3758</th>\n",
              "      <td>2020</td>\n",
              "      <td>SE</td>\n",
              "      <td>FT</td>\n",
              "      <td>Data Science Manager</td>\n",
              "      <td>190200</td>\n",
              "      <td>USD</td>\n",
              "      <td>190200</td>\n",
              "      <td>US</td>\n",
              "      <td>M</td>\n",
              "    </tr>\n",
              "    <tr>\n",
              "      <th>3759</th>\n",
              "      <td>2020</td>\n",
              "      <td>SE</td>\n",
              "      <td>FT</td>\n",
              "      <td>Machine Learning Engineer</td>\n",
              "      <td>40000</td>\n",
              "      <td>EUR</td>\n",
              "      <td>45618</td>\n",
              "      <td>HR</td>\n",
              "      <td>S</td>\n",
              "    </tr>\n",
              "    <tr>\n",
              "      <th>3760</th>\n",
              "      <td>2020</td>\n",
              "      <td>SE</td>\n",
              "      <td>FT</td>\n",
              "      <td>Data Scientist</td>\n",
              "      <td>412000</td>\n",
              "      <td>USD</td>\n",
              "      <td>412000</td>\n",
              "      <td>US</td>\n",
              "      <td>L</td>\n",
              "    </tr>\n",
              "  </tbody>\n",
              "</table>\n",
              "</div>\n",
              "    <div class=\"colab-df-buttons\">\n",
              "\n",
              "  <div class=\"colab-df-container\">\n",
              "    <button class=\"colab-df-convert\" onclick=\"convertToInteractive('df-8056b057-1c11-4286-b905-094b58a342a7')\"\n",
              "            title=\"Convert this dataframe to an interactive table.\"\n",
              "            style=\"display:none;\">\n",
              "\n",
              "  <svg xmlns=\"http://www.w3.org/2000/svg\" height=\"24px\" viewBox=\"0 -960 960 960\">\n",
              "    <path d=\"M120-120v-720h720v720H120Zm60-500h600v-160H180v160Zm220 220h160v-160H400v160Zm0 220h160v-160H400v160ZM180-400h160v-160H180v160Zm440 0h160v-160H620v160ZM180-180h160v-160H180v160Zm440 0h160v-160H620v160Z\"/>\n",
              "  </svg>\n",
              "    </button>\n",
              "\n",
              "  <style>\n",
              "    .colab-df-container {\n",
              "      display:flex;\n",
              "      gap: 12px;\n",
              "    }\n",
              "\n",
              "    .colab-df-convert {\n",
              "      background-color: #E8F0FE;\n",
              "      border: none;\n",
              "      border-radius: 50%;\n",
              "      cursor: pointer;\n",
              "      display: none;\n",
              "      fill: #1967D2;\n",
              "      height: 32px;\n",
              "      padding: 0 0 0 0;\n",
              "      width: 32px;\n",
              "    }\n",
              "\n",
              "    .colab-df-convert:hover {\n",
              "      background-color: #E2EBFA;\n",
              "      box-shadow: 0px 1px 2px rgba(60, 64, 67, 0.3), 0px 1px 3px 1px rgba(60, 64, 67, 0.15);\n",
              "      fill: #174EA6;\n",
              "    }\n",
              "\n",
              "    .colab-df-buttons div {\n",
              "      margin-bottom: 4px;\n",
              "    }\n",
              "\n",
              "    [theme=dark] .colab-df-convert {\n",
              "      background-color: #3B4455;\n",
              "      fill: #D2E3FC;\n",
              "    }\n",
              "\n",
              "    [theme=dark] .colab-df-convert:hover {\n",
              "      background-color: #434B5C;\n",
              "      box-shadow: 0px 1px 3px 1px rgba(0, 0, 0, 0.15);\n",
              "      filter: drop-shadow(0px 1px 2px rgba(0, 0, 0, 0.3));\n",
              "      fill: #FFFFFF;\n",
              "    }\n",
              "  </style>\n",
              "\n",
              "    <script>\n",
              "      const buttonEl =\n",
              "        document.querySelector('#df-8056b057-1c11-4286-b905-094b58a342a7 button.colab-df-convert');\n",
              "      buttonEl.style.display =\n",
              "        google.colab.kernel.accessAllowed ? 'block' : 'none';\n",
              "\n",
              "      async function convertToInteractive(key) {\n",
              "        const element = document.querySelector('#df-8056b057-1c11-4286-b905-094b58a342a7');\n",
              "        const dataTable =\n",
              "          await google.colab.kernel.invokeFunction('convertToInteractive',\n",
              "                                                    [key], {});\n",
              "        if (!dataTable) return;\n",
              "\n",
              "        const docLinkHtml = 'Like what you see? Visit the ' +\n",
              "          '<a target=\"_blank\" href=https://colab.research.google.com/notebooks/data_table.ipynb>data table notebook</a>'\n",
              "          + ' to learn more about interactive tables.';\n",
              "        element.innerHTML = '';\n",
              "        dataTable['output_type'] = 'display_data';\n",
              "        await google.colab.output.renderOutput(dataTable, element);\n",
              "        const docLink = document.createElement('div');\n",
              "        docLink.innerHTML = docLinkHtml;\n",
              "        element.appendChild(docLink);\n",
              "      }\n",
              "    </script>\n",
              "  </div>\n",
              "\n",
              "\n",
              "<div id=\"df-ea98701f-5395-4b5f-8981-23682af2e7fa\">\n",
              "  <button class=\"colab-df-quickchart\" onclick=\"quickchart('df-ea98701f-5395-4b5f-8981-23682af2e7fa')\"\n",
              "            title=\"Suggest charts\"\n",
              "            style=\"display:none;\">\n",
              "\n",
              "<svg xmlns=\"http://www.w3.org/2000/svg\" height=\"24px\"viewBox=\"0 0 24 24\"\n",
              "     width=\"24px\">\n",
              "    <g>\n",
              "        <path d=\"M19 3H5c-1.1 0-2 .9-2 2v14c0 1.1.9 2 2 2h14c1.1 0 2-.9 2-2V5c0-1.1-.9-2-2-2zM9 17H7v-7h2v7zm4 0h-2V7h2v10zm4 0h-2v-4h2v4z\"/>\n",
              "    </g>\n",
              "</svg>\n",
              "  </button>\n",
              "\n",
              "<style>\n",
              "  .colab-df-quickchart {\n",
              "      --bg-color: #E8F0FE;\n",
              "      --fill-color: #1967D2;\n",
              "      --hover-bg-color: #E2EBFA;\n",
              "      --hover-fill-color: #174EA6;\n",
              "      --disabled-fill-color: #AAA;\n",
              "      --disabled-bg-color: #DDD;\n",
              "  }\n",
              "\n",
              "  [theme=dark] .colab-df-quickchart {\n",
              "      --bg-color: #3B4455;\n",
              "      --fill-color: #D2E3FC;\n",
              "      --hover-bg-color: #434B5C;\n",
              "      --hover-fill-color: #FFFFFF;\n",
              "      --disabled-bg-color: #3B4455;\n",
              "      --disabled-fill-color: #666;\n",
              "  }\n",
              "\n",
              "  .colab-df-quickchart {\n",
              "    background-color: var(--bg-color);\n",
              "    border: none;\n",
              "    border-radius: 50%;\n",
              "    cursor: pointer;\n",
              "    display: none;\n",
              "    fill: var(--fill-color);\n",
              "    height: 32px;\n",
              "    padding: 0;\n",
              "    width: 32px;\n",
              "  }\n",
              "\n",
              "  .colab-df-quickchart:hover {\n",
              "    background-color: var(--hover-bg-color);\n",
              "    box-shadow: 0 1px 2px rgba(60, 64, 67, 0.3), 0 1px 3px 1px rgba(60, 64, 67, 0.15);\n",
              "    fill: var(--button-hover-fill-color);\n",
              "  }\n",
              "\n",
              "  .colab-df-quickchart-complete:disabled,\n",
              "  .colab-df-quickchart-complete:disabled:hover {\n",
              "    background-color: var(--disabled-bg-color);\n",
              "    fill: var(--disabled-fill-color);\n",
              "    box-shadow: none;\n",
              "  }\n",
              "\n",
              "  .colab-df-spinner {\n",
              "    border: 2px solid var(--fill-color);\n",
              "    border-color: transparent;\n",
              "    border-bottom-color: var(--fill-color);\n",
              "    animation:\n",
              "      spin 1s steps(1) infinite;\n",
              "  }\n",
              "\n",
              "  @keyframes spin {\n",
              "    0% {\n",
              "      border-color: transparent;\n",
              "      border-bottom-color: var(--fill-color);\n",
              "      border-left-color: var(--fill-color);\n",
              "    }\n",
              "    20% {\n",
              "      border-color: transparent;\n",
              "      border-left-color: var(--fill-color);\n",
              "      border-top-color: var(--fill-color);\n",
              "    }\n",
              "    30% {\n",
              "      border-color: transparent;\n",
              "      border-left-color: var(--fill-color);\n",
              "      border-top-color: var(--fill-color);\n",
              "      border-right-color: var(--fill-color);\n",
              "    }\n",
              "    40% {\n",
              "      border-color: transparent;\n",
              "      border-right-color: var(--fill-color);\n",
              "      border-top-color: var(--fill-color);\n",
              "    }\n",
              "    60% {\n",
              "      border-color: transparent;\n",
              "      border-right-color: var(--fill-color);\n",
              "    }\n",
              "    80% {\n",
              "      border-color: transparent;\n",
              "      border-right-color: var(--fill-color);\n",
              "      border-bottom-color: var(--fill-color);\n",
              "    }\n",
              "    90% {\n",
              "      border-color: transparent;\n",
              "      border-bottom-color: var(--fill-color);\n",
              "    }\n",
              "  }\n",
              "</style>\n",
              "\n",
              "  <script>\n",
              "    async function quickchart(key) {\n",
              "      const quickchartButtonEl =\n",
              "        document.querySelector('#' + key + ' button');\n",
              "      quickchartButtonEl.disabled = true;  // To prevent multiple clicks.\n",
              "      quickchartButtonEl.classList.add('colab-df-spinner');\n",
              "      try {\n",
              "        const charts = await google.colab.kernel.invokeFunction(\n",
              "            'suggestCharts', [key], {});\n",
              "      } catch (error) {\n",
              "        console.error('Error during call to suggestCharts:', error);\n",
              "      }\n",
              "      quickchartButtonEl.classList.remove('colab-df-spinner');\n",
              "      quickchartButtonEl.classList.add('colab-df-quickchart-complete');\n",
              "    }\n",
              "    (() => {\n",
              "      let quickchartButtonEl =\n",
              "        document.querySelector('#df-ea98701f-5395-4b5f-8981-23682af2e7fa button');\n",
              "      quickchartButtonEl.style.display =\n",
              "        google.colab.kernel.accessAllowed ? 'block' : 'none';\n",
              "    })();\n",
              "  </script>\n",
              "</div>\n",
              "    </div>\n",
              "  </div>\n"
            ]
          },
          "metadata": {},
          "execution_count": 124
        }
      ]
    },
    {
      "cell_type": "code",
      "source": [
        "ds_salary = pd.DataFrame(ds_salary)\n",
        "display(ds_salary)"
      ],
      "metadata": {
        "colab": {
          "base_uri": "https://localhost:8080/",
          "height": 424
        },
        "id": "Qyo2hbaqVfYK",
        "outputId": "de3ea943-b882-4ded-d473-e90fc2a00900"
      },
      "execution_count": 125,
      "outputs": [
        {
          "output_type": "display_data",
          "data": {
            "text/plain": [
              "      work_year experience_level employment_type                  job_title  \\\n",
              "0          2023               EN              FT          Applied Scientist   \n",
              "1          2023               EN              FT          Applied Scientist   \n",
              "2          2023               EN              FT       Data Quality Analyst   \n",
              "3          2023               EN              FT    Compliance Data Analyst   \n",
              "4          2023               EN              FT          Applied Scientist   \n",
              "...         ...              ...             ...                        ...   \n",
              "3756       2020               SE              FT   Principal Data Scientist   \n",
              "3757       2020               SE              FT             Data Scientist   \n",
              "3758       2020               SE              FT       Data Science Manager   \n",
              "3759       2020               SE              FT  Machine Learning Engineer   \n",
              "3760       2020               SE              FT             Data Scientist   \n",
              "\n",
              "      salary salary_currency  salary_in_usd company_location company_size  \n",
              "0     213660             USD         213660               US            L  \n",
              "1     130760             USD         130760               US            L  \n",
              "2     100000             USD         100000               NG            L  \n",
              "3      30000             USD          30000               NG            L  \n",
              "4     204620             USD         204620               US            L  \n",
              "...      ...             ...            ...              ...          ...  \n",
              "3756  130000             EUR         148261               DE            M  \n",
              "3757   80000             EUR          91237               AT            S  \n",
              "3758  190200             USD         190200               US            M  \n",
              "3759   40000             EUR          45618               HR            S  \n",
              "3760  412000             USD         412000               US            L  \n",
              "\n",
              "[3761 rows x 9 columns]"
            ],
            "text/html": [
              "\n",
              "  <div id=\"df-661c180e-0516-4031-bfe3-f244f419815b\" class=\"colab-df-container\">\n",
              "    <div>\n",
              "<style scoped>\n",
              "    .dataframe tbody tr th:only-of-type {\n",
              "        vertical-align: middle;\n",
              "    }\n",
              "\n",
              "    .dataframe tbody tr th {\n",
              "        vertical-align: top;\n",
              "    }\n",
              "\n",
              "    .dataframe thead th {\n",
              "        text-align: right;\n",
              "    }\n",
              "</style>\n",
              "<table border=\"1\" class=\"dataframe\">\n",
              "  <thead>\n",
              "    <tr style=\"text-align: right;\">\n",
              "      <th></th>\n",
              "      <th>work_year</th>\n",
              "      <th>experience_level</th>\n",
              "      <th>employment_type</th>\n",
              "      <th>job_title</th>\n",
              "      <th>salary</th>\n",
              "      <th>salary_currency</th>\n",
              "      <th>salary_in_usd</th>\n",
              "      <th>company_location</th>\n",
              "      <th>company_size</th>\n",
              "    </tr>\n",
              "  </thead>\n",
              "  <tbody>\n",
              "    <tr>\n",
              "      <th>0</th>\n",
              "      <td>2023</td>\n",
              "      <td>EN</td>\n",
              "      <td>FT</td>\n",
              "      <td>Applied Scientist</td>\n",
              "      <td>213660</td>\n",
              "      <td>USD</td>\n",
              "      <td>213660</td>\n",
              "      <td>US</td>\n",
              "      <td>L</td>\n",
              "    </tr>\n",
              "    <tr>\n",
              "      <th>1</th>\n",
              "      <td>2023</td>\n",
              "      <td>EN</td>\n",
              "      <td>FT</td>\n",
              "      <td>Applied Scientist</td>\n",
              "      <td>130760</td>\n",
              "      <td>USD</td>\n",
              "      <td>130760</td>\n",
              "      <td>US</td>\n",
              "      <td>L</td>\n",
              "    </tr>\n",
              "    <tr>\n",
              "      <th>2</th>\n",
              "      <td>2023</td>\n",
              "      <td>EN</td>\n",
              "      <td>FT</td>\n",
              "      <td>Data Quality Analyst</td>\n",
              "      <td>100000</td>\n",
              "      <td>USD</td>\n",
              "      <td>100000</td>\n",
              "      <td>NG</td>\n",
              "      <td>L</td>\n",
              "    </tr>\n",
              "    <tr>\n",
              "      <th>3</th>\n",
              "      <td>2023</td>\n",
              "      <td>EN</td>\n",
              "      <td>FT</td>\n",
              "      <td>Compliance Data Analyst</td>\n",
              "      <td>30000</td>\n",
              "      <td>USD</td>\n",
              "      <td>30000</td>\n",
              "      <td>NG</td>\n",
              "      <td>L</td>\n",
              "    </tr>\n",
              "    <tr>\n",
              "      <th>4</th>\n",
              "      <td>2023</td>\n",
              "      <td>EN</td>\n",
              "      <td>FT</td>\n",
              "      <td>Applied Scientist</td>\n",
              "      <td>204620</td>\n",
              "      <td>USD</td>\n",
              "      <td>204620</td>\n",
              "      <td>US</td>\n",
              "      <td>L</td>\n",
              "    </tr>\n",
              "    <tr>\n",
              "      <th>...</th>\n",
              "      <td>...</td>\n",
              "      <td>...</td>\n",
              "      <td>...</td>\n",
              "      <td>...</td>\n",
              "      <td>...</td>\n",
              "      <td>...</td>\n",
              "      <td>...</td>\n",
              "      <td>...</td>\n",
              "      <td>...</td>\n",
              "    </tr>\n",
              "    <tr>\n",
              "      <th>3756</th>\n",
              "      <td>2020</td>\n",
              "      <td>SE</td>\n",
              "      <td>FT</td>\n",
              "      <td>Principal Data Scientist</td>\n",
              "      <td>130000</td>\n",
              "      <td>EUR</td>\n",
              "      <td>148261</td>\n",
              "      <td>DE</td>\n",
              "      <td>M</td>\n",
              "    </tr>\n",
              "    <tr>\n",
              "      <th>3757</th>\n",
              "      <td>2020</td>\n",
              "      <td>SE</td>\n",
              "      <td>FT</td>\n",
              "      <td>Data Scientist</td>\n",
              "      <td>80000</td>\n",
              "      <td>EUR</td>\n",
              "      <td>91237</td>\n",
              "      <td>AT</td>\n",
              "      <td>S</td>\n",
              "    </tr>\n",
              "    <tr>\n",
              "      <th>3758</th>\n",
              "      <td>2020</td>\n",
              "      <td>SE</td>\n",
              "      <td>FT</td>\n",
              "      <td>Data Science Manager</td>\n",
              "      <td>190200</td>\n",
              "      <td>USD</td>\n",
              "      <td>190200</td>\n",
              "      <td>US</td>\n",
              "      <td>M</td>\n",
              "    </tr>\n",
              "    <tr>\n",
              "      <th>3759</th>\n",
              "      <td>2020</td>\n",
              "      <td>SE</td>\n",
              "      <td>FT</td>\n",
              "      <td>Machine Learning Engineer</td>\n",
              "      <td>40000</td>\n",
              "      <td>EUR</td>\n",
              "      <td>45618</td>\n",
              "      <td>HR</td>\n",
              "      <td>S</td>\n",
              "    </tr>\n",
              "    <tr>\n",
              "      <th>3760</th>\n",
              "      <td>2020</td>\n",
              "      <td>SE</td>\n",
              "      <td>FT</td>\n",
              "      <td>Data Scientist</td>\n",
              "      <td>412000</td>\n",
              "      <td>USD</td>\n",
              "      <td>412000</td>\n",
              "      <td>US</td>\n",
              "      <td>L</td>\n",
              "    </tr>\n",
              "  </tbody>\n",
              "</table>\n",
              "<p>3761 rows × 9 columns</p>\n",
              "</div>\n",
              "    <div class=\"colab-df-buttons\">\n",
              "\n",
              "  <div class=\"colab-df-container\">\n",
              "    <button class=\"colab-df-convert\" onclick=\"convertToInteractive('df-661c180e-0516-4031-bfe3-f244f419815b')\"\n",
              "            title=\"Convert this dataframe to an interactive table.\"\n",
              "            style=\"display:none;\">\n",
              "\n",
              "  <svg xmlns=\"http://www.w3.org/2000/svg\" height=\"24px\" viewBox=\"0 -960 960 960\">\n",
              "    <path d=\"M120-120v-720h720v720H120Zm60-500h600v-160H180v160Zm220 220h160v-160H400v160Zm0 220h160v-160H400v160ZM180-400h160v-160H180v160Zm440 0h160v-160H620v160ZM180-180h160v-160H180v160Zm440 0h160v-160H620v160Z\"/>\n",
              "  </svg>\n",
              "    </button>\n",
              "\n",
              "  <style>\n",
              "    .colab-df-container {\n",
              "      display:flex;\n",
              "      gap: 12px;\n",
              "    }\n",
              "\n",
              "    .colab-df-convert {\n",
              "      background-color: #E8F0FE;\n",
              "      border: none;\n",
              "      border-radius: 50%;\n",
              "      cursor: pointer;\n",
              "      display: none;\n",
              "      fill: #1967D2;\n",
              "      height: 32px;\n",
              "      padding: 0 0 0 0;\n",
              "      width: 32px;\n",
              "    }\n",
              "\n",
              "    .colab-df-convert:hover {\n",
              "      background-color: #E2EBFA;\n",
              "      box-shadow: 0px 1px 2px rgba(60, 64, 67, 0.3), 0px 1px 3px 1px rgba(60, 64, 67, 0.15);\n",
              "      fill: #174EA6;\n",
              "    }\n",
              "\n",
              "    .colab-df-buttons div {\n",
              "      margin-bottom: 4px;\n",
              "    }\n",
              "\n",
              "    [theme=dark] .colab-df-convert {\n",
              "      background-color: #3B4455;\n",
              "      fill: #D2E3FC;\n",
              "    }\n",
              "\n",
              "    [theme=dark] .colab-df-convert:hover {\n",
              "      background-color: #434B5C;\n",
              "      box-shadow: 0px 1px 3px 1px rgba(0, 0, 0, 0.15);\n",
              "      filter: drop-shadow(0px 1px 2px rgba(0, 0, 0, 0.3));\n",
              "      fill: #FFFFFF;\n",
              "    }\n",
              "  </style>\n",
              "\n",
              "    <script>\n",
              "      const buttonEl =\n",
              "        document.querySelector('#df-661c180e-0516-4031-bfe3-f244f419815b button.colab-df-convert');\n",
              "      buttonEl.style.display =\n",
              "        google.colab.kernel.accessAllowed ? 'block' : 'none';\n",
              "\n",
              "      async function convertToInteractive(key) {\n",
              "        const element = document.querySelector('#df-661c180e-0516-4031-bfe3-f244f419815b');\n",
              "        const dataTable =\n",
              "          await google.colab.kernel.invokeFunction('convertToInteractive',\n",
              "                                                    [key], {});\n",
              "        if (!dataTable) return;\n",
              "\n",
              "        const docLinkHtml = 'Like what you see? Visit the ' +\n",
              "          '<a target=\"_blank\" href=https://colab.research.google.com/notebooks/data_table.ipynb>data table notebook</a>'\n",
              "          + ' to learn more about interactive tables.';\n",
              "        element.innerHTML = '';\n",
              "        dataTable['output_type'] = 'display_data';\n",
              "        await google.colab.output.renderOutput(dataTable, element);\n",
              "        const docLink = document.createElement('div');\n",
              "        docLink.innerHTML = docLinkHtml;\n",
              "        element.appendChild(docLink);\n",
              "      }\n",
              "    </script>\n",
              "  </div>\n",
              "\n",
              "\n",
              "<div id=\"df-5d51951f-c9a3-46f5-bc92-47afd3e557bc\">\n",
              "  <button class=\"colab-df-quickchart\" onclick=\"quickchart('df-5d51951f-c9a3-46f5-bc92-47afd3e557bc')\"\n",
              "            title=\"Suggest charts\"\n",
              "            style=\"display:none;\">\n",
              "\n",
              "<svg xmlns=\"http://www.w3.org/2000/svg\" height=\"24px\"viewBox=\"0 0 24 24\"\n",
              "     width=\"24px\">\n",
              "    <g>\n",
              "        <path d=\"M19 3H5c-1.1 0-2 .9-2 2v14c0 1.1.9 2 2 2h14c1.1 0 2-.9 2-2V5c0-1.1-.9-2-2-2zM9 17H7v-7h2v7zm4 0h-2V7h2v10zm4 0h-2v-4h2v4z\"/>\n",
              "    </g>\n",
              "</svg>\n",
              "  </button>\n",
              "\n",
              "<style>\n",
              "  .colab-df-quickchart {\n",
              "      --bg-color: #E8F0FE;\n",
              "      --fill-color: #1967D2;\n",
              "      --hover-bg-color: #E2EBFA;\n",
              "      --hover-fill-color: #174EA6;\n",
              "      --disabled-fill-color: #AAA;\n",
              "      --disabled-bg-color: #DDD;\n",
              "  }\n",
              "\n",
              "  [theme=dark] .colab-df-quickchart {\n",
              "      --bg-color: #3B4455;\n",
              "      --fill-color: #D2E3FC;\n",
              "      --hover-bg-color: #434B5C;\n",
              "      --hover-fill-color: #FFFFFF;\n",
              "      --disabled-bg-color: #3B4455;\n",
              "      --disabled-fill-color: #666;\n",
              "  }\n",
              "\n",
              "  .colab-df-quickchart {\n",
              "    background-color: var(--bg-color);\n",
              "    border: none;\n",
              "    border-radius: 50%;\n",
              "    cursor: pointer;\n",
              "    display: none;\n",
              "    fill: var(--fill-color);\n",
              "    height: 32px;\n",
              "    padding: 0;\n",
              "    width: 32px;\n",
              "  }\n",
              "\n",
              "  .colab-df-quickchart:hover {\n",
              "    background-color: var(--hover-bg-color);\n",
              "    box-shadow: 0 1px 2px rgba(60, 64, 67, 0.3), 0 1px 3px 1px rgba(60, 64, 67, 0.15);\n",
              "    fill: var(--button-hover-fill-color);\n",
              "  }\n",
              "\n",
              "  .colab-df-quickchart-complete:disabled,\n",
              "  .colab-df-quickchart-complete:disabled:hover {\n",
              "    background-color: var(--disabled-bg-color);\n",
              "    fill: var(--disabled-fill-color);\n",
              "    box-shadow: none;\n",
              "  }\n",
              "\n",
              "  .colab-df-spinner {\n",
              "    border: 2px solid var(--fill-color);\n",
              "    border-color: transparent;\n",
              "    border-bottom-color: var(--fill-color);\n",
              "    animation:\n",
              "      spin 1s steps(1) infinite;\n",
              "  }\n",
              "\n",
              "  @keyframes spin {\n",
              "    0% {\n",
              "      border-color: transparent;\n",
              "      border-bottom-color: var(--fill-color);\n",
              "      border-left-color: var(--fill-color);\n",
              "    }\n",
              "    20% {\n",
              "      border-color: transparent;\n",
              "      border-left-color: var(--fill-color);\n",
              "      border-top-color: var(--fill-color);\n",
              "    }\n",
              "    30% {\n",
              "      border-color: transparent;\n",
              "      border-left-color: var(--fill-color);\n",
              "      border-top-color: var(--fill-color);\n",
              "      border-right-color: var(--fill-color);\n",
              "    }\n",
              "    40% {\n",
              "      border-color: transparent;\n",
              "      border-right-color: var(--fill-color);\n",
              "      border-top-color: var(--fill-color);\n",
              "    }\n",
              "    60% {\n",
              "      border-color: transparent;\n",
              "      border-right-color: var(--fill-color);\n",
              "    }\n",
              "    80% {\n",
              "      border-color: transparent;\n",
              "      border-right-color: var(--fill-color);\n",
              "      border-bottom-color: var(--fill-color);\n",
              "    }\n",
              "    90% {\n",
              "      border-color: transparent;\n",
              "      border-bottom-color: var(--fill-color);\n",
              "    }\n",
              "  }\n",
              "</style>\n",
              "\n",
              "  <script>\n",
              "    async function quickchart(key) {\n",
              "      const quickchartButtonEl =\n",
              "        document.querySelector('#' + key + ' button');\n",
              "      quickchartButtonEl.disabled = true;  // To prevent multiple clicks.\n",
              "      quickchartButtonEl.classList.add('colab-df-spinner');\n",
              "      try {\n",
              "        const charts = await google.colab.kernel.invokeFunction(\n",
              "            'suggestCharts', [key], {});\n",
              "      } catch (error) {\n",
              "        console.error('Error during call to suggestCharts:', error);\n",
              "      }\n",
              "      quickchartButtonEl.classList.remove('colab-df-spinner');\n",
              "      quickchartButtonEl.classList.add('colab-df-quickchart-complete');\n",
              "    }\n",
              "    (() => {\n",
              "      let quickchartButtonEl =\n",
              "        document.querySelector('#df-5d51951f-c9a3-46f5-bc92-47afd3e557bc button');\n",
              "      quickchartButtonEl.style.display =\n",
              "        google.colab.kernel.accessAllowed ? 'block' : 'none';\n",
              "    })();\n",
              "  </script>\n",
              "</div>\n",
              "    </div>\n",
              "  </div>\n"
            ]
          },
          "metadata": {}
        }
      ]
    },
    {
      "cell_type": "markdown",
      "source": [
        "# Limpeza de dados\n",
        "Retirando os dados duplicados."
      ],
      "metadata": {
        "id": "WQNV0HZgLa0Y"
      }
    },
    {
      "cell_type": "code",
      "source": [
        "ds_salary.info()"
      ],
      "metadata": {
        "id": "mlMJmuo60sJW",
        "outputId": "0e28d1a1-3d0e-4425-e020-2b513404f377",
        "colab": {
          "base_uri": "https://localhost:8080/"
        }
      },
      "execution_count": 126,
      "outputs": [
        {
          "output_type": "stream",
          "name": "stdout",
          "text": [
            "<class 'pandas.core.frame.DataFrame'>\n",
            "RangeIndex: 3761 entries, 0 to 3760\n",
            "Data columns (total 9 columns):\n",
            " #   Column            Non-Null Count  Dtype \n",
            "---  ------            --------------  ----- \n",
            " 0   work_year         3761 non-null   int64 \n",
            " 1   experience_level  3761 non-null   object\n",
            " 2   employment_type   3761 non-null   object\n",
            " 3   job_title         3761 non-null   object\n",
            " 4   salary            3761 non-null   int64 \n",
            " 5   salary_currency   3761 non-null   object\n",
            " 6   salary_in_usd     3761 non-null   int64 \n",
            " 7   company_location  3761 non-null   object\n",
            " 8   company_size      3761 non-null   object\n",
            "dtypes: int64(3), object(6)\n",
            "memory usage: 264.6+ KB\n"
          ]
        }
      ]
    },
    {
      "cell_type": "code",
      "source": [
        "ds_salary = ds_salary.drop_duplicates()\n",
        "display(ds_salary)"
      ],
      "metadata": {
        "colab": {
          "base_uri": "https://localhost:8080/",
          "height": 424
        },
        "id": "gqqIn2KyXRwc",
        "outputId": "7f280e79-a124-425f-9004-ec9a0e0d6d54"
      },
      "execution_count": 127,
      "outputs": [
        {
          "output_type": "display_data",
          "data": {
            "text/plain": [
              "      work_year experience_level employment_type                  job_title  \\\n",
              "0          2023               EN              FT          Applied Scientist   \n",
              "1          2023               EN              FT          Applied Scientist   \n",
              "2          2023               EN              FT       Data Quality Analyst   \n",
              "3          2023               EN              FT    Compliance Data Analyst   \n",
              "4          2023               EN              FT          Applied Scientist   \n",
              "...         ...              ...             ...                        ...   \n",
              "3756       2020               SE              FT   Principal Data Scientist   \n",
              "3757       2020               SE              FT             Data Scientist   \n",
              "3758       2020               SE              FT       Data Science Manager   \n",
              "3759       2020               SE              FT  Machine Learning Engineer   \n",
              "3760       2020               SE              FT             Data Scientist   \n",
              "\n",
              "      salary salary_currency  salary_in_usd company_location company_size  \n",
              "0     213660             USD         213660               US            L  \n",
              "1     130760             USD         130760               US            L  \n",
              "2     100000             USD         100000               NG            L  \n",
              "3      30000             USD          30000               NG            L  \n",
              "4     204620             USD         204620               US            L  \n",
              "...      ...             ...            ...              ...          ...  \n",
              "3756  130000             EUR         148261               DE            M  \n",
              "3757   80000             EUR          91237               AT            S  \n",
              "3758  190200             USD         190200               US            M  \n",
              "3759   40000             EUR          45618               HR            S  \n",
              "3760  412000             USD         412000               US            L  \n",
              "\n",
              "[2410 rows x 9 columns]"
            ],
            "text/html": [
              "\n",
              "  <div id=\"df-4711bfc3-dbc2-4e14-8fc7-0fc5d1c2e932\" class=\"colab-df-container\">\n",
              "    <div>\n",
              "<style scoped>\n",
              "    .dataframe tbody tr th:only-of-type {\n",
              "        vertical-align: middle;\n",
              "    }\n",
              "\n",
              "    .dataframe tbody tr th {\n",
              "        vertical-align: top;\n",
              "    }\n",
              "\n",
              "    .dataframe thead th {\n",
              "        text-align: right;\n",
              "    }\n",
              "</style>\n",
              "<table border=\"1\" class=\"dataframe\">\n",
              "  <thead>\n",
              "    <tr style=\"text-align: right;\">\n",
              "      <th></th>\n",
              "      <th>work_year</th>\n",
              "      <th>experience_level</th>\n",
              "      <th>employment_type</th>\n",
              "      <th>job_title</th>\n",
              "      <th>salary</th>\n",
              "      <th>salary_currency</th>\n",
              "      <th>salary_in_usd</th>\n",
              "      <th>company_location</th>\n",
              "      <th>company_size</th>\n",
              "    </tr>\n",
              "  </thead>\n",
              "  <tbody>\n",
              "    <tr>\n",
              "      <th>0</th>\n",
              "      <td>2023</td>\n",
              "      <td>EN</td>\n",
              "      <td>FT</td>\n",
              "      <td>Applied Scientist</td>\n",
              "      <td>213660</td>\n",
              "      <td>USD</td>\n",
              "      <td>213660</td>\n",
              "      <td>US</td>\n",
              "      <td>L</td>\n",
              "    </tr>\n",
              "    <tr>\n",
              "      <th>1</th>\n",
              "      <td>2023</td>\n",
              "      <td>EN</td>\n",
              "      <td>FT</td>\n",
              "      <td>Applied Scientist</td>\n",
              "      <td>130760</td>\n",
              "      <td>USD</td>\n",
              "      <td>130760</td>\n",
              "      <td>US</td>\n",
              "      <td>L</td>\n",
              "    </tr>\n",
              "    <tr>\n",
              "      <th>2</th>\n",
              "      <td>2023</td>\n",
              "      <td>EN</td>\n",
              "      <td>FT</td>\n",
              "      <td>Data Quality Analyst</td>\n",
              "      <td>100000</td>\n",
              "      <td>USD</td>\n",
              "      <td>100000</td>\n",
              "      <td>NG</td>\n",
              "      <td>L</td>\n",
              "    </tr>\n",
              "    <tr>\n",
              "      <th>3</th>\n",
              "      <td>2023</td>\n",
              "      <td>EN</td>\n",
              "      <td>FT</td>\n",
              "      <td>Compliance Data Analyst</td>\n",
              "      <td>30000</td>\n",
              "      <td>USD</td>\n",
              "      <td>30000</td>\n",
              "      <td>NG</td>\n",
              "      <td>L</td>\n",
              "    </tr>\n",
              "    <tr>\n",
              "      <th>4</th>\n",
              "      <td>2023</td>\n",
              "      <td>EN</td>\n",
              "      <td>FT</td>\n",
              "      <td>Applied Scientist</td>\n",
              "      <td>204620</td>\n",
              "      <td>USD</td>\n",
              "      <td>204620</td>\n",
              "      <td>US</td>\n",
              "      <td>L</td>\n",
              "    </tr>\n",
              "    <tr>\n",
              "      <th>...</th>\n",
              "      <td>...</td>\n",
              "      <td>...</td>\n",
              "      <td>...</td>\n",
              "      <td>...</td>\n",
              "      <td>...</td>\n",
              "      <td>...</td>\n",
              "      <td>...</td>\n",
              "      <td>...</td>\n",
              "      <td>...</td>\n",
              "    </tr>\n",
              "    <tr>\n",
              "      <th>3756</th>\n",
              "      <td>2020</td>\n",
              "      <td>SE</td>\n",
              "      <td>FT</td>\n",
              "      <td>Principal Data Scientist</td>\n",
              "      <td>130000</td>\n",
              "      <td>EUR</td>\n",
              "      <td>148261</td>\n",
              "      <td>DE</td>\n",
              "      <td>M</td>\n",
              "    </tr>\n",
              "    <tr>\n",
              "      <th>3757</th>\n",
              "      <td>2020</td>\n",
              "      <td>SE</td>\n",
              "      <td>FT</td>\n",
              "      <td>Data Scientist</td>\n",
              "      <td>80000</td>\n",
              "      <td>EUR</td>\n",
              "      <td>91237</td>\n",
              "      <td>AT</td>\n",
              "      <td>S</td>\n",
              "    </tr>\n",
              "    <tr>\n",
              "      <th>3758</th>\n",
              "      <td>2020</td>\n",
              "      <td>SE</td>\n",
              "      <td>FT</td>\n",
              "      <td>Data Science Manager</td>\n",
              "      <td>190200</td>\n",
              "      <td>USD</td>\n",
              "      <td>190200</td>\n",
              "      <td>US</td>\n",
              "      <td>M</td>\n",
              "    </tr>\n",
              "    <tr>\n",
              "      <th>3759</th>\n",
              "      <td>2020</td>\n",
              "      <td>SE</td>\n",
              "      <td>FT</td>\n",
              "      <td>Machine Learning Engineer</td>\n",
              "      <td>40000</td>\n",
              "      <td>EUR</td>\n",
              "      <td>45618</td>\n",
              "      <td>HR</td>\n",
              "      <td>S</td>\n",
              "    </tr>\n",
              "    <tr>\n",
              "      <th>3760</th>\n",
              "      <td>2020</td>\n",
              "      <td>SE</td>\n",
              "      <td>FT</td>\n",
              "      <td>Data Scientist</td>\n",
              "      <td>412000</td>\n",
              "      <td>USD</td>\n",
              "      <td>412000</td>\n",
              "      <td>US</td>\n",
              "      <td>L</td>\n",
              "    </tr>\n",
              "  </tbody>\n",
              "</table>\n",
              "<p>2410 rows × 9 columns</p>\n",
              "</div>\n",
              "    <div class=\"colab-df-buttons\">\n",
              "\n",
              "  <div class=\"colab-df-container\">\n",
              "    <button class=\"colab-df-convert\" onclick=\"convertToInteractive('df-4711bfc3-dbc2-4e14-8fc7-0fc5d1c2e932')\"\n",
              "            title=\"Convert this dataframe to an interactive table.\"\n",
              "            style=\"display:none;\">\n",
              "\n",
              "  <svg xmlns=\"http://www.w3.org/2000/svg\" height=\"24px\" viewBox=\"0 -960 960 960\">\n",
              "    <path d=\"M120-120v-720h720v720H120Zm60-500h600v-160H180v160Zm220 220h160v-160H400v160Zm0 220h160v-160H400v160ZM180-400h160v-160H180v160Zm440 0h160v-160H620v160ZM180-180h160v-160H180v160Zm440 0h160v-160H620v160Z\"/>\n",
              "  </svg>\n",
              "    </button>\n",
              "\n",
              "  <style>\n",
              "    .colab-df-container {\n",
              "      display:flex;\n",
              "      gap: 12px;\n",
              "    }\n",
              "\n",
              "    .colab-df-convert {\n",
              "      background-color: #E8F0FE;\n",
              "      border: none;\n",
              "      border-radius: 50%;\n",
              "      cursor: pointer;\n",
              "      display: none;\n",
              "      fill: #1967D2;\n",
              "      height: 32px;\n",
              "      padding: 0 0 0 0;\n",
              "      width: 32px;\n",
              "    }\n",
              "\n",
              "    .colab-df-convert:hover {\n",
              "      background-color: #E2EBFA;\n",
              "      box-shadow: 0px 1px 2px rgba(60, 64, 67, 0.3), 0px 1px 3px 1px rgba(60, 64, 67, 0.15);\n",
              "      fill: #174EA6;\n",
              "    }\n",
              "\n",
              "    .colab-df-buttons div {\n",
              "      margin-bottom: 4px;\n",
              "    }\n",
              "\n",
              "    [theme=dark] .colab-df-convert {\n",
              "      background-color: #3B4455;\n",
              "      fill: #D2E3FC;\n",
              "    }\n",
              "\n",
              "    [theme=dark] .colab-df-convert:hover {\n",
              "      background-color: #434B5C;\n",
              "      box-shadow: 0px 1px 3px 1px rgba(0, 0, 0, 0.15);\n",
              "      filter: drop-shadow(0px 1px 2px rgba(0, 0, 0, 0.3));\n",
              "      fill: #FFFFFF;\n",
              "    }\n",
              "  </style>\n",
              "\n",
              "    <script>\n",
              "      const buttonEl =\n",
              "        document.querySelector('#df-4711bfc3-dbc2-4e14-8fc7-0fc5d1c2e932 button.colab-df-convert');\n",
              "      buttonEl.style.display =\n",
              "        google.colab.kernel.accessAllowed ? 'block' : 'none';\n",
              "\n",
              "      async function convertToInteractive(key) {\n",
              "        const element = document.querySelector('#df-4711bfc3-dbc2-4e14-8fc7-0fc5d1c2e932');\n",
              "        const dataTable =\n",
              "          await google.colab.kernel.invokeFunction('convertToInteractive',\n",
              "                                                    [key], {});\n",
              "        if (!dataTable) return;\n",
              "\n",
              "        const docLinkHtml = 'Like what you see? Visit the ' +\n",
              "          '<a target=\"_blank\" href=https://colab.research.google.com/notebooks/data_table.ipynb>data table notebook</a>'\n",
              "          + ' to learn more about interactive tables.';\n",
              "        element.innerHTML = '';\n",
              "        dataTable['output_type'] = 'display_data';\n",
              "        await google.colab.output.renderOutput(dataTable, element);\n",
              "        const docLink = document.createElement('div');\n",
              "        docLink.innerHTML = docLinkHtml;\n",
              "        element.appendChild(docLink);\n",
              "      }\n",
              "    </script>\n",
              "  </div>\n",
              "\n",
              "\n",
              "<div id=\"df-edfb4e0c-8fe0-431c-824e-05be9067a85a\">\n",
              "  <button class=\"colab-df-quickchart\" onclick=\"quickchart('df-edfb4e0c-8fe0-431c-824e-05be9067a85a')\"\n",
              "            title=\"Suggest charts\"\n",
              "            style=\"display:none;\">\n",
              "\n",
              "<svg xmlns=\"http://www.w3.org/2000/svg\" height=\"24px\"viewBox=\"0 0 24 24\"\n",
              "     width=\"24px\">\n",
              "    <g>\n",
              "        <path d=\"M19 3H5c-1.1 0-2 .9-2 2v14c0 1.1.9 2 2 2h14c1.1 0 2-.9 2-2V5c0-1.1-.9-2-2-2zM9 17H7v-7h2v7zm4 0h-2V7h2v10zm4 0h-2v-4h2v4z\"/>\n",
              "    </g>\n",
              "</svg>\n",
              "  </button>\n",
              "\n",
              "<style>\n",
              "  .colab-df-quickchart {\n",
              "      --bg-color: #E8F0FE;\n",
              "      --fill-color: #1967D2;\n",
              "      --hover-bg-color: #E2EBFA;\n",
              "      --hover-fill-color: #174EA6;\n",
              "      --disabled-fill-color: #AAA;\n",
              "      --disabled-bg-color: #DDD;\n",
              "  }\n",
              "\n",
              "  [theme=dark] .colab-df-quickchart {\n",
              "      --bg-color: #3B4455;\n",
              "      --fill-color: #D2E3FC;\n",
              "      --hover-bg-color: #434B5C;\n",
              "      --hover-fill-color: #FFFFFF;\n",
              "      --disabled-bg-color: #3B4455;\n",
              "      --disabled-fill-color: #666;\n",
              "  }\n",
              "\n",
              "  .colab-df-quickchart {\n",
              "    background-color: var(--bg-color);\n",
              "    border: none;\n",
              "    border-radius: 50%;\n",
              "    cursor: pointer;\n",
              "    display: none;\n",
              "    fill: var(--fill-color);\n",
              "    height: 32px;\n",
              "    padding: 0;\n",
              "    width: 32px;\n",
              "  }\n",
              "\n",
              "  .colab-df-quickchart:hover {\n",
              "    background-color: var(--hover-bg-color);\n",
              "    box-shadow: 0 1px 2px rgba(60, 64, 67, 0.3), 0 1px 3px 1px rgba(60, 64, 67, 0.15);\n",
              "    fill: var(--button-hover-fill-color);\n",
              "  }\n",
              "\n",
              "  .colab-df-quickchart-complete:disabled,\n",
              "  .colab-df-quickchart-complete:disabled:hover {\n",
              "    background-color: var(--disabled-bg-color);\n",
              "    fill: var(--disabled-fill-color);\n",
              "    box-shadow: none;\n",
              "  }\n",
              "\n",
              "  .colab-df-spinner {\n",
              "    border: 2px solid var(--fill-color);\n",
              "    border-color: transparent;\n",
              "    border-bottom-color: var(--fill-color);\n",
              "    animation:\n",
              "      spin 1s steps(1) infinite;\n",
              "  }\n",
              "\n",
              "  @keyframes spin {\n",
              "    0% {\n",
              "      border-color: transparent;\n",
              "      border-bottom-color: var(--fill-color);\n",
              "      border-left-color: var(--fill-color);\n",
              "    }\n",
              "    20% {\n",
              "      border-color: transparent;\n",
              "      border-left-color: var(--fill-color);\n",
              "      border-top-color: var(--fill-color);\n",
              "    }\n",
              "    30% {\n",
              "      border-color: transparent;\n",
              "      border-left-color: var(--fill-color);\n",
              "      border-top-color: var(--fill-color);\n",
              "      border-right-color: var(--fill-color);\n",
              "    }\n",
              "    40% {\n",
              "      border-color: transparent;\n",
              "      border-right-color: var(--fill-color);\n",
              "      border-top-color: var(--fill-color);\n",
              "    }\n",
              "    60% {\n",
              "      border-color: transparent;\n",
              "      border-right-color: var(--fill-color);\n",
              "    }\n",
              "    80% {\n",
              "      border-color: transparent;\n",
              "      border-right-color: var(--fill-color);\n",
              "      border-bottom-color: var(--fill-color);\n",
              "    }\n",
              "    90% {\n",
              "      border-color: transparent;\n",
              "      border-bottom-color: var(--fill-color);\n",
              "    }\n",
              "  }\n",
              "</style>\n",
              "\n",
              "  <script>\n",
              "    async function quickchart(key) {\n",
              "      const quickchartButtonEl =\n",
              "        document.querySelector('#' + key + ' button');\n",
              "      quickchartButtonEl.disabled = true;  // To prevent multiple clicks.\n",
              "      quickchartButtonEl.classList.add('colab-df-spinner');\n",
              "      try {\n",
              "        const charts = await google.colab.kernel.invokeFunction(\n",
              "            'suggestCharts', [key], {});\n",
              "      } catch (error) {\n",
              "        console.error('Error during call to suggestCharts:', error);\n",
              "      }\n",
              "      quickchartButtonEl.classList.remove('colab-df-spinner');\n",
              "      quickchartButtonEl.classList.add('colab-df-quickchart-complete');\n",
              "    }\n",
              "    (() => {\n",
              "      let quickchartButtonEl =\n",
              "        document.querySelector('#df-edfb4e0c-8fe0-431c-824e-05be9067a85a button');\n",
              "      quickchartButtonEl.style.display =\n",
              "        google.colab.kernel.accessAllowed ? 'block' : 'none';\n",
              "    })();\n",
              "  </script>\n",
              "</div>\n",
              "    </div>\n",
              "  </div>\n"
            ]
          },
          "metadata": {}
        }
      ]
    },
    {
      "cell_type": "markdown",
      "source": [
        "1.work_year: O ano em que a remuneração pelo trabalho foi registrada.\n",
        "\n",
        "2.experience_level: O nível de experiência associado ao cargo, classificado da seguinte forma:\n",
        "EN (Entry Level): Iniciante\n",
        "MI (Mid Level): Intermediário\n",
        "SE (Senior): Sênior\n",
        "EX (Executive): Executivo (cargos de liderança e/ou chefia).\n",
        "\n",
        "3.employment_type: O tipo de vínculo empregatício, determinado pela carga horária, incluindo:\n",
        "FT (Full Time): Período Integral\n",
        "PT (Partial Time): Meio Período\n",
        "CT (Contract): Contrato definido - apenas durante a vigência do projeto\n",
        "FL (Freelancer).\n",
        "\n",
        "4.job_title: O título do cargo ocupado pelo profissional.\n",
        "\n",
        "5.salary: A remuneração total do profissional.\n",
        "\n",
        "6.salary_currency: A moeda na qual o salário está registrado.\n",
        "\n",
        "7.salary_in_usd: O salário convertido para dólares americanos.\n",
        "\n",
        "8.company_location: O país onde a empresa empregadora está sediada.\n",
        "\n",
        "9.company_size: O tamanho da empresa com base no número de funcionários, classificado como:\n",
        "S (Small): Pequena\n",
        "M (Medium): Média\n",
        "L (Large): Grande.\n",
        "\n",
        "\n",
        "\n",
        "\n",
        "\n"
      ],
      "metadata": {
        "id": "xUhNgzZaG34Z"
      }
    },
    {
      "cell_type": "markdown",
      "source": [
        "# Retirando NaN.\n",
        "\n"
      ],
      "metadata": {
        "id": "lvwyQvHeL7ok"
      }
    },
    {
      "cell_type": "code",
      "source": [
        "#ds_salary = ds_salary.replace([float('NaN')],'-')\n",
        "ds_salary = ds_salary.dropna()\n",
        "display(ds_salary)"
      ],
      "metadata": {
        "colab": {
          "base_uri": "https://localhost:8080/",
          "height": 424
        },
        "id": "CA7OD9mMYYPq",
        "outputId": "1c2d757f-c11c-4c48-9155-548cbd7e5f68"
      },
      "execution_count": 128,
      "outputs": [
        {
          "output_type": "display_data",
          "data": {
            "text/plain": [
              "      work_year experience_level employment_type                  job_title  \\\n",
              "0          2023               EN              FT          Applied Scientist   \n",
              "1          2023               EN              FT          Applied Scientist   \n",
              "2          2023               EN              FT       Data Quality Analyst   \n",
              "3          2023               EN              FT    Compliance Data Analyst   \n",
              "4          2023               EN              FT          Applied Scientist   \n",
              "...         ...              ...             ...                        ...   \n",
              "3756       2020               SE              FT   Principal Data Scientist   \n",
              "3757       2020               SE              FT             Data Scientist   \n",
              "3758       2020               SE              FT       Data Science Manager   \n",
              "3759       2020               SE              FT  Machine Learning Engineer   \n",
              "3760       2020               SE              FT             Data Scientist   \n",
              "\n",
              "      salary salary_currency  salary_in_usd company_location company_size  \n",
              "0     213660             USD         213660               US            L  \n",
              "1     130760             USD         130760               US            L  \n",
              "2     100000             USD         100000               NG            L  \n",
              "3      30000             USD          30000               NG            L  \n",
              "4     204620             USD         204620               US            L  \n",
              "...      ...             ...            ...              ...          ...  \n",
              "3756  130000             EUR         148261               DE            M  \n",
              "3757   80000             EUR          91237               AT            S  \n",
              "3758  190200             USD         190200               US            M  \n",
              "3759   40000             EUR          45618               HR            S  \n",
              "3760  412000             USD         412000               US            L  \n",
              "\n",
              "[2410 rows x 9 columns]"
            ],
            "text/html": [
              "\n",
              "  <div id=\"df-ff73cb07-f360-4a09-b36f-fc1ecbaf7e71\" class=\"colab-df-container\">\n",
              "    <div>\n",
              "<style scoped>\n",
              "    .dataframe tbody tr th:only-of-type {\n",
              "        vertical-align: middle;\n",
              "    }\n",
              "\n",
              "    .dataframe tbody tr th {\n",
              "        vertical-align: top;\n",
              "    }\n",
              "\n",
              "    .dataframe thead th {\n",
              "        text-align: right;\n",
              "    }\n",
              "</style>\n",
              "<table border=\"1\" class=\"dataframe\">\n",
              "  <thead>\n",
              "    <tr style=\"text-align: right;\">\n",
              "      <th></th>\n",
              "      <th>work_year</th>\n",
              "      <th>experience_level</th>\n",
              "      <th>employment_type</th>\n",
              "      <th>job_title</th>\n",
              "      <th>salary</th>\n",
              "      <th>salary_currency</th>\n",
              "      <th>salary_in_usd</th>\n",
              "      <th>company_location</th>\n",
              "      <th>company_size</th>\n",
              "    </tr>\n",
              "  </thead>\n",
              "  <tbody>\n",
              "    <tr>\n",
              "      <th>0</th>\n",
              "      <td>2023</td>\n",
              "      <td>EN</td>\n",
              "      <td>FT</td>\n",
              "      <td>Applied Scientist</td>\n",
              "      <td>213660</td>\n",
              "      <td>USD</td>\n",
              "      <td>213660</td>\n",
              "      <td>US</td>\n",
              "      <td>L</td>\n",
              "    </tr>\n",
              "    <tr>\n",
              "      <th>1</th>\n",
              "      <td>2023</td>\n",
              "      <td>EN</td>\n",
              "      <td>FT</td>\n",
              "      <td>Applied Scientist</td>\n",
              "      <td>130760</td>\n",
              "      <td>USD</td>\n",
              "      <td>130760</td>\n",
              "      <td>US</td>\n",
              "      <td>L</td>\n",
              "    </tr>\n",
              "    <tr>\n",
              "      <th>2</th>\n",
              "      <td>2023</td>\n",
              "      <td>EN</td>\n",
              "      <td>FT</td>\n",
              "      <td>Data Quality Analyst</td>\n",
              "      <td>100000</td>\n",
              "      <td>USD</td>\n",
              "      <td>100000</td>\n",
              "      <td>NG</td>\n",
              "      <td>L</td>\n",
              "    </tr>\n",
              "    <tr>\n",
              "      <th>3</th>\n",
              "      <td>2023</td>\n",
              "      <td>EN</td>\n",
              "      <td>FT</td>\n",
              "      <td>Compliance Data Analyst</td>\n",
              "      <td>30000</td>\n",
              "      <td>USD</td>\n",
              "      <td>30000</td>\n",
              "      <td>NG</td>\n",
              "      <td>L</td>\n",
              "    </tr>\n",
              "    <tr>\n",
              "      <th>4</th>\n",
              "      <td>2023</td>\n",
              "      <td>EN</td>\n",
              "      <td>FT</td>\n",
              "      <td>Applied Scientist</td>\n",
              "      <td>204620</td>\n",
              "      <td>USD</td>\n",
              "      <td>204620</td>\n",
              "      <td>US</td>\n",
              "      <td>L</td>\n",
              "    </tr>\n",
              "    <tr>\n",
              "      <th>...</th>\n",
              "      <td>...</td>\n",
              "      <td>...</td>\n",
              "      <td>...</td>\n",
              "      <td>...</td>\n",
              "      <td>...</td>\n",
              "      <td>...</td>\n",
              "      <td>...</td>\n",
              "      <td>...</td>\n",
              "      <td>...</td>\n",
              "    </tr>\n",
              "    <tr>\n",
              "      <th>3756</th>\n",
              "      <td>2020</td>\n",
              "      <td>SE</td>\n",
              "      <td>FT</td>\n",
              "      <td>Principal Data Scientist</td>\n",
              "      <td>130000</td>\n",
              "      <td>EUR</td>\n",
              "      <td>148261</td>\n",
              "      <td>DE</td>\n",
              "      <td>M</td>\n",
              "    </tr>\n",
              "    <tr>\n",
              "      <th>3757</th>\n",
              "      <td>2020</td>\n",
              "      <td>SE</td>\n",
              "      <td>FT</td>\n",
              "      <td>Data Scientist</td>\n",
              "      <td>80000</td>\n",
              "      <td>EUR</td>\n",
              "      <td>91237</td>\n",
              "      <td>AT</td>\n",
              "      <td>S</td>\n",
              "    </tr>\n",
              "    <tr>\n",
              "      <th>3758</th>\n",
              "      <td>2020</td>\n",
              "      <td>SE</td>\n",
              "      <td>FT</td>\n",
              "      <td>Data Science Manager</td>\n",
              "      <td>190200</td>\n",
              "      <td>USD</td>\n",
              "      <td>190200</td>\n",
              "      <td>US</td>\n",
              "      <td>M</td>\n",
              "    </tr>\n",
              "    <tr>\n",
              "      <th>3759</th>\n",
              "      <td>2020</td>\n",
              "      <td>SE</td>\n",
              "      <td>FT</td>\n",
              "      <td>Machine Learning Engineer</td>\n",
              "      <td>40000</td>\n",
              "      <td>EUR</td>\n",
              "      <td>45618</td>\n",
              "      <td>HR</td>\n",
              "      <td>S</td>\n",
              "    </tr>\n",
              "    <tr>\n",
              "      <th>3760</th>\n",
              "      <td>2020</td>\n",
              "      <td>SE</td>\n",
              "      <td>FT</td>\n",
              "      <td>Data Scientist</td>\n",
              "      <td>412000</td>\n",
              "      <td>USD</td>\n",
              "      <td>412000</td>\n",
              "      <td>US</td>\n",
              "      <td>L</td>\n",
              "    </tr>\n",
              "  </tbody>\n",
              "</table>\n",
              "<p>2410 rows × 9 columns</p>\n",
              "</div>\n",
              "    <div class=\"colab-df-buttons\">\n",
              "\n",
              "  <div class=\"colab-df-container\">\n",
              "    <button class=\"colab-df-convert\" onclick=\"convertToInteractive('df-ff73cb07-f360-4a09-b36f-fc1ecbaf7e71')\"\n",
              "            title=\"Convert this dataframe to an interactive table.\"\n",
              "            style=\"display:none;\">\n",
              "\n",
              "  <svg xmlns=\"http://www.w3.org/2000/svg\" height=\"24px\" viewBox=\"0 -960 960 960\">\n",
              "    <path d=\"M120-120v-720h720v720H120Zm60-500h600v-160H180v160Zm220 220h160v-160H400v160Zm0 220h160v-160H400v160ZM180-400h160v-160H180v160Zm440 0h160v-160H620v160ZM180-180h160v-160H180v160Zm440 0h160v-160H620v160Z\"/>\n",
              "  </svg>\n",
              "    </button>\n",
              "\n",
              "  <style>\n",
              "    .colab-df-container {\n",
              "      display:flex;\n",
              "      gap: 12px;\n",
              "    }\n",
              "\n",
              "    .colab-df-convert {\n",
              "      background-color: #E8F0FE;\n",
              "      border: none;\n",
              "      border-radius: 50%;\n",
              "      cursor: pointer;\n",
              "      display: none;\n",
              "      fill: #1967D2;\n",
              "      height: 32px;\n",
              "      padding: 0 0 0 0;\n",
              "      width: 32px;\n",
              "    }\n",
              "\n",
              "    .colab-df-convert:hover {\n",
              "      background-color: #E2EBFA;\n",
              "      box-shadow: 0px 1px 2px rgba(60, 64, 67, 0.3), 0px 1px 3px 1px rgba(60, 64, 67, 0.15);\n",
              "      fill: #174EA6;\n",
              "    }\n",
              "\n",
              "    .colab-df-buttons div {\n",
              "      margin-bottom: 4px;\n",
              "    }\n",
              "\n",
              "    [theme=dark] .colab-df-convert {\n",
              "      background-color: #3B4455;\n",
              "      fill: #D2E3FC;\n",
              "    }\n",
              "\n",
              "    [theme=dark] .colab-df-convert:hover {\n",
              "      background-color: #434B5C;\n",
              "      box-shadow: 0px 1px 3px 1px rgba(0, 0, 0, 0.15);\n",
              "      filter: drop-shadow(0px 1px 2px rgba(0, 0, 0, 0.3));\n",
              "      fill: #FFFFFF;\n",
              "    }\n",
              "  </style>\n",
              "\n",
              "    <script>\n",
              "      const buttonEl =\n",
              "        document.querySelector('#df-ff73cb07-f360-4a09-b36f-fc1ecbaf7e71 button.colab-df-convert');\n",
              "      buttonEl.style.display =\n",
              "        google.colab.kernel.accessAllowed ? 'block' : 'none';\n",
              "\n",
              "      async function convertToInteractive(key) {\n",
              "        const element = document.querySelector('#df-ff73cb07-f360-4a09-b36f-fc1ecbaf7e71');\n",
              "        const dataTable =\n",
              "          await google.colab.kernel.invokeFunction('convertToInteractive',\n",
              "                                                    [key], {});\n",
              "        if (!dataTable) return;\n",
              "\n",
              "        const docLinkHtml = 'Like what you see? Visit the ' +\n",
              "          '<a target=\"_blank\" href=https://colab.research.google.com/notebooks/data_table.ipynb>data table notebook</a>'\n",
              "          + ' to learn more about interactive tables.';\n",
              "        element.innerHTML = '';\n",
              "        dataTable['output_type'] = 'display_data';\n",
              "        await google.colab.output.renderOutput(dataTable, element);\n",
              "        const docLink = document.createElement('div');\n",
              "        docLink.innerHTML = docLinkHtml;\n",
              "        element.appendChild(docLink);\n",
              "      }\n",
              "    </script>\n",
              "  </div>\n",
              "\n",
              "\n",
              "<div id=\"df-e07d59a4-bca3-409e-aef6-69ed915acedc\">\n",
              "  <button class=\"colab-df-quickchart\" onclick=\"quickchart('df-e07d59a4-bca3-409e-aef6-69ed915acedc')\"\n",
              "            title=\"Suggest charts\"\n",
              "            style=\"display:none;\">\n",
              "\n",
              "<svg xmlns=\"http://www.w3.org/2000/svg\" height=\"24px\"viewBox=\"0 0 24 24\"\n",
              "     width=\"24px\">\n",
              "    <g>\n",
              "        <path d=\"M19 3H5c-1.1 0-2 .9-2 2v14c0 1.1.9 2 2 2h14c1.1 0 2-.9 2-2V5c0-1.1-.9-2-2-2zM9 17H7v-7h2v7zm4 0h-2V7h2v10zm4 0h-2v-4h2v4z\"/>\n",
              "    </g>\n",
              "</svg>\n",
              "  </button>\n",
              "\n",
              "<style>\n",
              "  .colab-df-quickchart {\n",
              "      --bg-color: #E8F0FE;\n",
              "      --fill-color: #1967D2;\n",
              "      --hover-bg-color: #E2EBFA;\n",
              "      --hover-fill-color: #174EA6;\n",
              "      --disabled-fill-color: #AAA;\n",
              "      --disabled-bg-color: #DDD;\n",
              "  }\n",
              "\n",
              "  [theme=dark] .colab-df-quickchart {\n",
              "      --bg-color: #3B4455;\n",
              "      --fill-color: #D2E3FC;\n",
              "      --hover-bg-color: #434B5C;\n",
              "      --hover-fill-color: #FFFFFF;\n",
              "      --disabled-bg-color: #3B4455;\n",
              "      --disabled-fill-color: #666;\n",
              "  }\n",
              "\n",
              "  .colab-df-quickchart {\n",
              "    background-color: var(--bg-color);\n",
              "    border: none;\n",
              "    border-radius: 50%;\n",
              "    cursor: pointer;\n",
              "    display: none;\n",
              "    fill: var(--fill-color);\n",
              "    height: 32px;\n",
              "    padding: 0;\n",
              "    width: 32px;\n",
              "  }\n",
              "\n",
              "  .colab-df-quickchart:hover {\n",
              "    background-color: var(--hover-bg-color);\n",
              "    box-shadow: 0 1px 2px rgba(60, 64, 67, 0.3), 0 1px 3px 1px rgba(60, 64, 67, 0.15);\n",
              "    fill: var(--button-hover-fill-color);\n",
              "  }\n",
              "\n",
              "  .colab-df-quickchart-complete:disabled,\n",
              "  .colab-df-quickchart-complete:disabled:hover {\n",
              "    background-color: var(--disabled-bg-color);\n",
              "    fill: var(--disabled-fill-color);\n",
              "    box-shadow: none;\n",
              "  }\n",
              "\n",
              "  .colab-df-spinner {\n",
              "    border: 2px solid var(--fill-color);\n",
              "    border-color: transparent;\n",
              "    border-bottom-color: var(--fill-color);\n",
              "    animation:\n",
              "      spin 1s steps(1) infinite;\n",
              "  }\n",
              "\n",
              "  @keyframes spin {\n",
              "    0% {\n",
              "      border-color: transparent;\n",
              "      border-bottom-color: var(--fill-color);\n",
              "      border-left-color: var(--fill-color);\n",
              "    }\n",
              "    20% {\n",
              "      border-color: transparent;\n",
              "      border-left-color: var(--fill-color);\n",
              "      border-top-color: var(--fill-color);\n",
              "    }\n",
              "    30% {\n",
              "      border-color: transparent;\n",
              "      border-left-color: var(--fill-color);\n",
              "      border-top-color: var(--fill-color);\n",
              "      border-right-color: var(--fill-color);\n",
              "    }\n",
              "    40% {\n",
              "      border-color: transparent;\n",
              "      border-right-color: var(--fill-color);\n",
              "      border-top-color: var(--fill-color);\n",
              "    }\n",
              "    60% {\n",
              "      border-color: transparent;\n",
              "      border-right-color: var(--fill-color);\n",
              "    }\n",
              "    80% {\n",
              "      border-color: transparent;\n",
              "      border-right-color: var(--fill-color);\n",
              "      border-bottom-color: var(--fill-color);\n",
              "    }\n",
              "    90% {\n",
              "      border-color: transparent;\n",
              "      border-bottom-color: var(--fill-color);\n",
              "    }\n",
              "  }\n",
              "</style>\n",
              "\n",
              "  <script>\n",
              "    async function quickchart(key) {\n",
              "      const quickchartButtonEl =\n",
              "        document.querySelector('#' + key + ' button');\n",
              "      quickchartButtonEl.disabled = true;  // To prevent multiple clicks.\n",
              "      quickchartButtonEl.classList.add('colab-df-spinner');\n",
              "      try {\n",
              "        const charts = await google.colab.kernel.invokeFunction(\n",
              "            'suggestCharts', [key], {});\n",
              "      } catch (error) {\n",
              "        console.error('Error during call to suggestCharts:', error);\n",
              "      }\n",
              "      quickchartButtonEl.classList.remove('colab-df-spinner');\n",
              "      quickchartButtonEl.classList.add('colab-df-quickchart-complete');\n",
              "    }\n",
              "    (() => {\n",
              "      let quickchartButtonEl =\n",
              "        document.querySelector('#df-e07d59a4-bca3-409e-aef6-69ed915acedc button');\n",
              "      quickchartButtonEl.style.display =\n",
              "        google.colab.kernel.accessAllowed ? 'block' : 'none';\n",
              "    })();\n",
              "  </script>\n",
              "</div>\n",
              "    </div>\n",
              "  </div>\n"
            ]
          },
          "metadata": {}
        }
      ]
    },
    {
      "cell_type": "markdown",
      "source": [
        "# Renomeando colunas\n",
        "\n",
        "\n",
        "\n"
      ],
      "metadata": {
        "id": "BQkaSbuOLi1Z"
      }
    },
    {
      "cell_type": "code",
      "source": [
        "ds_salary.rename(columns={'work_year':'Ano de Trabalho'}, inplace=True)\n",
        "ds_salary.rename(columns={'experience_level':'Nivel de Experiencia'}, inplace=True)\n",
        "ds_salary.rename(columns={'employment_type':'Carga Horaria'}, inplace=True)\n",
        "ds_salary.rename(columns={'job_title':'Cargo'}, inplace=True)\n",
        "ds_salary.rename(columns={'salary':'Salario'}, inplace=True)\n",
        "ds_salary.rename(columns={'salary_currency':'Moeda'}, inplace=True)\n",
        "ds_salary.rename(columns={'salary_in_usd':'Salario em Dolar'}, inplace=True)\n",
        "ds_salary.rename(columns={'company_location':'Localizacao da Empresa'}, inplace=True)\n",
        "ds_salary.rename(columns={'company_size':'Tamanho da Empresa'}, inplace=True)"
      ],
      "metadata": {
        "id": "1pj8BYx-ZALo"
      },
      "execution_count": 129,
      "outputs": []
    },
    {
      "cell_type": "markdown",
      "source": [
        "# Exibição das colunas do dataset"
      ],
      "metadata": {
        "id": "VGoHJEmvMJ5p"
      }
    },
    {
      "cell_type": "code",
      "source": [
        "ds_salary.columns.tolist()"
      ],
      "metadata": {
        "colab": {
          "base_uri": "https://localhost:8080/"
        },
        "id": "yOOnxcE6MDXl",
        "outputId": "2cedaeda-452f-4c2e-b7cb-7786612e9494"
      },
      "execution_count": 130,
      "outputs": [
        {
          "output_type": "execute_result",
          "data": {
            "text/plain": [
              "['Ano de Trabalho',\n",
              " 'Nivel de Experiencia',\n",
              " 'Carga Horaria',\n",
              " 'Cargo',\n",
              " 'Salario',\n",
              " 'Moeda',\n",
              " 'Salario em Dolar',\n",
              " 'Localizacao da Empresa',\n",
              " 'Tamanho da Empresa']"
            ]
          },
          "metadata": {},
          "execution_count": 130
        }
      ]
    },
    {
      "cell_type": "code",
      "source": [
        "ds_salary.info()"
      ],
      "metadata": {
        "colab": {
          "base_uri": "https://localhost:8080/"
        },
        "id": "ntQysUPyZoZ3",
        "outputId": "0cbcfd89-e3f8-40ab-a4ba-5798fa517690"
      },
      "execution_count": 131,
      "outputs": [
        {
          "output_type": "stream",
          "name": "stdout",
          "text": [
            "<class 'pandas.core.frame.DataFrame'>\n",
            "Int64Index: 2410 entries, 0 to 3760\n",
            "Data columns (total 9 columns):\n",
            " #   Column                  Non-Null Count  Dtype \n",
            "---  ------                  --------------  ----- \n",
            " 0   Ano de Trabalho         2410 non-null   int64 \n",
            " 1   Nivel de Experiencia    2410 non-null   object\n",
            " 2   Carga Horaria           2410 non-null   object\n",
            " 3   Cargo                   2410 non-null   object\n",
            " 4   Salario                 2410 non-null   int64 \n",
            " 5   Moeda                   2410 non-null   object\n",
            " 6   Salario em Dolar        2410 non-null   int64 \n",
            " 7   Localizacao da Empresa  2410 non-null   object\n",
            " 8   Tamanho da Empresa      2410 non-null   object\n",
            "dtypes: int64(3), object(6)\n",
            "memory usage: 188.3+ KB\n"
          ]
        }
      ]
    },
    {
      "cell_type": "markdown",
      "source": [
        "# Agrupamentos e contagens"
      ],
      "metadata": {
        "id": "3NPTx3b5Mkrd"
      }
    },
    {
      "cell_type": "markdown",
      "source": [
        "Contagem de profissionais por cargo"
      ],
      "metadata": {
        "id": "SNSApAorNoZP"
      }
    },
    {
      "cell_type": "code",
      "source": [
        "cargos_cont = ds_salary.groupby(['Cargo'])['Cargo'].count()\n",
        "display(cargos_cont)"
      ],
      "metadata": {
        "colab": {
          "base_uri": "https://localhost:8080/",
          "height": 243
        },
        "id": "HGZyeSCTNNPe",
        "outputId": "1c5511c1-ab5e-4a7e-f42e-7452244d0877"
      },
      "execution_count": 132,
      "outputs": [
        {
          "output_type": "display_data",
          "data": {
            "text/plain": [
              "Cargo\n",
              "3D Computer Vision Researcher     4\n",
              "AI Developer                     11\n",
              "AI Programmer                     2\n",
              "AI Scientist                     16\n",
              "Analytics Engineer               85\n",
              "                                 ..\n",
              "Research Engineer                33\n",
              "Research Scientist               63\n",
              "Software Data Engineer            2\n",
              "Staff Data Analyst                1\n",
              "Staff Data Scientist              1\n",
              "Name: Cargo, Length: 93, dtype: int64"
            ]
          },
          "metadata": {}
        }
      ]
    },
    {
      "cell_type": "code",
      "source": [
        "salariocientista = grupo_profissao['Salario'].value_counts()\n",
        "salcien = salariocientista.get(\"Data Scientist\")\n",
        "display(salcien)"
      ],
      "metadata": {
        "colab": {
          "base_uri": "https://localhost:8080/",
          "height": 243
        },
        "id": "ySKr0-ZSmdop",
        "outputId": "8c10dddb-f502-402e-dc43-447fcc23f27f"
      },
      "execution_count": 260,
      "outputs": [
        {
          "output_type": "display_data",
          "data": {
            "text/plain": [
              "Salario\n",
              "100000      11\n",
              "120000      11\n",
              "90000        9\n",
              "110000       9\n",
              "70000        8\n",
              "            ..\n",
              "4000000      1\n",
              "4200000      1\n",
              "6600000      1\n",
              "11000000     1\n",
              "30400000     1\n",
              "Name: Salario, Length: 302, dtype: int64"
            ]
          },
          "metadata": {}
        }
      ]
    },
    {
      "cell_type": "code",
      "source": [
        "ch_cont = ds_salary.groupby(['Carga Horaria'])['Carga Horaria'].count()\n",
        "display(ch_cont)"
      ],
      "metadata": {
        "id": "PZc2ZgNwwGqf",
        "outputId": "3a0b7bde-5fc6-42ad-ab64-fcdd313c1048",
        "colab": {
          "base_uri": "https://localhost:8080/",
          "height": 121
        }
      },
      "execution_count": 300,
      "outputs": [
        {
          "output_type": "display_data",
          "data": {
            "text/plain": [
              "Carga Horaria\n",
              "CT      10\n",
              "FL      10\n",
              "FT    2373\n",
              "PT      17\n",
              "Name: Carga Horaria, dtype: int64"
            ]
          },
          "metadata": {}
        }
      ]
    },
    {
      "cell_type": "code",
      "source": [
        "# FT (Full Time): Período Integral\n",
        "# PT (Partial Time): Meio Período\n",
        "# CT (Contract): Contrato definido\n",
        "# FL (Freelancer)"
      ],
      "metadata": {
        "id": "XNB9f61gwlMJ"
      },
      "execution_count": 301,
      "outputs": []
    },
    {
      "cell_type": "code",
      "source": [
        "cont_moeda = ds_salary.groupby(['Moeda'])['Moeda'].count()\n",
        "display(cont_moeda)"
      ],
      "metadata": {
        "colab": {
          "base_uri": "https://localhost:8080/",
          "height": 399
        },
        "id": "LuLrDqkHrSwx",
        "outputId": "63a53f88-2624-4f50-fbc9-5a51ec580b34"
      },
      "execution_count": 289,
      "outputs": [
        {
          "output_type": "display_data",
          "data": {
            "text/plain": [
              "Moeda\n",
              "AUD       9\n",
              "BRL       6\n",
              "CAD      25\n",
              "CHF       4\n",
              "CLP       1\n",
              "CZK       1\n",
              "DKK       3\n",
              "EUR     199\n",
              "GBP     139\n",
              "HKD       1\n",
              "HUF       3\n",
              "ILS       1\n",
              "INR      59\n",
              "JPY       3\n",
              "MXN       1\n",
              "PLN       5\n",
              "SGD       6\n",
              "THB       2\n",
              "TRY       3\n",
              "USD    1939\n",
              "Name: Moeda, dtype: int64"
            ]
          },
          "metadata": {}
        }
      ]
    },
    {
      "cell_type": "code",
      "source": [
        "contagem_cientista_dados = ds_salary['Cargo'].value_counts().get(\"Data Scientist\", 0)\n",
        "print(contagem_cientista_dados)\n"
      ],
      "metadata": {
        "colab": {
          "base_uri": "https://localhost:8080/"
        },
        "id": "xw0QPSjcQwZ6",
        "outputId": "d39b4014-783a-4ea9-f24a-1d047cfb0007"
      },
      "execution_count": 133,
      "outputs": [
        {
          "output_type": "stream",
          "name": "stdout",
          "text": [
            "492\n"
          ]
        }
      ]
    },
    {
      "cell_type": "code",
      "source": [
        "contagem_engenheiro_dados = ds_salary['Cargo'].value_counts().get(\"Data Engineer\", 0)\n",
        "print(contagem_engenheiro_dados)"
      ],
      "metadata": {
        "colab": {
          "base_uri": "https://localhost:8080/"
        },
        "id": "CdXv1V4TSdwX",
        "outputId": "da75184c-fcb2-4929-97dc-724c929336bf"
      },
      "execution_count": 134,
      "outputs": [
        {
          "output_type": "stream",
          "name": "stdout",
          "text": [
            "529\n"
          ]
        }
      ]
    },
    {
      "cell_type": "code",
      "source": [
        "contagem_analista_dados = ds_salary['Cargo'].value_counts().get(\"Data Analyst\", 0)\n",
        "print(contagem_analista_dados)"
      ],
      "metadata": {
        "colab": {
          "base_uri": "https://localhost:8080/"
        },
        "id": "EgRenHN7Sv7R",
        "outputId": "7c76da43-ab44-4caf-8706-f838da4e34fc"
      },
      "execution_count": 135,
      "outputs": [
        {
          "output_type": "stream",
          "name": "stdout",
          "text": [
            "356\n"
          ]
        }
      ]
    },
    {
      "cell_type": "markdown",
      "source": [
        "# Demonstrativo de médias"
      ],
      "metadata": {
        "id": "dw6TyQDbMxVV"
      }
    },
    {
      "cell_type": "code",
      "source": [
        "pd.set_option('display.float_format', lambda x: '%.3f' % x)\n"
      ],
      "metadata": {
        "id": "2qsBWWJupg-7"
      },
      "execution_count": 273,
      "outputs": []
    },
    {
      "cell_type": "code",
      "source": [
        "ds_scientist = ds_salary[(ds_salary['Cargo'] == 'Data Scientist')]\n",
        "print(ds_scientist['Salario'].describe())\n",
        "\n"
      ],
      "metadata": {
        "colab": {
          "base_uri": "https://localhost:8080/"
        },
        "id": "amFJ8cV9dGIg",
        "outputId": "06aa9067-c2b5-44f6-c7fd-0de405f2aa45"
      },
      "execution_count": 274,
      "outputs": [
        {
          "output_type": "stream",
          "name": "stdout",
          "text": [
            "count        492.000\n",
            "mean      298126.744\n",
            "std      1523747.412\n",
            "min        10000.000\n",
            "25%        90000.000\n",
            "50%       136807.000\n",
            "75%       183357.500\n",
            "max     30400000.000\n",
            "Name: Salario, dtype: float64\n"
          ]
        }
      ]
    },
    {
      "cell_type": "code",
      "source": [
        "ds_scientist = ds_salary[(ds_salary['Cargo'] == 'Data Scientist') & (ds_salary['Moeda'] == 'USD')]\n",
        "print(ds_scientist['Salario'].describe())\n",
        "\n"
      ],
      "metadata": {
        "colab": {
          "base_uri": "https://localhost:8080/"
        },
        "id": "B9fsQxOwnK7d",
        "outputId": "589d5100-dfed-4637-ce60-e22451c443c0"
      },
      "execution_count": 275,
      "outputs": [
        {
          "output_type": "stream",
          "name": "stdout",
          "text": [
            "count      375.000\n",
            "mean    152054.875\n",
            "std      57465.599\n",
            "min      10000.000\n",
            "25%     114375.000\n",
            "50%     147000.000\n",
            "75%     185500.000\n",
            "max     412000.000\n",
            "Name: Salario, dtype: float64\n"
          ]
        }
      ]
    },
    {
      "cell_type": "code",
      "source": [
        "ds_scientist = ds_salary[(ds_salary['Cargo'] == 'Data Scientist') & (ds_salary['Moeda'] == 'EUR')]\n",
        "print(ds_scientist['Salario'].describe())"
      ],
      "metadata": {
        "colab": {
          "base_uri": "https://localhost:8080/"
        },
        "id": "LvZJrctyneaJ",
        "outputId": "2c46ca5e-0447-42da-e9b7-1490312601de"
      },
      "execution_count": 276,
      "outputs": [
        {
          "output_type": "stream",
          "name": "stdout",
          "text": [
            "count       52.000\n",
            "mean     55603.462\n",
            "std      19330.302\n",
            "min      19000.000\n",
            "25%      41400.000\n",
            "50%      55000.000\n",
            "75%      70000.000\n",
            "max     110000.000\n",
            "Name: Salario, dtype: float64\n"
          ]
        }
      ]
    },
    {
      "cell_type": "code",
      "source": [
        "dt_eng = ds_salary[(ds_salary['Cargo'] == 'Data Engineer')]\n",
        "print(dt_eng['Salario'].describe())\n"
      ],
      "metadata": {
        "colab": {
          "base_uri": "https://localhost:8080/"
        },
        "id": "Nut5dXzqk0sd",
        "outputId": "c8b2dd33-5520-49d5-b82a-146df65b8025"
      },
      "execution_count": 277,
      "outputs": [
        {
          "output_type": "stream",
          "name": "stdout",
          "text": [
            "count       529.000\n",
            "mean     165101.858\n",
            "std      263599.980\n",
            "min       12000.000\n",
            "25%       92700.000\n",
            "50%      135000.000\n",
            "75%      185000.000\n",
            "max     4450000.000\n",
            "Name: Salario, dtype: float64\n"
          ]
        }
      ]
    },
    {
      "cell_type": "code",
      "source": [
        "dt_eng = ds_salary[(ds_salary['Cargo'] == 'Data Engineer') & (ds_salary['Moeda'] == 'USD')]\n",
        "print(dt_eng['Salario'].describe())\n"
      ],
      "metadata": {
        "colab": {
          "base_uri": "https://localhost:8080/"
        },
        "id": "FqOVtEegnEiN",
        "outputId": "f659af8b-35a2-453e-8dfe-e694f2733500"
      },
      "execution_count": 278,
      "outputs": [
        {
          "output_type": "stream",
          "name": "stdout",
          "text": [
            "count      438.000\n",
            "mean    154445.032\n",
            "std      58359.649\n",
            "min      12000.000\n",
            "25%     110000.000\n",
            "50%     150000.000\n",
            "75%     193375.000\n",
            "max     324000.000\n",
            "Name: Salario, dtype: float64\n"
          ]
        }
      ]
    },
    {
      "cell_type": "code",
      "source": [
        "dt_eng = ds_salary[(ds_salary['Cargo'] == 'Data Engineer') & (ds_salary['Moeda'] == 'EUR')]\n",
        "print(dt_eng['Salario'].describe())"
      ],
      "metadata": {
        "colab": {
          "base_uri": "https://localhost:8080/"
        },
        "id": "QRGyAb-Unvov",
        "outputId": "f2963f09-ead5-4622-9259-1c4762ce7870"
      },
      "execution_count": 279,
      "outputs": [
        {
          "output_type": "stream",
          "name": "stdout",
          "text": [
            "count       43.000\n",
            "mean     56829.744\n",
            "std      17665.198\n",
            "min      22000.000\n",
            "25%      45000.000\n",
            "50%      60000.000\n",
            "75%      67500.000\n",
            "max     105120.000\n",
            "Name: Salario, dtype: float64\n"
          ]
        }
      ]
    },
    {
      "cell_type": "code",
      "source": [
        "dt_analy = ds_salary[(ds_salary['Cargo'] == 'Data Analyst')]\n",
        "print(dt_analy['Salario'].describe())"
      ],
      "metadata": {
        "colab": {
          "base_uri": "https://localhost:8080/"
        },
        "id": "aT4w7ufvk1Ck",
        "outputId": "30ae1cfe-6f7e-44d2-89b0-b4f5d3e03f0b"
      },
      "execution_count": 280,
      "outputs": [
        {
          "output_type": "stream",
          "name": "stdout",
          "text": [
            "count       356.000\n",
            "mean     118523.626\n",
            "std      119246.916\n",
            "min        8000.000\n",
            "25%       65825.000\n",
            "50%      104150.000\n",
            "75%      136065.000\n",
            "max     1300000.000\n",
            "Name: Salario, dtype: float64\n"
          ]
        }
      ]
    },
    {
      "cell_type": "code",
      "source": [
        "dt_analy = ds_salary[(ds_salary['Cargo'] == 'Data Analyst') & (ds_salary['Moeda'] == 'USD')]\n",
        "print(dt_analy['Salario'].describe())"
      ],
      "metadata": {
        "colab": {
          "base_uri": "https://localhost:8080/"
        },
        "id": "-Pcy3hz2oBP8",
        "outputId": "4b09c19a-47e9-4588-88ae-ed5f8eab2b37"
      },
      "execution_count": 281,
      "outputs": [
        {
          "output_type": "stream",
          "name": "stdout",
          "text": [
            "count      300.000\n",
            "mean    114392.817\n",
            "std      47901.267\n",
            "min       8000.000\n",
            "25%      80000.000\n",
            "50%     110000.000\n",
            "75%     139700.000\n",
            "max     385000.000\n",
            "Name: Salario, dtype: float64\n"
          ]
        }
      ]
    },
    {
      "cell_type": "code",
      "source": [
        "dt_analy = ds_salary[(ds_salary['Cargo'] == 'Data Analyst') & (ds_salary['Moeda'] == 'EUR')]\n",
        "print(dt_analy['Salario'].describe())"
      ],
      "metadata": {
        "colab": {
          "base_uri": "https://localhost:8080/"
        },
        "id": "EdYd1GrZoK8z",
        "outputId": "56cc62c7-50f3-4940-cbd0-eeba43225cef"
      },
      "execution_count": 282,
      "outputs": [
        {
          "output_type": "stream",
          "name": "stdout",
          "text": [
            "count      17.000\n",
            "mean    36691.765\n",
            "std     12290.450\n",
            "min      8760.000\n",
            "25%     30000.000\n",
            "50%     38000.000\n",
            "75%     48000.000\n",
            "max     54000.000\n",
            "Name: Salario, dtype: float64\n"
          ]
        }
      ]
    },
    {
      "cell_type": "code",
      "source": [
        "grupo_profissao = ds_salary.groupby('Cargo')\n"
      ],
      "metadata": {
        "id": "QA5LMFWiTfux"
      },
      "execution_count": 283,
      "outputs": []
    },
    {
      "cell_type": "code",
      "source": [
        "media_salario_por_profissao = grupo_profissao['Salario em Dolar'].mean()\n"
      ],
      "metadata": {
        "id": "50uWh4COgPvC"
      },
      "execution_count": 293,
      "outputs": []
    },
    {
      "cell_type": "code",
      "source": [
        "media_cientista_dados = media_salario_por_profissao.get(\"Data Scientist\", 0)\n",
        "media_engenheiro_dados = media_salario_por_profissao.get(\"Data Engineer\", 0)\n",
        "media_analista_dados= media_salario_por_profissao.get(\"Data Analyst\", 0)"
      ],
      "metadata": {
        "id": "UkaRQkMyWYzx"
      },
      "execution_count": 285,
      "outputs": []
    },
    {
      "cell_type": "code",
      "source": [
        "print(f'Média de salário para Cientista de Dados: ${media_cientista_dados}')\n",
        "print(f'Média de salário para Engenheiro de Dados: ${media_engenheiro_dados}')\n",
        "print(f'Média de salário para Analista de Dados: ${media_analista_dados}')\n",
        "\n"
      ],
      "metadata": {
        "colab": {
          "base_uri": "https://localhost:8080/"
        },
        "id": "-siR2pQOWlNN",
        "outputId": "4bf2a5d8-3420-4735-b037-49876d062085"
      },
      "execution_count": 295,
      "outputs": [
        {
          "output_type": "stream",
          "name": "stdout",
          "text": [
            "Média de salário para Cientista de Dados: $298126.743902439\n",
            "Média de salário para Engenheiro de Dados: $165101.8582230624\n",
            "Média de salário para Analista de Dados: $118523.62640449438\n"
          ]
        }
      ]
    },
    {
      "cell_type": "markdown",
      "source": [
        "# Demonstrativo de porcentagem"
      ],
      "metadata": {
        "id": "tUwjiY3PXQss"
      }
    },
    {
      "cell_type": "code",
      "source": [
        "diferenca_engenheiro = media_cientista_dados - media_engenheiro_dados\n",
        "diferenca_analista = media_cientista_dados - media_analista_dados\n",
        "\n"
      ],
      "metadata": {
        "id": "PKRgBJOBgJds"
      },
      "execution_count": 296,
      "outputs": []
    },
    {
      "cell_type": "code",
      "source": [
        "porcentagem_a_mais_engenheiro = (diferenca_engenheiro / media_engenheiro_dados) * 100\n",
        "porcentagem_a_mais_analista = (diferenca_analista / media_analista_dados) * 100"
      ],
      "metadata": {
        "id": "SO0CBq4lgOf0"
      },
      "execution_count": 297,
      "outputs": []
    },
    {
      "cell_type": "code",
      "source": [
        "print(f\"O salário de Cientista de Dados é {porcentagem_a_mais_engenheiro:.2f}% maior que o salário de Engenheiro de Dados.\")\n",
        "print(f\"O salário de Cientista de Dados é {porcentagem_a_mais_analista:.2f}% maior que o salário de Analista de Dados.\")\n"
      ],
      "metadata": {
        "colab": {
          "base_uri": "https://localhost:8080/"
        },
        "id": "C_FKXaP_hmFo",
        "outputId": "25f055fe-d714-4460-b87c-e704040d7161"
      },
      "execution_count": 298,
      "outputs": [
        {
          "output_type": "stream",
          "name": "stdout",
          "text": [
            "O salário de Cientista de Dados é 80.57% maior que o salário de Engenheiro de Dados.\n",
            "O salário de Cientista de Dados é 151.53% maior que o salário de Analista de Dados.\n"
          ]
        }
      ]
    },
    {
      "cell_type": "markdown",
      "source": [
        "# Visualização dos dados"
      ],
      "metadata": {
        "id": "rkMagXW8M30v"
      }
    },
    {
      "cell_type": "code",
      "source": [
        "sns.set_theme(style=\"darkgrid\")\n"
      ],
      "metadata": {
        "id": "JyjDtfqZXLAZ"
      },
      "execution_count": 146,
      "outputs": []
    },
    {
      "cell_type": "code",
      "source": [
        "medias = [media_cientista_dados, media_engenheiro_dados, media_analista_dados]\n"
      ],
      "metadata": {
        "id": "G3ZHgsTaXMZK"
      },
      "execution_count": 302,
      "outputs": []
    },
    {
      "cell_type": "code",
      "source": [
        "profissoes = [\"Cientista de Dados\", \"Engenheiro de Dados\", \"Analista de Dados\"]\n"
      ],
      "metadata": {
        "id": "c_qJe1wlXU9H"
      },
      "execution_count": 303,
      "outputs": []
    },
    {
      "cell_type": "code",
      "source": [
        "plt.bar(profissoes, medias)\n",
        "plt.xlabel('Profissão')\n",
        "plt.ylabel('Salário Médio ($)')\n",
        "plt.title('Média de Salário por Profissão')\n",
        "\n",
        "plt.show()\n"
      ],
      "metadata": {
        "colab": {
          "base_uri": "https://localhost:8080/",
          "height": 481
        },
        "id": "CBLKhfJ9XfiB",
        "outputId": "7bce8ffe-fcc9-4a31-ee13-4653308745ad"
      },
      "execution_count": 304,
      "outputs": [
        {
          "output_type": "display_data",
          "data": {
            "text/plain": [
              "<Figure size 640x480 with 1 Axes>"
            ],
            "image/png": "[encoded data removed]"
          },
          "metadata": {}
        }
      ]
    },
    {
      "cell_type": "markdown",
      "source": [
        "O salário do Cientista de Dados é 80,57% superior ao salário do Engenheiro de Dados e 151,53% maior do que o salário do Analista de Dados."
      ],
      "metadata": {
        "id": "32gAE12jExi4"
      }
    },
    {
      "cell_type": "code",
      "source": [
        "paises = ds_salary['Localizacao da Empresa'].unique()\n",
        "print(paises)"
      ],
      "metadata": {
        "colab": {
          "base_uri": "https://localhost:8080/"
        },
        "id": "OMvCFQt3ogSk",
        "outputId": "4658bb5d-50be-4dd4-d170-35e7c976546e"
      },
      "execution_count": 150,
      "outputs": [
        {
          "output_type": "stream",
          "name": "stdout",
          "text": [
            "['US' 'NG' 'IN' 'CA' 'ES' 'GH' 'DE' 'CH' 'AU' 'SE' 'BR' 'GB' 'VN' 'BA'\n",
            " 'GR' 'HK' 'NL' 'FI' 'IE' 'SG' 'SI' 'MX' 'FR' 'HR' 'AM' 'KE' 'RO' 'TH'\n",
            " 'CF' 'UA' 'IL' 'CO' 'PT' 'EE' 'LV' 'MK' 'PK' 'IT' 'MA' 'AR' 'CR' 'IR'\n",
            " 'HU' 'AS' 'BE' 'AT' 'ID' 'LU' 'MY' 'CZ' 'DZ' 'RU' 'PL' 'LT' 'TR' 'BO'\n",
            " 'EG' 'AL' 'SK' 'PR' 'AE' 'DK' 'IQ' 'CN' 'BS' 'JP' 'CL' 'MD' 'MT' 'PH'\n",
            " 'HN' 'NZ']\n"
          ]
        }
      ]
    },
    {
      "cell_type": "code",
      "source": [
        "cientistas_de_dados = ds_salary.loc[ds_salary['Cargo'] == 'Data Scientist']\n"
      ],
      "metadata": {
        "id": "Rx72BaCLoguF"
      },
      "execution_count": 151,
      "outputs": []
    },
    {
      "cell_type": "code",
      "source": [
        "contagem_por_pais = cientistas_de_dados.groupby('Localizacao da Empresa').size().reset_index(name='Quantidade de Cientistas de Dados')\n",
        "print(contagem_por_pais)\n"
      ],
      "metadata": {
        "colab": {
          "base_uri": "https://localhost:8080/"
        },
        "id": "5BTQuN_8og7X",
        "outputId": "09c9bc7e-c417-41cc-ee28-c776ff51592b"
      },
      "execution_count": 152,
      "outputs": [
        {
          "output_type": "stream",
          "name": "stdout",
          "text": [
            "   Localizacao da Empresa  Quantidade de Cientistas de Dados\n",
            "0                      AT                                  2\n",
            "1                      AU                                  2\n",
            "2                      BE                                  2\n",
            "3                      BR                                  4\n",
            "4                      CA                                 18\n",
            "5                      CH                                  2\n",
            "6                      CL                                  1\n",
            "7                      DE                                 13\n",
            "8                      DZ                                  1\n",
            "9                      EE                                  1\n",
            "10                     ES                                 10\n",
            "11                     FR                                 14\n",
            "12                     GB                                 29\n",
            "13                     HK                                  1\n",
            "14                     HU                                  2\n",
            "15                     ID                                  1\n",
            "16                     IE                                  4\n",
            "17                     IL                                  1\n",
            "18                     IN                                 15\n",
            "19                     IT                                  1\n",
            "20                     LU                                  1\n",
            "21                     LV                                  2\n",
            "22                     MX                                  1\n",
            "23                     MY                                  1\n",
            "24                     NG                                  1\n",
            "25                     NL                                  4\n",
            "26                     PL                                  1\n",
            "27                     RO                                  1\n",
            "28                     TH                                  1\n",
            "29                     TR                                  3\n",
            "30                     UA                                  1\n",
            "31                     US                                351\n"
          ]
        }
      ]
    },
    {
      "cell_type": "code",
      "source": [
        "contagem_por_pais = contagem_por_pais.sort_values(by='Quantidade de Cientistas de Dados', ascending=False)\n",
        "top_4_paises = contagem_por_pais.head(4)\n"
      ],
      "metadata": {
        "id": "sb1UkGI5u7wT"
      },
      "execution_count": 153,
      "outputs": []
    },
    {
      "cell_type": "code",
      "source": [
        "explode = (0.1, 0, 0, 0)\n"
      ],
      "metadata": {
        "id": "jsoERoTuZaA9"
      },
      "execution_count": 175,
      "outputs": []
    },
    {
      "cell_type": "code",
      "source": [
        "plt.figure(figsize=(10, 6))\n",
        "plt.pie(top_4_paises['Quantidade de Cientistas de Dados'], labels=top_4_paises['Localizacao da Empresa'], autopct='%1.1f%%', startangle=140, explode=explode)\n",
        "plt.title('Top 4 Países com Mais Cientistas de Dados')\n",
        "plt.show()"
      ],
      "metadata": {
        "colab": {
          "base_uri": "https://localhost:8080/",
          "height": 521
        },
        "id": "bUSuxztevfJm",
        "outputId": "ddccb4a6-09df-4764-f232-abc2b0879bd1"
      },
      "execution_count": 176,
      "outputs": [
        {
          "output_type": "display_data",
          "data": {
            "text/plain": [
              "<Figure size 1000x600 with 1 Axes>"
            ],
            "image/png": "[encoded data removed]"
          },
          "metadata": {}
        }
      ]
    },
    {
      "cell_type": "markdown",
      "source": [
        "Na análise apresentada, destaca-se que os países com a maior concentração de Cientistas de Dados são os Estados Unidos (85%), seguidos pela Grã-Bretanha (7%), Canadá (4,4%) e Índia (3,6%).\n"
      ],
      "metadata": {
        "id": "nZzYRLltEQyD"
      }
    },
    {
      "cell_type": "code",
      "source": [
        "cientistas_de_dados = ds_salary.loc[ds_salary['Cargo'] == 'Data Scientist']\n"
      ],
      "metadata": {
        "id": "67WwW3tf703f"
      },
      "execution_count": 155,
      "outputs": []
    },
    {
      "cell_type": "code",
      "source": [
        "agrupamento_por_nivel = cientistas_de_dados.groupby('Nivel de Experiencia').size().reset_index(name='Quantidade')\n"
      ],
      "metadata": {
        "id": "LldgPPgQ78Ty"
      },
      "execution_count": 156,
      "outputs": []
    },
    {
      "cell_type": "code",
      "source": [
        "agrupamento_por_nivel['Cargo'] = 'Data Scientist'\n",
        "\n",
        "print(agrupamento_por_nivel)"
      ],
      "metadata": {
        "colab": {
          "base_uri": "https://localhost:8080/"
        },
        "id": "sLtm53RE79aA",
        "outputId": "880b09e8-b016-4713-9d1a-722c6e142392"
      },
      "execution_count": 157,
      "outputs": [
        {
          "output_type": "stream",
          "name": "stdout",
          "text": [
            "  Nivel de Experiencia  Quantidade           Cargo\n",
            "0                   EN          57  Data Scientist\n",
            "1                   EX           8  Data Scientist\n",
            "2                   MI         140  Data Scientist\n",
            "3                   SE         287  Data Scientist\n"
          ]
        }
      ]
    },
    {
      "cell_type": "code",
      "source": [
        "# EN = Entry Level = Iniciante\n",
        "# MI = Mid level = Intermediário\n",
        "# SE = Senior = Senior\n",
        "# EX = Executive = Executivo"
      ],
      "metadata": {
        "id": "ujRcXteofdnh"
      },
      "execution_count": 158,
      "outputs": []
    },
    {
      "cell_type": "code",
      "source": [
        "cientistas_de_dados = ds_salary.loc[ds_salary['Cargo'] == 'Data Scientist']\n"
      ],
      "metadata": {
        "id": "J9sDhcchxpm9"
      },
      "execution_count": 159,
      "outputs": []
    },
    {
      "cell_type": "code",
      "source": [
        "contagem_por_nivel = cientistas_de_dados['Nivel de Experiencia'].value_counts().reset_index()\n"
      ],
      "metadata": {
        "id": "NZKKTbxdyFdo"
      },
      "execution_count": 160,
      "outputs": []
    },
    {
      "cell_type": "code",
      "source": [
        "contagem_por_nivel.columns = ['Nível de Experiência', 'Quantidade']\n"
      ],
      "metadata": {
        "id": "OBwrCJZsySKE"
      },
      "execution_count": 161,
      "outputs": []
    },
    {
      "cell_type": "code",
      "source": [
        "plt.figure(figsize=(10, 6))\n",
        "plt.bar(contagem_por_nivel['Nível de Experiência'], contagem_por_nivel['Quantidade'], color='skyblue')\n",
        "plt.xlabel('Nível de Experiência')\n",
        "plt.ylabel('Quantidade')\n",
        "plt.title('Distribuição de Níveis de Experiência entre Cientistas de Dados')\n",
        "plt.show()"
      ],
      "metadata": {
        "colab": {
          "base_uri": "https://localhost:8080/",
          "height": 574
        },
        "id": "TaKmS1huyYLJ",
        "outputId": "7afd3614-a774-4e39-dfbd-197f05af0581"
      },
      "execution_count": 162,
      "outputs": [
        {
          "output_type": "display_data",
          "data": {
            "text/plain": [
              "<Figure size 1000x600 with 1 Axes>"
            ],
            "image/png": "[encoded data removed]"
          },
          "metadata": {}
        }
      ]
    },
    {
      "cell_type": "markdown",
      "source": [
        "Dentre as vagas ocupadas no cargo de Cientista de Dados, o maior número é de nível \"senior\" e o menor de \"executive\"."
      ],
      "metadata": {
        "id": "Y7TQKpvSFVum"
      }
    },
    {
      "cell_type": "code",
      "source": [
        "figsize = (10, 0.8 * len(ds_salary['Nivel de Experiencia'].unique()))\n",
        "plt.figure(figsize=figsize)\n",
        "sns.violinplot(ds_salary, x='Ano de Trabalho', y='Nivel de Experiencia', inner='box', palette='Dark2')\n",
        "sns.despine(top=True, right=True, bottom=True, left=True)"
      ],
      "metadata": {
        "colab": {
          "base_uri": "https://localhost:8080/",
          "height": 335
        },
        "id": "1xvrx7o2btka",
        "outputId": "b8266926-38e6-4030-fefc-78ee250b4b09"
      },
      "execution_count": 163,
      "outputs": [
        {
          "output_type": "display_data",
          "data": {
            "text/plain": [
              "<Figure size 1000x320 with 1 Axes>"
            ],
            "image/png": "[encoded data removed]"
          },
          "metadata": {}
        }
      ]
    },
    {
      "cell_type": "code",
      "source": [
        "listaano = ds_salary['Ano de Trabalho'].tolist()\n",
        "listatamanho = ds_salary['Tamanho da Empresa'].tolist()\n",
        "listacargo = ds_salary['Cargo'].tolist()\n",
        "listach = ds_salary['Carga Horaria'].tolist()\n",
        "lsalarioc = salcien.tolist()"
      ],
      "metadata": {
        "id": "UD5EtiUEOag4"
      },
      "execution_count": 164,
      "outputs": []
    },
    {
      "cell_type": "code",
      "source": [
        "df = ds_salary"
      ],
      "metadata": {
        "id": "HLLm5wQ3W-jL"
      },
      "execution_count": 165,
      "outputs": []
    },
    {
      "cell_type": "code",
      "source": [
        "plt.figure(figsize=(10, 6))\n",
        "plt.hist(df['Salario em Dolar'], 15, rwidth=0.9, alpha=1, color='green')\n",
        "plt.xlabel('Salários em USD')\n",
        "plt.ylabel('Quantidade de Profissionais')\n",
        "plt.title('Histograma de Salários')\n",
        "plt.show()"
      ],
      "metadata": {
        "id": "-RwbUZrQEiX4",
        "colab": {
          "base_uri": "https://localhost:8080/",
          "height": 573
        },
        "outputId": "8488cf66-b824-407d-87e4-969bd007e470"
      },
      "execution_count": 177,
      "outputs": [
        {
          "output_type": "display_data",
          "data": {
            "text/plain": [
              "<Figure size 1000x600 with 1 Axes>"
            ],
            "image/png": "[encoded data removed]"
          },
          "metadata": {}
        }
      ]
    }
  ]
}