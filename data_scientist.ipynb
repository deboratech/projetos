{
  "nbformat": 4,
  "nbformat_minor": 0,
  "metadata": {
    "colab": {
      "provenance": [],
      "include_colab_link": true
    },
    "kernelspec": {
      "name": "python3",
      "display_name": "Python 3"
    },
    "language_info": {
      "name": "python"
    }
  },
  "cells": [
    {
      "cell_type": "markdown",
      "metadata": {
        "id": "view-in-github",
        "colab_type": "text"
      },
      "source": [
        "<a href=\"https://colab.research.google.com/github/deboratech/projetos/blob/main/data_scientist.ipynb\" target=\"_parent\"><img src=\"https://colab.research.google.com/assets/colab-badge.svg\" alt=\"Open In Colab\"/></a>"
      ]
    },
    {
      "cell_type": "markdown",
      "source": [
        "# Realização da análise de cargos e salários para empregos relacionados ao campo de dados.\n",
        "\n",
        "Dataset disponível em: https://www.kaggle.com/datasets/harishkumardatalab/data-science-salary-2021-to-2023/data"
      ],
      "metadata": {
        "id": "dQIqckp8KNhZ"
      }
    },
    {
      "cell_type": "code",
      "execution_count": 59,
      "metadata": {
        "id": "1AEb_nPnP9zg"
      },
      "outputs": [],
      "source": [
        "import pandas as pd\n"
      ]
    },
    {
      "cell_type": "code",
      "source": [
        "import numpy as np\n",
        "import matplotlib.pyplot as plt"
      ],
      "metadata": {
        "id": "ULxZgPLGQDLy"
      },
      "execution_count": 60,
      "outputs": []
    },
    {
      "cell_type": "code",
      "source": [
        "import seaborn as sns\n",
        "plt.style.use(\"seaborn-whitegrid\")\n",
        "import warnings\n",
        "warnings.filterwarnings('ignore')"
      ],
      "metadata": {
        "id": "KIwa-xRdRr_H"
      },
      "execution_count": 61,
      "outputs": []
    },
    {
      "cell_type": "markdown",
      "source": [
        "# Leitura de dados"
      ],
      "metadata": {
        "id": "K49V6VUpLw24"
      }
    },
    {
      "cell_type": "code",
      "source": [
        "ds_salary = pd.read_csv('/content/ds_salary_2021_2023(2).csv', sep=';')\n"
      ],
      "metadata": {
        "id": "Fs8PrdiMYO-D"
      },
      "execution_count": 62,
      "outputs": []
    },
    {
      "cell_type": "code",
      "source": [
        "print(ds_salary)"
      ],
      "metadata": {
        "colab": {
          "base_uri": "https://localhost:8080/"
        },
        "id": "vCZ5gHcuaTxN",
        "outputId": "bb6b6b7d-6a67-41e2-95b5-6b65bafc6b79"
      },
      "execution_count": 63,
      "outputs": [
        {
          "output_type": "stream",
          "name": "stdout",
          "text": [
            "      work_year experience_level employment_type                  job_title  \\\n",
            "0          2023               EN              FT          Applied Scientist   \n",
            "1          2023               EN              FT          Applied Scientist   \n",
            "2          2023               EN              FT       Data Quality Analyst   \n",
            "3          2023               EN              FT    Compliance Data Analyst   \n",
            "4          2023               EN              FT          Applied Scientist   \n",
            "...         ...              ...             ...                        ...   \n",
            "3756       2020               SE              FT   Principal Data Scientist   \n",
            "3757       2020               SE              FT             Data Scientist   \n",
            "3758       2020               SE              FT       Data Science Manager   \n",
            "3759       2020               SE              FT  Machine Learning Engineer   \n",
            "3760       2020               SE              FT             Data Scientist   \n",
            "\n",
            "      salary salary_currency  salary_in_usd company_location company_size  \n",
            "0     213660             USD         213660               US            L  \n",
            "1     130760             USD         130760               US            L  \n",
            "2     100000             USD         100000               NG            L  \n",
            "3      30000             USD          30000               NG            L  \n",
            "4     204620             USD         204620               US            L  \n",
            "...      ...             ...            ...              ...          ...  \n",
            "3756  130000             EUR         148261               DE            M  \n",
            "3757   80000             EUR          91237               AT            S  \n",
            "3758  190200             USD         190200               US            M  \n",
            "3759   40000             EUR          45618               HR            S  \n",
            "3760  412000             USD         412000               US            L  \n",
            "\n",
            "[3761 rows x 9 columns]\n"
          ]
        }
      ]
    },
    {
      "cell_type": "markdown",
      "source": [
        "# Visualização dos 5 primeiros registros"
      ],
      "metadata": {
        "id": "BkulOKpjLzUX"
      }
    },
    {
      "cell_type": "code",
      "source": [
        "ds_salary.head()"
      ],
      "metadata": {
        "colab": {
          "base_uri": "https://localhost:8080/",
          "height": 206
        },
        "id": "f_9GWQUVaVBg",
        "outputId": "ccdde8a8-78f8-4c97-e0b7-52ca6e0bebc9"
      },
      "execution_count": 64,
      "outputs": [
        {
          "output_type": "execute_result",
          "data": {
            "text/plain": [
              "   work_year experience_level employment_type                job_title  \\\n",
              "0       2023               EN              FT        Applied Scientist   \n",
              "1       2023               EN              FT        Applied Scientist   \n",
              "2       2023               EN              FT     Data Quality Analyst   \n",
              "3       2023               EN              FT  Compliance Data Analyst   \n",
              "4       2023               EN              FT        Applied Scientist   \n",
              "\n",
              "   salary salary_currency  salary_in_usd company_location company_size  \n",
              "0  213660             USD         213660               US            L  \n",
              "1  130760             USD         130760               US            L  \n",
              "2  100000             USD         100000               NG            L  \n",
              "3   30000             USD          30000               NG            L  \n",
              "4  204620             USD         204620               US            L  "
            ],
            "text/html": [
              "\n",
              "  <div id=\"df-a7b318c7-f176-4a4b-a949-11db19bb5cb4\" class=\"colab-df-container\">\n",
              "    <div>\n",
              "<style scoped>\n",
              "    .dataframe tbody tr th:only-of-type {\n",
              "        vertical-align: middle;\n",
              "    }\n",
              "\n",
              "    .dataframe tbody tr th {\n",
              "        vertical-align: top;\n",
              "    }\n",
              "\n",
              "    .dataframe thead th {\n",
              "        text-align: right;\n",
              "    }\n",
              "</style>\n",
              "<table border=\"1\" class=\"dataframe\">\n",
              "  <thead>\n",
              "    <tr style=\"text-align: right;\">\n",
              "      <th></th>\n",
              "      <th>work_year</th>\n",
              "      <th>experience_level</th>\n",
              "      <th>employment_type</th>\n",
              "      <th>job_title</th>\n",
              "      <th>salary</th>\n",
              "      <th>salary_currency</th>\n",
              "      <th>salary_in_usd</th>\n",
              "      <th>company_location</th>\n",
              "      <th>company_size</th>\n",
              "    </tr>\n",
              "  </thead>\n",
              "  <tbody>\n",
              "    <tr>\n",
              "      <th>0</th>\n",
              "      <td>2023</td>\n",
              "      <td>EN</td>\n",
              "      <td>FT</td>\n",
              "      <td>Applied Scientist</td>\n",
              "      <td>213660</td>\n",
              "      <td>USD</td>\n",
              "      <td>213660</td>\n",
              "      <td>US</td>\n",
              "      <td>L</td>\n",
              "    </tr>\n",
              "    <tr>\n",
              "      <th>1</th>\n",
              "      <td>2023</td>\n",
              "      <td>EN</td>\n",
              "      <td>FT</td>\n",
              "      <td>Applied Scientist</td>\n",
              "      <td>130760</td>\n",
              "      <td>USD</td>\n",
              "      <td>130760</td>\n",
              "      <td>US</td>\n",
              "      <td>L</td>\n",
              "    </tr>\n",
              "    <tr>\n",
              "      <th>2</th>\n",
              "      <td>2023</td>\n",
              "      <td>EN</td>\n",
              "      <td>FT</td>\n",
              "      <td>Data Quality Analyst</td>\n",
              "      <td>100000</td>\n",
              "      <td>USD</td>\n",
              "      <td>100000</td>\n",
              "      <td>NG</td>\n",
              "      <td>L</td>\n",
              "    </tr>\n",
              "    <tr>\n",
              "      <th>3</th>\n",
              "      <td>2023</td>\n",
              "      <td>EN</td>\n",
              "      <td>FT</td>\n",
              "      <td>Compliance Data Analyst</td>\n",
              "      <td>30000</td>\n",
              "      <td>USD</td>\n",
              "      <td>30000</td>\n",
              "      <td>NG</td>\n",
              "      <td>L</td>\n",
              "    </tr>\n",
              "    <tr>\n",
              "      <th>4</th>\n",
              "      <td>2023</td>\n",
              "      <td>EN</td>\n",
              "      <td>FT</td>\n",
              "      <td>Applied Scientist</td>\n",
              "      <td>204620</td>\n",
              "      <td>USD</td>\n",
              "      <td>204620</td>\n",
              "      <td>US</td>\n",
              "      <td>L</td>\n",
              "    </tr>\n",
              "  </tbody>\n",
              "</table>\n",
              "</div>\n",
              "    <div class=\"colab-df-buttons\">\n",
              "\n",
              "  <div class=\"colab-df-container\">\n",
              "    <button class=\"colab-df-convert\" onclick=\"convertToInteractive('df-a7b318c7-f176-4a4b-a949-11db19bb5cb4')\"\n",
              "            title=\"Convert this dataframe to an interactive table.\"\n",
              "            style=\"display:none;\">\n",
              "\n",
              "  <svg xmlns=\"http://www.w3.org/2000/svg\" height=\"24px\" viewBox=\"0 -960 960 960\">\n",
              "    <path d=\"M120-120v-720h720v720H120Zm60-500h600v-160H180v160Zm220 220h160v-160H400v160Zm0 220h160v-160H400v160ZM180-400h160v-160H180v160Zm440 0h160v-160H620v160ZM180-180h160v-160H180v160Zm440 0h160v-160H620v160Z\"/>\n",
              "  </svg>\n",
              "    </button>\n",
              "\n",
              "  <style>\n",
              "    .colab-df-container {\n",
              "      display:flex;\n",
              "      gap: 12px;\n",
              "    }\n",
              "\n",
              "    .colab-df-convert {\n",
              "      background-color: #E8F0FE;\n",
              "      border: none;\n",
              "      border-radius: 50%;\n",
              "      cursor: pointer;\n",
              "      display: none;\n",
              "      fill: #1967D2;\n",
              "      height: 32px;\n",
              "      padding: 0 0 0 0;\n",
              "      width: 32px;\n",
              "    }\n",
              "\n",
              "    .colab-df-convert:hover {\n",
              "      background-color: #E2EBFA;\n",
              "      box-shadow: 0px 1px 2px rgba(60, 64, 67, 0.3), 0px 1px 3px 1px rgba(60, 64, 67, 0.15);\n",
              "      fill: #174EA6;\n",
              "    }\n",
              "\n",
              "    .colab-df-buttons div {\n",
              "      margin-bottom: 4px;\n",
              "    }\n",
              "\n",
              "    [theme=dark] .colab-df-convert {\n",
              "      background-color: #3B4455;\n",
              "      fill: #D2E3FC;\n",
              "    }\n",
              "\n",
              "    [theme=dark] .colab-df-convert:hover {\n",
              "      background-color: #434B5C;\n",
              "      box-shadow: 0px 1px 3px 1px rgba(0, 0, 0, 0.15);\n",
              "      filter: drop-shadow(0px 1px 2px rgba(0, 0, 0, 0.3));\n",
              "      fill: #FFFFFF;\n",
              "    }\n",
              "  </style>\n",
              "\n",
              "    <script>\n",
              "      const buttonEl =\n",
              "        document.querySelector('#df-a7b318c7-f176-4a4b-a949-11db19bb5cb4 button.colab-df-convert');\n",
              "      buttonEl.style.display =\n",
              "        google.colab.kernel.accessAllowed ? 'block' : 'none';\n",
              "\n",
              "      async function convertToInteractive(key) {\n",
              "        const element = document.querySelector('#df-a7b318c7-f176-4a4b-a949-11db19bb5cb4');\n",
              "        const dataTable =\n",
              "          await google.colab.kernel.invokeFunction('convertToInteractive',\n",
              "                                                    [key], {});\n",
              "        if (!dataTable) return;\n",
              "\n",
              "        const docLinkHtml = 'Like what you see? Visit the ' +\n",
              "          '<a target=\"_blank\" href=https://colab.research.google.com/notebooks/data_table.ipynb>data table notebook</a>'\n",
              "          + ' to learn more about interactive tables.';\n",
              "        element.innerHTML = '';\n",
              "        dataTable['output_type'] = 'display_data';\n",
              "        await google.colab.output.renderOutput(dataTable, element);\n",
              "        const docLink = document.createElement('div');\n",
              "        docLink.innerHTML = docLinkHtml;\n",
              "        element.appendChild(docLink);\n",
              "      }\n",
              "    </script>\n",
              "  </div>\n",
              "\n",
              "\n",
              "<div id=\"df-70942353-2533-4029-99ca-1f1eb137738a\">\n",
              "  <button class=\"colab-df-quickchart\" onclick=\"quickchart('df-70942353-2533-4029-99ca-1f1eb137738a')\"\n",
              "            title=\"Suggest charts\"\n",
              "            style=\"display:none;\">\n",
              "\n",
              "<svg xmlns=\"http://www.w3.org/2000/svg\" height=\"24px\"viewBox=\"0 0 24 24\"\n",
              "     width=\"24px\">\n",
              "    <g>\n",
              "        <path d=\"M19 3H5c-1.1 0-2 .9-2 2v14c0 1.1.9 2 2 2h14c1.1 0 2-.9 2-2V5c0-1.1-.9-2-2-2zM9 17H7v-7h2v7zm4 0h-2V7h2v10zm4 0h-2v-4h2v4z\"/>\n",
              "    </g>\n",
              "</svg>\n",
              "  </button>\n",
              "\n",
              "<style>\n",
              "  .colab-df-quickchart {\n",
              "      --bg-color: #E8F0FE;\n",
              "      --fill-color: #1967D2;\n",
              "      --hover-bg-color: #E2EBFA;\n",
              "      --hover-fill-color: #174EA6;\n",
              "      --disabled-fill-color: #AAA;\n",
              "      --disabled-bg-color: #DDD;\n",
              "  }\n",
              "\n",
              "  [theme=dark] .colab-df-quickchart {\n",
              "      --bg-color: #3B4455;\n",
              "      --fill-color: #D2E3FC;\n",
              "      --hover-bg-color: #434B5C;\n",
              "      --hover-fill-color: #FFFFFF;\n",
              "      --disabled-bg-color: #3B4455;\n",
              "      --disabled-fill-color: #666;\n",
              "  }\n",
              "\n",
              "  .colab-df-quickchart {\n",
              "    background-color: var(--bg-color);\n",
              "    border: none;\n",
              "    border-radius: 50%;\n",
              "    cursor: pointer;\n",
              "    display: none;\n",
              "    fill: var(--fill-color);\n",
              "    height: 32px;\n",
              "    padding: 0;\n",
              "    width: 32px;\n",
              "  }\n",
              "\n",
              "  .colab-df-quickchart:hover {\n",
              "    background-color: var(--hover-bg-color);\n",
              "    box-shadow: 0 1px 2px rgba(60, 64, 67, 0.3), 0 1px 3px 1px rgba(60, 64, 67, 0.15);\n",
              "    fill: var(--button-hover-fill-color);\n",
              "  }\n",
              "\n",
              "  .colab-df-quickchart-complete:disabled,\n",
              "  .colab-df-quickchart-complete:disabled:hover {\n",
              "    background-color: var(--disabled-bg-color);\n",
              "    fill: var(--disabled-fill-color);\n",
              "    box-shadow: none;\n",
              "  }\n",
              "\n",
              "  .colab-df-spinner {\n",
              "    border: 2px solid var(--fill-color);\n",
              "    border-color: transparent;\n",
              "    border-bottom-color: var(--fill-color);\n",
              "    animation:\n",
              "      spin 1s steps(1) infinite;\n",
              "  }\n",
              "\n",
              "  @keyframes spin {\n",
              "    0% {\n",
              "      border-color: transparent;\n",
              "      border-bottom-color: var(--fill-color);\n",
              "      border-left-color: var(--fill-color);\n",
              "    }\n",
              "    20% {\n",
              "      border-color: transparent;\n",
              "      border-left-color: var(--fill-color);\n",
              "      border-top-color: var(--fill-color);\n",
              "    }\n",
              "    30% {\n",
              "      border-color: transparent;\n",
              "      border-left-color: var(--fill-color);\n",
              "      border-top-color: var(--fill-color);\n",
              "      border-right-color: var(--fill-color);\n",
              "    }\n",
              "    40% {\n",
              "      border-color: transparent;\n",
              "      border-right-color: var(--fill-color);\n",
              "      border-top-color: var(--fill-color);\n",
              "    }\n",
              "    60% {\n",
              "      border-color: transparent;\n",
              "      border-right-color: var(--fill-color);\n",
              "    }\n",
              "    80% {\n",
              "      border-color: transparent;\n",
              "      border-right-color: var(--fill-color);\n",
              "      border-bottom-color: var(--fill-color);\n",
              "    }\n",
              "    90% {\n",
              "      border-color: transparent;\n",
              "      border-bottom-color: var(--fill-color);\n",
              "    }\n",
              "  }\n",
              "</style>\n",
              "\n",
              "  <script>\n",
              "    async function quickchart(key) {\n",
              "      const quickchartButtonEl =\n",
              "        document.querySelector('#' + key + ' button');\n",
              "      quickchartButtonEl.disabled = true;  // To prevent multiple clicks.\n",
              "      quickchartButtonEl.classList.add('colab-df-spinner');\n",
              "      try {\n",
              "        const charts = await google.colab.kernel.invokeFunction(\n",
              "            'suggestCharts', [key], {});\n",
              "      } catch (error) {\n",
              "        console.error('Error during call to suggestCharts:', error);\n",
              "      }\n",
              "      quickchartButtonEl.classList.remove('colab-df-spinner');\n",
              "      quickchartButtonEl.classList.add('colab-df-quickchart-complete');\n",
              "    }\n",
              "    (() => {\n",
              "      let quickchartButtonEl =\n",
              "        document.querySelector('#df-70942353-2533-4029-99ca-1f1eb137738a button');\n",
              "      quickchartButtonEl.style.display =\n",
              "        google.colab.kernel.accessAllowed ? 'block' : 'none';\n",
              "    })();\n",
              "  </script>\n",
              "</div>\n",
              "    </div>\n",
              "  </div>\n"
            ]
          },
          "metadata": {},
          "execution_count": 64
        }
      ]
    },
    {
      "cell_type": "markdown",
      "source": [
        "# Visualização dos 5 últimos registros"
      ],
      "metadata": {
        "id": "pD0CNGbfL183"
      }
    },
    {
      "cell_type": "code",
      "source": [
        "ds_salary.tail()"
      ],
      "metadata": {
        "colab": {
          "base_uri": "https://localhost:8080/",
          "height": 206
        },
        "id": "H4fEnhqoU_QO",
        "outputId": "b5831053-67e4-47ef-f76f-99f21e9e3cc8"
      },
      "execution_count": 65,
      "outputs": [
        {
          "output_type": "execute_result",
          "data": {
            "text/plain": [
              "      work_year experience_level employment_type                  job_title  \\\n",
              "3756       2020               SE              FT   Principal Data Scientist   \n",
              "3757       2020               SE              FT             Data Scientist   \n",
              "3758       2020               SE              FT       Data Science Manager   \n",
              "3759       2020               SE              FT  Machine Learning Engineer   \n",
              "3760       2020               SE              FT             Data Scientist   \n",
              "\n",
              "      salary salary_currency  salary_in_usd company_location company_size  \n",
              "3756  130000             EUR         148261               DE            M  \n",
              "3757   80000             EUR          91237               AT            S  \n",
              "3758  190200             USD         190200               US            M  \n",
              "3759   40000             EUR          45618               HR            S  \n",
              "3760  412000             USD         412000               US            L  "
            ],
            "text/html": [
              "\n",
              "  <div id=\"df-4faf4b96-8fd0-406c-ad9f-078e18a7d101\" class=\"colab-df-container\">\n",
              "    <div>\n",
              "<style scoped>\n",
              "    .dataframe tbody tr th:only-of-type {\n",
              "        vertical-align: middle;\n",
              "    }\n",
              "\n",
              "    .dataframe tbody tr th {\n",
              "        vertical-align: top;\n",
              "    }\n",
              "\n",
              "    .dataframe thead th {\n",
              "        text-align: right;\n",
              "    }\n",
              "</style>\n",
              "<table border=\"1\" class=\"dataframe\">\n",
              "  <thead>\n",
              "    <tr style=\"text-align: right;\">\n",
              "      <th></th>\n",
              "      <th>work_year</th>\n",
              "      <th>experience_level</th>\n",
              "      <th>employment_type</th>\n",
              "      <th>job_title</th>\n",
              "      <th>salary</th>\n",
              "      <th>salary_currency</th>\n",
              "      <th>salary_in_usd</th>\n",
              "      <th>company_location</th>\n",
              "      <th>company_size</th>\n",
              "    </tr>\n",
              "  </thead>\n",
              "  <tbody>\n",
              "    <tr>\n",
              "      <th>3756</th>\n",
              "      <td>2020</td>\n",
              "      <td>SE</td>\n",
              "      <td>FT</td>\n",
              "      <td>Principal Data Scientist</td>\n",
              "      <td>130000</td>\n",
              "      <td>EUR</td>\n",
              "      <td>148261</td>\n",
              "      <td>DE</td>\n",
              "      <td>M</td>\n",
              "    </tr>\n",
              "    <tr>\n",
              "      <th>3757</th>\n",
              "      <td>2020</td>\n",
              "      <td>SE</td>\n",
              "      <td>FT</td>\n",
              "      <td>Data Scientist</td>\n",
              "      <td>80000</td>\n",
              "      <td>EUR</td>\n",
              "      <td>91237</td>\n",
              "      <td>AT</td>\n",
              "      <td>S</td>\n",
              "    </tr>\n",
              "    <tr>\n",
              "      <th>3758</th>\n",
              "      <td>2020</td>\n",
              "      <td>SE</td>\n",
              "      <td>FT</td>\n",
              "      <td>Data Science Manager</td>\n",
              "      <td>190200</td>\n",
              "      <td>USD</td>\n",
              "      <td>190200</td>\n",
              "      <td>US</td>\n",
              "      <td>M</td>\n",
              "    </tr>\n",
              "    <tr>\n",
              "      <th>3759</th>\n",
              "      <td>2020</td>\n",
              "      <td>SE</td>\n",
              "      <td>FT</td>\n",
              "      <td>Machine Learning Engineer</td>\n",
              "      <td>40000</td>\n",
              "      <td>EUR</td>\n",
              "      <td>45618</td>\n",
              "      <td>HR</td>\n",
              "      <td>S</td>\n",
              "    </tr>\n",
              "    <tr>\n",
              "      <th>3760</th>\n",
              "      <td>2020</td>\n",
              "      <td>SE</td>\n",
              "      <td>FT</td>\n",
              "      <td>Data Scientist</td>\n",
              "      <td>412000</td>\n",
              "      <td>USD</td>\n",
              "      <td>412000</td>\n",
              "      <td>US</td>\n",
              "      <td>L</td>\n",
              "    </tr>\n",
              "  </tbody>\n",
              "</table>\n",
              "</div>\n",
              "    <div class=\"colab-df-buttons\">\n",
              "\n",
              "  <div class=\"colab-df-container\">\n",
              "    <button class=\"colab-df-convert\" onclick=\"convertToInteractive('df-4faf4b96-8fd0-406c-ad9f-078e18a7d101')\"\n",
              "            title=\"Convert this dataframe to an interactive table.\"\n",
              "            style=\"display:none;\">\n",
              "\n",
              "  <svg xmlns=\"http://www.w3.org/2000/svg\" height=\"24px\" viewBox=\"0 -960 960 960\">\n",
              "    <path d=\"M120-120v-720h720v720H120Zm60-500h600v-160H180v160Zm220 220h160v-160H400v160Zm0 220h160v-160H400v160ZM180-400h160v-160H180v160Zm440 0h160v-160H620v160ZM180-180h160v-160H180v160Zm440 0h160v-160H620v160Z\"/>\n",
              "  </svg>\n",
              "    </button>\n",
              "\n",
              "  <style>\n",
              "    .colab-df-container {\n",
              "      display:flex;\n",
              "      gap: 12px;\n",
              "    }\n",
              "\n",
              "    .colab-df-convert {\n",
              "      background-color: #E8F0FE;\n",
              "      border: none;\n",
              "      border-radius: 50%;\n",
              "      cursor: pointer;\n",
              "      display: none;\n",
              "      fill: #1967D2;\n",
              "      height: 32px;\n",
              "      padding: 0 0 0 0;\n",
              "      width: 32px;\n",
              "    }\n",
              "\n",
              "    .colab-df-convert:hover {\n",
              "      background-color: #E2EBFA;\n",
              "      box-shadow: 0px 1px 2px rgba(60, 64, 67, 0.3), 0px 1px 3px 1px rgba(60, 64, 67, 0.15);\n",
              "      fill: #174EA6;\n",
              "    }\n",
              "\n",
              "    .colab-df-buttons div {\n",
              "      margin-bottom: 4px;\n",
              "    }\n",
              "\n",
              "    [theme=dark] .colab-df-convert {\n",
              "      background-color: #3B4455;\n",
              "      fill: #D2E3FC;\n",
              "    }\n",
              "\n",
              "    [theme=dark] .colab-df-convert:hover {\n",
              "      background-color: #434B5C;\n",
              "      box-shadow: 0px 1px 3px 1px rgba(0, 0, 0, 0.15);\n",
              "      filter: drop-shadow(0px 1px 2px rgba(0, 0, 0, 0.3));\n",
              "      fill: #FFFFFF;\n",
              "    }\n",
              "  </style>\n",
              "\n",
              "    <script>\n",
              "      const buttonEl =\n",
              "        document.querySelector('#df-4faf4b96-8fd0-406c-ad9f-078e18a7d101 button.colab-df-convert');\n",
              "      buttonEl.style.display =\n",
              "        google.colab.kernel.accessAllowed ? 'block' : 'none';\n",
              "\n",
              "      async function convertToInteractive(key) {\n",
              "        const element = document.querySelector('#df-4faf4b96-8fd0-406c-ad9f-078e18a7d101');\n",
              "        const dataTable =\n",
              "          await google.colab.kernel.invokeFunction('convertToInteractive',\n",
              "                                                    [key], {});\n",
              "        if (!dataTable) return;\n",
              "\n",
              "        const docLinkHtml = 'Like what you see? Visit the ' +\n",
              "          '<a target=\"_blank\" href=https://colab.research.google.com/notebooks/data_table.ipynb>data table notebook</a>'\n",
              "          + ' to learn more about interactive tables.';\n",
              "        element.innerHTML = '';\n",
              "        dataTable['output_type'] = 'display_data';\n",
              "        await google.colab.output.renderOutput(dataTable, element);\n",
              "        const docLink = document.createElement('div');\n",
              "        docLink.innerHTML = docLinkHtml;\n",
              "        element.appendChild(docLink);\n",
              "      }\n",
              "    </script>\n",
              "  </div>\n",
              "\n",
              "\n",
              "<div id=\"df-cb192d86-22ca-4128-b41e-8f90b7d4fe2d\">\n",
              "  <button class=\"colab-df-quickchart\" onclick=\"quickchart('df-cb192d86-22ca-4128-b41e-8f90b7d4fe2d')\"\n",
              "            title=\"Suggest charts\"\n",
              "            style=\"display:none;\">\n",
              "\n",
              "<svg xmlns=\"http://www.w3.org/2000/svg\" height=\"24px\"viewBox=\"0 0 24 24\"\n",
              "     width=\"24px\">\n",
              "    <g>\n",
              "        <path d=\"M19 3H5c-1.1 0-2 .9-2 2v14c0 1.1.9 2 2 2h14c1.1 0 2-.9 2-2V5c0-1.1-.9-2-2-2zM9 17H7v-7h2v7zm4 0h-2V7h2v10zm4 0h-2v-4h2v4z\"/>\n",
              "    </g>\n",
              "</svg>\n",
              "  </button>\n",
              "\n",
              "<style>\n",
              "  .colab-df-quickchart {\n",
              "      --bg-color: #E8F0FE;\n",
              "      --fill-color: #1967D2;\n",
              "      --hover-bg-color: #E2EBFA;\n",
              "      --hover-fill-color: #174EA6;\n",
              "      --disabled-fill-color: #AAA;\n",
              "      --disabled-bg-color: #DDD;\n",
              "  }\n",
              "\n",
              "  [theme=dark] .colab-df-quickchart {\n",
              "      --bg-color: #3B4455;\n",
              "      --fill-color: #D2E3FC;\n",
              "      --hover-bg-color: #434B5C;\n",
              "      --hover-fill-color: #FFFFFF;\n",
              "      --disabled-bg-color: #3B4455;\n",
              "      --disabled-fill-color: #666;\n",
              "  }\n",
              "\n",
              "  .colab-df-quickchart {\n",
              "    background-color: var(--bg-color);\n",
              "    border: none;\n",
              "    border-radius: 50%;\n",
              "    cursor: pointer;\n",
              "    display: none;\n",
              "    fill: var(--fill-color);\n",
              "    height: 32px;\n",
              "    padding: 0;\n",
              "    width: 32px;\n",
              "  }\n",
              "\n",
              "  .colab-df-quickchart:hover {\n",
              "    background-color: var(--hover-bg-color);\n",
              "    box-shadow: 0 1px 2px rgba(60, 64, 67, 0.3), 0 1px 3px 1px rgba(60, 64, 67, 0.15);\n",
              "    fill: var(--button-hover-fill-color);\n",
              "  }\n",
              "\n",
              "  .colab-df-quickchart-complete:disabled,\n",
              "  .colab-df-quickchart-complete:disabled:hover {\n",
              "    background-color: var(--disabled-bg-color);\n",
              "    fill: var(--disabled-fill-color);\n",
              "    box-shadow: none;\n",
              "  }\n",
              "\n",
              "  .colab-df-spinner {\n",
              "    border: 2px solid var(--fill-color);\n",
              "    border-color: transparent;\n",
              "    border-bottom-color: var(--fill-color);\n",
              "    animation:\n",
              "      spin 1s steps(1) infinite;\n",
              "  }\n",
              "\n",
              "  @keyframes spin {\n",
              "    0% {\n",
              "      border-color: transparent;\n",
              "      border-bottom-color: var(--fill-color);\n",
              "      border-left-color: var(--fill-color);\n",
              "    }\n",
              "    20% {\n",
              "      border-color: transparent;\n",
              "      border-left-color: var(--fill-color);\n",
              "      border-top-color: var(--fill-color);\n",
              "    }\n",
              "    30% {\n",
              "      border-color: transparent;\n",
              "      border-left-color: var(--fill-color);\n",
              "      border-top-color: var(--fill-color);\n",
              "      border-right-color: var(--fill-color);\n",
              "    }\n",
              "    40% {\n",
              "      border-color: transparent;\n",
              "      border-right-color: var(--fill-color);\n",
              "      border-top-color: var(--fill-color);\n",
              "    }\n",
              "    60% {\n",
              "      border-color: transparent;\n",
              "      border-right-color: var(--fill-color);\n",
              "    }\n",
              "    80% {\n",
              "      border-color: transparent;\n",
              "      border-right-color: var(--fill-color);\n",
              "      border-bottom-color: var(--fill-color);\n",
              "    }\n",
              "    90% {\n",
              "      border-color: transparent;\n",
              "      border-bottom-color: var(--fill-color);\n",
              "    }\n",
              "  }\n",
              "</style>\n",
              "\n",
              "  <script>\n",
              "    async function quickchart(key) {\n",
              "      const quickchartButtonEl =\n",
              "        document.querySelector('#' + key + ' button');\n",
              "      quickchartButtonEl.disabled = true;  // To prevent multiple clicks.\n",
              "      quickchartButtonEl.classList.add('colab-df-spinner');\n",
              "      try {\n",
              "        const charts = await google.colab.kernel.invokeFunction(\n",
              "            'suggestCharts', [key], {});\n",
              "      } catch (error) {\n",
              "        console.error('Error during call to suggestCharts:', error);\n",
              "      }\n",
              "      quickchartButtonEl.classList.remove('colab-df-spinner');\n",
              "      quickchartButtonEl.classList.add('colab-df-quickchart-complete');\n",
              "    }\n",
              "    (() => {\n",
              "      let quickchartButtonEl =\n",
              "        document.querySelector('#df-cb192d86-22ca-4128-b41e-8f90b7d4fe2d button');\n",
              "      quickchartButtonEl.style.display =\n",
              "        google.colab.kernel.accessAllowed ? 'block' : 'none';\n",
              "    })();\n",
              "  </script>\n",
              "</div>\n",
              "    </div>\n",
              "  </div>\n"
            ]
          },
          "metadata": {},
          "execution_count": 65
        }
      ]
    },
    {
      "cell_type": "code",
      "source": [
        "ds_salary = pd.DataFrame(ds_salary)\n",
        "display(ds_salary)"
      ],
      "metadata": {
        "colab": {
          "base_uri": "https://localhost:8080/",
          "height": 424
        },
        "id": "Qyo2hbaqVfYK",
        "outputId": "61833ab4-8734-4355-9624-89974529295f"
      },
      "execution_count": 66,
      "outputs": [
        {
          "output_type": "display_data",
          "data": {
            "text/plain": [
              "      work_year experience_level employment_type                  job_title  \\\n",
              "0          2023               EN              FT          Applied Scientist   \n",
              "1          2023               EN              FT          Applied Scientist   \n",
              "2          2023               EN              FT       Data Quality Analyst   \n",
              "3          2023               EN              FT    Compliance Data Analyst   \n",
              "4          2023               EN              FT          Applied Scientist   \n",
              "...         ...              ...             ...                        ...   \n",
              "3756       2020               SE              FT   Principal Data Scientist   \n",
              "3757       2020               SE              FT             Data Scientist   \n",
              "3758       2020               SE              FT       Data Science Manager   \n",
              "3759       2020               SE              FT  Machine Learning Engineer   \n",
              "3760       2020               SE              FT             Data Scientist   \n",
              "\n",
              "      salary salary_currency  salary_in_usd company_location company_size  \n",
              "0     213660             USD         213660               US            L  \n",
              "1     130760             USD         130760               US            L  \n",
              "2     100000             USD         100000               NG            L  \n",
              "3      30000             USD          30000               NG            L  \n",
              "4     204620             USD         204620               US            L  \n",
              "...      ...             ...            ...              ...          ...  \n",
              "3756  130000             EUR         148261               DE            M  \n",
              "3757   80000             EUR          91237               AT            S  \n",
              "3758  190200             USD         190200               US            M  \n",
              "3759   40000             EUR          45618               HR            S  \n",
              "3760  412000             USD         412000               US            L  \n",
              "\n",
              "[3761 rows x 9 columns]"
            ],
            "text/html": [
              "\n",
              "  <div id=\"df-01dfc0fa-06d6-48cf-a9ba-773509c37251\" class=\"colab-df-container\">\n",
              "    <div>\n",
              "<style scoped>\n",
              "    .dataframe tbody tr th:only-of-type {\n",
              "        vertical-align: middle;\n",
              "    }\n",
              "\n",
              "    .dataframe tbody tr th {\n",
              "        vertical-align: top;\n",
              "    }\n",
              "\n",
              "    .dataframe thead th {\n",
              "        text-align: right;\n",
              "    }\n",
              "</style>\n",
              "<table border=\"1\" class=\"dataframe\">\n",
              "  <thead>\n",
              "    <tr style=\"text-align: right;\">\n",
              "      <th></th>\n",
              "      <th>work_year</th>\n",
              "      <th>experience_level</th>\n",
              "      <th>employment_type</th>\n",
              "      <th>job_title</th>\n",
              "      <th>salary</th>\n",
              "      <th>salary_currency</th>\n",
              "      <th>salary_in_usd</th>\n",
              "      <th>company_location</th>\n",
              "      <th>company_size</th>\n",
              "    </tr>\n",
              "  </thead>\n",
              "  <tbody>\n",
              "    <tr>\n",
              "      <th>0</th>\n",
              "      <td>2023</td>\n",
              "      <td>EN</td>\n",
              "      <td>FT</td>\n",
              "      <td>Applied Scientist</td>\n",
              "      <td>213660</td>\n",
              "      <td>USD</td>\n",
              "      <td>213660</td>\n",
              "      <td>US</td>\n",
              "      <td>L</td>\n",
              "    </tr>\n",
              "    <tr>\n",
              "      <th>1</th>\n",
              "      <td>2023</td>\n",
              "      <td>EN</td>\n",
              "      <td>FT</td>\n",
              "      <td>Applied Scientist</td>\n",
              "      <td>130760</td>\n",
              "      <td>USD</td>\n",
              "      <td>130760</td>\n",
              "      <td>US</td>\n",
              "      <td>L</td>\n",
              "    </tr>\n",
              "    <tr>\n",
              "      <th>2</th>\n",
              "      <td>2023</td>\n",
              "      <td>EN</td>\n",
              "      <td>FT</td>\n",
              "      <td>Data Quality Analyst</td>\n",
              "      <td>100000</td>\n",
              "      <td>USD</td>\n",
              "      <td>100000</td>\n",
              "      <td>NG</td>\n",
              "      <td>L</td>\n",
              "    </tr>\n",
              "    <tr>\n",
              "      <th>3</th>\n",
              "      <td>2023</td>\n",
              "      <td>EN</td>\n",
              "      <td>FT</td>\n",
              "      <td>Compliance Data Analyst</td>\n",
              "      <td>30000</td>\n",
              "      <td>USD</td>\n",
              "      <td>30000</td>\n",
              "      <td>NG</td>\n",
              "      <td>L</td>\n",
              "    </tr>\n",
              "    <tr>\n",
              "      <th>4</th>\n",
              "      <td>2023</td>\n",
              "      <td>EN</td>\n",
              "      <td>FT</td>\n",
              "      <td>Applied Scientist</td>\n",
              "      <td>204620</td>\n",
              "      <td>USD</td>\n",
              "      <td>204620</td>\n",
              "      <td>US</td>\n",
              "      <td>L</td>\n",
              "    </tr>\n",
              "    <tr>\n",
              "      <th>...</th>\n",
              "      <td>...</td>\n",
              "      <td>...</td>\n",
              "      <td>...</td>\n",
              "      <td>...</td>\n",
              "      <td>...</td>\n",
              "      <td>...</td>\n",
              "      <td>...</td>\n",
              "      <td>...</td>\n",
              "      <td>...</td>\n",
              "    </tr>\n",
              "    <tr>\n",
              "      <th>3756</th>\n",
              "      <td>2020</td>\n",
              "      <td>SE</td>\n",
              "      <td>FT</td>\n",
              "      <td>Principal Data Scientist</td>\n",
              "      <td>130000</td>\n",
              "      <td>EUR</td>\n",
              "      <td>148261</td>\n",
              "      <td>DE</td>\n",
              "      <td>M</td>\n",
              "    </tr>\n",
              "    <tr>\n",
              "      <th>3757</th>\n",
              "      <td>2020</td>\n",
              "      <td>SE</td>\n",
              "      <td>FT</td>\n",
              "      <td>Data Scientist</td>\n",
              "      <td>80000</td>\n",
              "      <td>EUR</td>\n",
              "      <td>91237</td>\n",
              "      <td>AT</td>\n",
              "      <td>S</td>\n",
              "    </tr>\n",
              "    <tr>\n",
              "      <th>3758</th>\n",
              "      <td>2020</td>\n",
              "      <td>SE</td>\n",
              "      <td>FT</td>\n",
              "      <td>Data Science Manager</td>\n",
              "      <td>190200</td>\n",
              "      <td>USD</td>\n",
              "      <td>190200</td>\n",
              "      <td>US</td>\n",
              "      <td>M</td>\n",
              "    </tr>\n",
              "    <tr>\n",
              "      <th>3759</th>\n",
              "      <td>2020</td>\n",
              "      <td>SE</td>\n",
              "      <td>FT</td>\n",
              "      <td>Machine Learning Engineer</td>\n",
              "      <td>40000</td>\n",
              "      <td>EUR</td>\n",
              "      <td>45618</td>\n",
              "      <td>HR</td>\n",
              "      <td>S</td>\n",
              "    </tr>\n",
              "    <tr>\n",
              "      <th>3760</th>\n",
              "      <td>2020</td>\n",
              "      <td>SE</td>\n",
              "      <td>FT</td>\n",
              "      <td>Data Scientist</td>\n",
              "      <td>412000</td>\n",
              "      <td>USD</td>\n",
              "      <td>412000</td>\n",
              "      <td>US</td>\n",
              "      <td>L</td>\n",
              "    </tr>\n",
              "  </tbody>\n",
              "</table>\n",
              "<p>3761 rows × 9 columns</p>\n",
              "</div>\n",
              "    <div class=\"colab-df-buttons\">\n",
              "\n",
              "  <div class=\"colab-df-container\">\n",
              "    <button class=\"colab-df-convert\" onclick=\"convertToInteractive('df-01dfc0fa-06d6-48cf-a9ba-773509c37251')\"\n",
              "            title=\"Convert this dataframe to an interactive table.\"\n",
              "            style=\"display:none;\">\n",
              "\n",
              "  <svg xmlns=\"http://www.w3.org/2000/svg\" height=\"24px\" viewBox=\"0 -960 960 960\">\n",
              "    <path d=\"M120-120v-720h720v720H120Zm60-500h600v-160H180v160Zm220 220h160v-160H400v160Zm0 220h160v-160H400v160ZM180-400h160v-160H180v160Zm440 0h160v-160H620v160ZM180-180h160v-160H180v160Zm440 0h160v-160H620v160Z\"/>\n",
              "  </svg>\n",
              "    </button>\n",
              "\n",
              "  <style>\n",
              "    .colab-df-container {\n",
              "      display:flex;\n",
              "      gap: 12px;\n",
              "    }\n",
              "\n",
              "    .colab-df-convert {\n",
              "      background-color: #E8F0FE;\n",
              "      border: none;\n",
              "      border-radius: 50%;\n",
              "      cursor: pointer;\n",
              "      display: none;\n",
              "      fill: #1967D2;\n",
              "      height: 32px;\n",
              "      padding: 0 0 0 0;\n",
              "      width: 32px;\n",
              "    }\n",
              "\n",
              "    .colab-df-convert:hover {\n",
              "      background-color: #E2EBFA;\n",
              "      box-shadow: 0px 1px 2px rgba(60, 64, 67, 0.3), 0px 1px 3px 1px rgba(60, 64, 67, 0.15);\n",
              "      fill: #174EA6;\n",
              "    }\n",
              "\n",
              "    .colab-df-buttons div {\n",
              "      margin-bottom: 4px;\n",
              "    }\n",
              "\n",
              "    [theme=dark] .colab-df-convert {\n",
              "      background-color: #3B4455;\n",
              "      fill: #D2E3FC;\n",
              "    }\n",
              "\n",
              "    [theme=dark] .colab-df-convert:hover {\n",
              "      background-color: #434B5C;\n",
              "      box-shadow: 0px 1px 3px 1px rgba(0, 0, 0, 0.15);\n",
              "      filter: drop-shadow(0px 1px 2px rgba(0, 0, 0, 0.3));\n",
              "      fill: #FFFFFF;\n",
              "    }\n",
              "  </style>\n",
              "\n",
              "    <script>\n",
              "      const buttonEl =\n",
              "        document.querySelector('#df-01dfc0fa-06d6-48cf-a9ba-773509c37251 button.colab-df-convert');\n",
              "      buttonEl.style.display =\n",
              "        google.colab.kernel.accessAllowed ? 'block' : 'none';\n",
              "\n",
              "      async function convertToInteractive(key) {\n",
              "        const element = document.querySelector('#df-01dfc0fa-06d6-48cf-a9ba-773509c37251');\n",
              "        const dataTable =\n",
              "          await google.colab.kernel.invokeFunction('convertToInteractive',\n",
              "                                                    [key], {});\n",
              "        if (!dataTable) return;\n",
              "\n",
              "        const docLinkHtml = 'Like what you see? Visit the ' +\n",
              "          '<a target=\"_blank\" href=https://colab.research.google.com/notebooks/data_table.ipynb>data table notebook</a>'\n",
              "          + ' to learn more about interactive tables.';\n",
              "        element.innerHTML = '';\n",
              "        dataTable['output_type'] = 'display_data';\n",
              "        await google.colab.output.renderOutput(dataTable, element);\n",
              "        const docLink = document.createElement('div');\n",
              "        docLink.innerHTML = docLinkHtml;\n",
              "        element.appendChild(docLink);\n",
              "      }\n",
              "    </script>\n",
              "  </div>\n",
              "\n",
              "\n",
              "<div id=\"df-f7e74014-ab59-4d9f-9985-a9c80508f3ba\">\n",
              "  <button class=\"colab-df-quickchart\" onclick=\"quickchart('df-f7e74014-ab59-4d9f-9985-a9c80508f3ba')\"\n",
              "            title=\"Suggest charts\"\n",
              "            style=\"display:none;\">\n",
              "\n",
              "<svg xmlns=\"http://www.w3.org/2000/svg\" height=\"24px\"viewBox=\"0 0 24 24\"\n",
              "     width=\"24px\">\n",
              "    <g>\n",
              "        <path d=\"M19 3H5c-1.1 0-2 .9-2 2v14c0 1.1.9 2 2 2h14c1.1 0 2-.9 2-2V5c0-1.1-.9-2-2-2zM9 17H7v-7h2v7zm4 0h-2V7h2v10zm4 0h-2v-4h2v4z\"/>\n",
              "    </g>\n",
              "</svg>\n",
              "  </button>\n",
              "\n",
              "<style>\n",
              "  .colab-df-quickchart {\n",
              "      --bg-color: #E8F0FE;\n",
              "      --fill-color: #1967D2;\n",
              "      --hover-bg-color: #E2EBFA;\n",
              "      --hover-fill-color: #174EA6;\n",
              "      --disabled-fill-color: #AAA;\n",
              "      --disabled-bg-color: #DDD;\n",
              "  }\n",
              "\n",
              "  [theme=dark] .colab-df-quickchart {\n",
              "      --bg-color: #3B4455;\n",
              "      --fill-color: #D2E3FC;\n",
              "      --hover-bg-color: #434B5C;\n",
              "      --hover-fill-color: #FFFFFF;\n",
              "      --disabled-bg-color: #3B4455;\n",
              "      --disabled-fill-color: #666;\n",
              "  }\n",
              "\n",
              "  .colab-df-quickchart {\n",
              "    background-color: var(--bg-color);\n",
              "    border: none;\n",
              "    border-radius: 50%;\n",
              "    cursor: pointer;\n",
              "    display: none;\n",
              "    fill: var(--fill-color);\n",
              "    height: 32px;\n",
              "    padding: 0;\n",
              "    width: 32px;\n",
              "  }\n",
              "\n",
              "  .colab-df-quickchart:hover {\n",
              "    background-color: var(--hover-bg-color);\n",
              "    box-shadow: 0 1px 2px rgba(60, 64, 67, 0.3), 0 1px 3px 1px rgba(60, 64, 67, 0.15);\n",
              "    fill: var(--button-hover-fill-color);\n",
              "  }\n",
              "\n",
              "  .colab-df-quickchart-complete:disabled,\n",
              "  .colab-df-quickchart-complete:disabled:hover {\n",
              "    background-color: var(--disabled-bg-color);\n",
              "    fill: var(--disabled-fill-color);\n",
              "    box-shadow: none;\n",
              "  }\n",
              "\n",
              "  .colab-df-spinner {\n",
              "    border: 2px solid var(--fill-color);\n",
              "    border-color: transparent;\n",
              "    border-bottom-color: var(--fill-color);\n",
              "    animation:\n",
              "      spin 1s steps(1) infinite;\n",
              "  }\n",
              "\n",
              "  @keyframes spin {\n",
              "    0% {\n",
              "      border-color: transparent;\n",
              "      border-bottom-color: var(--fill-color);\n",
              "      border-left-color: var(--fill-color);\n",
              "    }\n",
              "    20% {\n",
              "      border-color: transparent;\n",
              "      border-left-color: var(--fill-color);\n",
              "      border-top-color: var(--fill-color);\n",
              "    }\n",
              "    30% {\n",
              "      border-color: transparent;\n",
              "      border-left-color: var(--fill-color);\n",
              "      border-top-color: var(--fill-color);\n",
              "      border-right-color: var(--fill-color);\n",
              "    }\n",
              "    40% {\n",
              "      border-color: transparent;\n",
              "      border-right-color: var(--fill-color);\n",
              "      border-top-color: var(--fill-color);\n",
              "    }\n",
              "    60% {\n",
              "      border-color: transparent;\n",
              "      border-right-color: var(--fill-color);\n",
              "    }\n",
              "    80% {\n",
              "      border-color: transparent;\n",
              "      border-right-color: var(--fill-color);\n",
              "      border-bottom-color: var(--fill-color);\n",
              "    }\n",
              "    90% {\n",
              "      border-color: transparent;\n",
              "      border-bottom-color: var(--fill-color);\n",
              "    }\n",
              "  }\n",
              "</style>\n",
              "\n",
              "  <script>\n",
              "    async function quickchart(key) {\n",
              "      const quickchartButtonEl =\n",
              "        document.querySelector('#' + key + ' button');\n",
              "      quickchartButtonEl.disabled = true;  // To prevent multiple clicks.\n",
              "      quickchartButtonEl.classList.add('colab-df-spinner');\n",
              "      try {\n",
              "        const charts = await google.colab.kernel.invokeFunction(\n",
              "            'suggestCharts', [key], {});\n",
              "      } catch (error) {\n",
              "        console.error('Error during call to suggestCharts:', error);\n",
              "      }\n",
              "      quickchartButtonEl.classList.remove('colab-df-spinner');\n",
              "      quickchartButtonEl.classList.add('colab-df-quickchart-complete');\n",
              "    }\n",
              "    (() => {\n",
              "      let quickchartButtonEl =\n",
              "        document.querySelector('#df-f7e74014-ab59-4d9f-9985-a9c80508f3ba button');\n",
              "      quickchartButtonEl.style.display =\n",
              "        google.colab.kernel.accessAllowed ? 'block' : 'none';\n",
              "    })();\n",
              "  </script>\n",
              "</div>\n",
              "    </div>\n",
              "  </div>\n"
            ]
          },
          "metadata": {}
        }
      ]
    },
    {
      "cell_type": "markdown",
      "source": [
        "# Limpeza de dados\n",
        "Retirando os dados duplicados."
      ],
      "metadata": {
        "id": "WQNV0HZgLa0Y"
      }
    },
    {
      "cell_type": "code",
      "source": [
        "ds_salary.info()"
      ],
      "metadata": {
        "id": "mlMJmuo60sJW",
        "outputId": "f740d262-02ba-4fe9-aaf0-17423d5bfb84",
        "colab": {
          "base_uri": "https://localhost:8080/"
        }
      },
      "execution_count": 67,
      "outputs": [
        {
          "output_type": "stream",
          "name": "stdout",
          "text": [
            "<class 'pandas.core.frame.DataFrame'>\n",
            "RangeIndex: 3761 entries, 0 to 3760\n",
            "Data columns (total 9 columns):\n",
            " #   Column            Non-Null Count  Dtype \n",
            "---  ------            --------------  ----- \n",
            " 0   work_year         3761 non-null   int64 \n",
            " 1   experience_level  3761 non-null   object\n",
            " 2   employment_type   3761 non-null   object\n",
            " 3   job_title         3761 non-null   object\n",
            " 4   salary            3761 non-null   int64 \n",
            " 5   salary_currency   3761 non-null   object\n",
            " 6   salary_in_usd     3761 non-null   int64 \n",
            " 7   company_location  3761 non-null   object\n",
            " 8   company_size      3761 non-null   object\n",
            "dtypes: int64(3), object(6)\n",
            "memory usage: 264.6+ KB\n"
          ]
        }
      ]
    },
    {
      "cell_type": "code",
      "source": [
        "ds_salary = ds_salary.drop_duplicates()\n",
        "display(ds_salary)"
      ],
      "metadata": {
        "colab": {
          "base_uri": "https://localhost:8080/",
          "height": 424
        },
        "id": "gqqIn2KyXRwc",
        "outputId": "41f83d93-3e50-4bbe-b433-ceb8ebdbe900"
      },
      "execution_count": 68,
      "outputs": [
        {
          "output_type": "display_data",
          "data": {
            "text/plain": [
              "      work_year experience_level employment_type                  job_title  \\\n",
              "0          2023               EN              FT          Applied Scientist   \n",
              "1          2023               EN              FT          Applied Scientist   \n",
              "2          2023               EN              FT       Data Quality Analyst   \n",
              "3          2023               EN              FT    Compliance Data Analyst   \n",
              "4          2023               EN              FT          Applied Scientist   \n",
              "...         ...              ...             ...                        ...   \n",
              "3756       2020               SE              FT   Principal Data Scientist   \n",
              "3757       2020               SE              FT             Data Scientist   \n",
              "3758       2020               SE              FT       Data Science Manager   \n",
              "3759       2020               SE              FT  Machine Learning Engineer   \n",
              "3760       2020               SE              FT             Data Scientist   \n",
              "\n",
              "      salary salary_currency  salary_in_usd company_location company_size  \n",
              "0     213660             USD         213660               US            L  \n",
              "1     130760             USD         130760               US            L  \n",
              "2     100000             USD         100000               NG            L  \n",
              "3      30000             USD          30000               NG            L  \n",
              "4     204620             USD         204620               US            L  \n",
              "...      ...             ...            ...              ...          ...  \n",
              "3756  130000             EUR         148261               DE            M  \n",
              "3757   80000             EUR          91237               AT            S  \n",
              "3758  190200             USD         190200               US            M  \n",
              "3759   40000             EUR          45618               HR            S  \n",
              "3760  412000             USD         412000               US            L  \n",
              "\n",
              "[2410 rows x 9 columns]"
            ],
            "text/html": [
              "\n",
              "  <div id=\"df-faf0db2d-7dc8-4cba-8b5f-4a02490e89c1\" class=\"colab-df-container\">\n",
              "    <div>\n",
              "<style scoped>\n",
              "    .dataframe tbody tr th:only-of-type {\n",
              "        vertical-align: middle;\n",
              "    }\n",
              "\n",
              "    .dataframe tbody tr th {\n",
              "        vertical-align: top;\n",
              "    }\n",
              "\n",
              "    .dataframe thead th {\n",
              "        text-align: right;\n",
              "    }\n",
              "</style>\n",
              "<table border=\"1\" class=\"dataframe\">\n",
              "  <thead>\n",
              "    <tr style=\"text-align: right;\">\n",
              "      <th></th>\n",
              "      <th>work_year</th>\n",
              "      <th>experience_level</th>\n",
              "      <th>employment_type</th>\n",
              "      <th>job_title</th>\n",
              "      <th>salary</th>\n",
              "      <th>salary_currency</th>\n",
              "      <th>salary_in_usd</th>\n",
              "      <th>company_location</th>\n",
              "      <th>company_size</th>\n",
              "    </tr>\n",
              "  </thead>\n",
              "  <tbody>\n",
              "    <tr>\n",
              "      <th>0</th>\n",
              "      <td>2023</td>\n",
              "      <td>EN</td>\n",
              "      <td>FT</td>\n",
              "      <td>Applied Scientist</td>\n",
              "      <td>213660</td>\n",
              "      <td>USD</td>\n",
              "      <td>213660</td>\n",
              "      <td>US</td>\n",
              "      <td>L</td>\n",
              "    </tr>\n",
              "    <tr>\n",
              "      <th>1</th>\n",
              "      <td>2023</td>\n",
              "      <td>EN</td>\n",
              "      <td>FT</td>\n",
              "      <td>Applied Scientist</td>\n",
              "      <td>130760</td>\n",
              "      <td>USD</td>\n",
              "      <td>130760</td>\n",
              "      <td>US</td>\n",
              "      <td>L</td>\n",
              "    </tr>\n",
              "    <tr>\n",
              "      <th>2</th>\n",
              "      <td>2023</td>\n",
              "      <td>EN</td>\n",
              "      <td>FT</td>\n",
              "      <td>Data Quality Analyst</td>\n",
              "      <td>100000</td>\n",
              "      <td>USD</td>\n",
              "      <td>100000</td>\n",
              "      <td>NG</td>\n",
              "      <td>L</td>\n",
              "    </tr>\n",
              "    <tr>\n",
              "      <th>3</th>\n",
              "      <td>2023</td>\n",
              "      <td>EN</td>\n",
              "      <td>FT</td>\n",
              "      <td>Compliance Data Analyst</td>\n",
              "      <td>30000</td>\n",
              "      <td>USD</td>\n",
              "      <td>30000</td>\n",
              "      <td>NG</td>\n",
              "      <td>L</td>\n",
              "    </tr>\n",
              "    <tr>\n",
              "      <th>4</th>\n",
              "      <td>2023</td>\n",
              "      <td>EN</td>\n",
              "      <td>FT</td>\n",
              "      <td>Applied Scientist</td>\n",
              "      <td>204620</td>\n",
              "      <td>USD</td>\n",
              "      <td>204620</td>\n",
              "      <td>US</td>\n",
              "      <td>L</td>\n",
              "    </tr>\n",
              "    <tr>\n",
              "      <th>...</th>\n",
              "      <td>...</td>\n",
              "      <td>...</td>\n",
              "      <td>...</td>\n",
              "      <td>...</td>\n",
              "      <td>...</td>\n",
              "      <td>...</td>\n",
              "      <td>...</td>\n",
              "      <td>...</td>\n",
              "      <td>...</td>\n",
              "    </tr>\n",
              "    <tr>\n",
              "      <th>3756</th>\n",
              "      <td>2020</td>\n",
              "      <td>SE</td>\n",
              "      <td>FT</td>\n",
              "      <td>Principal Data Scientist</td>\n",
              "      <td>130000</td>\n",
              "      <td>EUR</td>\n",
              "      <td>148261</td>\n",
              "      <td>DE</td>\n",
              "      <td>M</td>\n",
              "    </tr>\n",
              "    <tr>\n",
              "      <th>3757</th>\n",
              "      <td>2020</td>\n",
              "      <td>SE</td>\n",
              "      <td>FT</td>\n",
              "      <td>Data Scientist</td>\n",
              "      <td>80000</td>\n",
              "      <td>EUR</td>\n",
              "      <td>91237</td>\n",
              "      <td>AT</td>\n",
              "      <td>S</td>\n",
              "    </tr>\n",
              "    <tr>\n",
              "      <th>3758</th>\n",
              "      <td>2020</td>\n",
              "      <td>SE</td>\n",
              "      <td>FT</td>\n",
              "      <td>Data Science Manager</td>\n",
              "      <td>190200</td>\n",
              "      <td>USD</td>\n",
              "      <td>190200</td>\n",
              "      <td>US</td>\n",
              "      <td>M</td>\n",
              "    </tr>\n",
              "    <tr>\n",
              "      <th>3759</th>\n",
              "      <td>2020</td>\n",
              "      <td>SE</td>\n",
              "      <td>FT</td>\n",
              "      <td>Machine Learning Engineer</td>\n",
              "      <td>40000</td>\n",
              "      <td>EUR</td>\n",
              "      <td>45618</td>\n",
              "      <td>HR</td>\n",
              "      <td>S</td>\n",
              "    </tr>\n",
              "    <tr>\n",
              "      <th>3760</th>\n",
              "      <td>2020</td>\n",
              "      <td>SE</td>\n",
              "      <td>FT</td>\n",
              "      <td>Data Scientist</td>\n",
              "      <td>412000</td>\n",
              "      <td>USD</td>\n",
              "      <td>412000</td>\n",
              "      <td>US</td>\n",
              "      <td>L</td>\n",
              "    </tr>\n",
              "  </tbody>\n",
              "</table>\n",
              "<p>2410 rows × 9 columns</p>\n",
              "</div>\n",
              "    <div class=\"colab-df-buttons\">\n",
              "\n",
              "  <div class=\"colab-df-container\">\n",
              "    <button class=\"colab-df-convert\" onclick=\"convertToInteractive('df-faf0db2d-7dc8-4cba-8b5f-4a02490e89c1')\"\n",
              "            title=\"Convert this dataframe to an interactive table.\"\n",
              "            style=\"display:none;\">\n",
              "\n",
              "  <svg xmlns=\"http://www.w3.org/2000/svg\" height=\"24px\" viewBox=\"0 -960 960 960\">\n",
              "    <path d=\"M120-120v-720h720v720H120Zm60-500h600v-160H180v160Zm220 220h160v-160H400v160Zm0 220h160v-160H400v160ZM180-400h160v-160H180v160Zm440 0h160v-160H620v160ZM180-180h160v-160H180v160Zm440 0h160v-160H620v160Z\"/>\n",
              "  </svg>\n",
              "    </button>\n",
              "\n",
              "  <style>\n",
              "    .colab-df-container {\n",
              "      display:flex;\n",
              "      gap: 12px;\n",
              "    }\n",
              "\n",
              "    .colab-df-convert {\n",
              "      background-color: #E8F0FE;\n",
              "      border: none;\n",
              "      border-radius: 50%;\n",
              "      cursor: pointer;\n",
              "      display: none;\n",
              "      fill: #1967D2;\n",
              "      height: 32px;\n",
              "      padding: 0 0 0 0;\n",
              "      width: 32px;\n",
              "    }\n",
              "\n",
              "    .colab-df-convert:hover {\n",
              "      background-color: #E2EBFA;\n",
              "      box-shadow: 0px 1px 2px rgba(60, 64, 67, 0.3), 0px 1px 3px 1px rgba(60, 64, 67, 0.15);\n",
              "      fill: #174EA6;\n",
              "    }\n",
              "\n",
              "    .colab-df-buttons div {\n",
              "      margin-bottom: 4px;\n",
              "    }\n",
              "\n",
              "    [theme=dark] .colab-df-convert {\n",
              "      background-color: #3B4455;\n",
              "      fill: #D2E3FC;\n",
              "    }\n",
              "\n",
              "    [theme=dark] .colab-df-convert:hover {\n",
              "      background-color: #434B5C;\n",
              "      box-shadow: 0px 1px 3px 1px rgba(0, 0, 0, 0.15);\n",
              "      filter: drop-shadow(0px 1px 2px rgba(0, 0, 0, 0.3));\n",
              "      fill: #FFFFFF;\n",
              "    }\n",
              "  </style>\n",
              "\n",
              "    <script>\n",
              "      const buttonEl =\n",
              "        document.querySelector('#df-faf0db2d-7dc8-4cba-8b5f-4a02490e89c1 button.colab-df-convert');\n",
              "      buttonEl.style.display =\n",
              "        google.colab.kernel.accessAllowed ? 'block' : 'none';\n",
              "\n",
              "      async function convertToInteractive(key) {\n",
              "        const element = document.querySelector('#df-faf0db2d-7dc8-4cba-8b5f-4a02490e89c1');\n",
              "        const dataTable =\n",
              "          await google.colab.kernel.invokeFunction('convertToInteractive',\n",
              "                                                    [key], {});\n",
              "        if (!dataTable) return;\n",
              "\n",
              "        const docLinkHtml = 'Like what you see? Visit the ' +\n",
              "          '<a target=\"_blank\" href=https://colab.research.google.com/notebooks/data_table.ipynb>data table notebook</a>'\n",
              "          + ' to learn more about interactive tables.';\n",
              "        element.innerHTML = '';\n",
              "        dataTable['output_type'] = 'display_data';\n",
              "        await google.colab.output.renderOutput(dataTable, element);\n",
              "        const docLink = document.createElement('div');\n",
              "        docLink.innerHTML = docLinkHtml;\n",
              "        element.appendChild(docLink);\n",
              "      }\n",
              "    </script>\n",
              "  </div>\n",
              "\n",
              "\n",
              "<div id=\"df-2645a6a7-2cf0-4c2a-b495-1a4b8597d576\">\n",
              "  <button class=\"colab-df-quickchart\" onclick=\"quickchart('df-2645a6a7-2cf0-4c2a-b495-1a4b8597d576')\"\n",
              "            title=\"Suggest charts\"\n",
              "            style=\"display:none;\">\n",
              "\n",
              "<svg xmlns=\"http://www.w3.org/2000/svg\" height=\"24px\"viewBox=\"0 0 24 24\"\n",
              "     width=\"24px\">\n",
              "    <g>\n",
              "        <path d=\"M19 3H5c-1.1 0-2 .9-2 2v14c0 1.1.9 2 2 2h14c1.1 0 2-.9 2-2V5c0-1.1-.9-2-2-2zM9 17H7v-7h2v7zm4 0h-2V7h2v10zm4 0h-2v-4h2v4z\"/>\n",
              "    </g>\n",
              "</svg>\n",
              "  </button>\n",
              "\n",
              "<style>\n",
              "  .colab-df-quickchart {\n",
              "      --bg-color: #E8F0FE;\n",
              "      --fill-color: #1967D2;\n",
              "      --hover-bg-color: #E2EBFA;\n",
              "      --hover-fill-color: #174EA6;\n",
              "      --disabled-fill-color: #AAA;\n",
              "      --disabled-bg-color: #DDD;\n",
              "  }\n",
              "\n",
              "  [theme=dark] .colab-df-quickchart {\n",
              "      --bg-color: #3B4455;\n",
              "      --fill-color: #D2E3FC;\n",
              "      --hover-bg-color: #434B5C;\n",
              "      --hover-fill-color: #FFFFFF;\n",
              "      --disabled-bg-color: #3B4455;\n",
              "      --disabled-fill-color: #666;\n",
              "  }\n",
              "\n",
              "  .colab-df-quickchart {\n",
              "    background-color: var(--bg-color);\n",
              "    border: none;\n",
              "    border-radius: 50%;\n",
              "    cursor: pointer;\n",
              "    display: none;\n",
              "    fill: var(--fill-color);\n",
              "    height: 32px;\n",
              "    padding: 0;\n",
              "    width: 32px;\n",
              "  }\n",
              "\n",
              "  .colab-df-quickchart:hover {\n",
              "    background-color: var(--hover-bg-color);\n",
              "    box-shadow: 0 1px 2px rgba(60, 64, 67, 0.3), 0 1px 3px 1px rgba(60, 64, 67, 0.15);\n",
              "    fill: var(--button-hover-fill-color);\n",
              "  }\n",
              "\n",
              "  .colab-df-quickchart-complete:disabled,\n",
              "  .colab-df-quickchart-complete:disabled:hover {\n",
              "    background-color: var(--disabled-bg-color);\n",
              "    fill: var(--disabled-fill-color);\n",
              "    box-shadow: none;\n",
              "  }\n",
              "\n",
              "  .colab-df-spinner {\n",
              "    border: 2px solid var(--fill-color);\n",
              "    border-color: transparent;\n",
              "    border-bottom-color: var(--fill-color);\n",
              "    animation:\n",
              "      spin 1s steps(1) infinite;\n",
              "  }\n",
              "\n",
              "  @keyframes spin {\n",
              "    0% {\n",
              "      border-color: transparent;\n",
              "      border-bottom-color: var(--fill-color);\n",
              "      border-left-color: var(--fill-color);\n",
              "    }\n",
              "    20% {\n",
              "      border-color: transparent;\n",
              "      border-left-color: var(--fill-color);\n",
              "      border-top-color: var(--fill-color);\n",
              "    }\n",
              "    30% {\n",
              "      border-color: transparent;\n",
              "      border-left-color: var(--fill-color);\n",
              "      border-top-color: var(--fill-color);\n",
              "      border-right-color: var(--fill-color);\n",
              "    }\n",
              "    40% {\n",
              "      border-color: transparent;\n",
              "      border-right-color: var(--fill-color);\n",
              "      border-top-color: var(--fill-color);\n",
              "    }\n",
              "    60% {\n",
              "      border-color: transparent;\n",
              "      border-right-color: var(--fill-color);\n",
              "    }\n",
              "    80% {\n",
              "      border-color: transparent;\n",
              "      border-right-color: var(--fill-color);\n",
              "      border-bottom-color: var(--fill-color);\n",
              "    }\n",
              "    90% {\n",
              "      border-color: transparent;\n",
              "      border-bottom-color: var(--fill-color);\n",
              "    }\n",
              "  }\n",
              "</style>\n",
              "\n",
              "  <script>\n",
              "    async function quickchart(key) {\n",
              "      const quickchartButtonEl =\n",
              "        document.querySelector('#' + key + ' button');\n",
              "      quickchartButtonEl.disabled = true;  // To prevent multiple clicks.\n",
              "      quickchartButtonEl.classList.add('colab-df-spinner');\n",
              "      try {\n",
              "        const charts = await google.colab.kernel.invokeFunction(\n",
              "            'suggestCharts', [key], {});\n",
              "      } catch (error) {\n",
              "        console.error('Error during call to suggestCharts:', error);\n",
              "      }\n",
              "      quickchartButtonEl.classList.remove('colab-df-spinner');\n",
              "      quickchartButtonEl.classList.add('colab-df-quickchart-complete');\n",
              "    }\n",
              "    (() => {\n",
              "      let quickchartButtonEl =\n",
              "        document.querySelector('#df-2645a6a7-2cf0-4c2a-b495-1a4b8597d576 button');\n",
              "      quickchartButtonEl.style.display =\n",
              "        google.colab.kernel.accessAllowed ? 'block' : 'none';\n",
              "    })();\n",
              "  </script>\n",
              "</div>\n",
              "    </div>\n",
              "  </div>\n"
            ]
          },
          "metadata": {}
        }
      ]
    },
    {
      "cell_type": "markdown",
      "source": [
        "1. work_year: O ano em que o trabalho foi remunerado.\n",
        "2. experience_level: Nível de experiência do cargo em questão\n",
        "Em ordem no menos para o mais experiente:\n",
        "  EN = Entry Level = Iniciante\n",
        "  MI = Mid level = Intermediário\n",
        "  SE = Senior = Senior\n",
        "  EX = Executive = Executivo (cargos de liderança e/ou chefia).\n",
        "3. employment_type: Tipo de vínculo empregatício de acordo com a carga horária\n",
        "  FT = Full time = Período integral\n",
        "  PT = Partial time = Meio período\n",
        "  CT = Contract = Trabalho por contrato definido - apenas durante a vigência do projeto\n",
        "  FL = Freelancer\n",
        "4. job_title: Título do Cargo\n",
        "5. salary: Total da remuneração\n",
        "6. salary_currency: A moeda do salário pago conforme o código de moeda ISO 4217.\n",
        "7. salaryinusd: Salário em dólares\n",
        "8. company_location: País onde está sediada a companhia empregadora\n",
        "9. company_size: Tamanho da companhia baseado na quantidade de funcionários que trabalham na mesma.\n",
        "  S = small = pequena\n",
        "  M = medium = média\n",
        "  L = large = grande"
      ],
      "metadata": {
        "id": "xUhNgzZaG34Z"
      }
    },
    {
      "cell_type": "markdown",
      "source": [
        "#Retirando NaN.\n",
        "\n"
      ],
      "metadata": {
        "id": "lvwyQvHeL7ok"
      }
    },
    {
      "cell_type": "code",
      "source": [
        "#ds_salary = ds_salary.dropna()\n"
      ],
      "metadata": {
        "id": "CA7OD9mMYYPq"
      },
      "execution_count": 69,
      "outputs": []
    },
    {
      "cell_type": "markdown",
      "source": [
        "#Renomeando colunas\n",
        "\n",
        "\n",
        "---\n",
        "\n"
      ],
      "metadata": {
        "id": "BQkaSbuOLi1Z"
      }
    },
    {
      "cell_type": "code",
      "source": [
        "ds_salary.rename(columns={'work_year':'Ano de Trabalho'}, inplace=True)\n",
        "ds_salary.rename(columns={'experience_level':'Nivel de Experiencia'}, inplace=True)\n",
        "ds_salary.rename(columns={'employment_type':'Carga Horaria'}, inplace=True)\n",
        "ds_salary.rename(columns={'job_title':'Cargo'}, inplace=True)\n",
        "ds_salary.rename(columns={'salary':'Salario'}, inplace=True)\n",
        "ds_salary.rename(columns={'salary_currency':'Moeda'}, inplace=True)\n",
        "ds_salary.rename(columns={'salary_in_usd':'Salario em Dolar'}, inplace=True)\n",
        "ds_salary.rename(columns={'company_location':'Localizacao da Empresa'}, inplace=True)\n",
        "ds_salary.rename(columns={'company_size':'Tamanho da Empresa'}, inplace=True)"
      ],
      "metadata": {
        "id": "1pj8BYx-ZALo"
      },
      "execution_count": 70,
      "outputs": []
    },
    {
      "cell_type": "markdown",
      "source": [
        "# Exibição das colunas do dataset"
      ],
      "metadata": {
        "id": "VGoHJEmvMJ5p"
      }
    },
    {
      "cell_type": "code",
      "source": [
        "ds_salary.columns.tolist()"
      ],
      "metadata": {
        "colab": {
          "base_uri": "https://localhost:8080/"
        },
        "id": "yOOnxcE6MDXl",
        "outputId": "ae17b0ea-4dac-4418-bbe4-03da0835f982"
      },
      "execution_count": 71,
      "outputs": [
        {
          "output_type": "execute_result",
          "data": {
            "text/plain": [
              "['Ano de Trabalho',\n",
              " 'Nivel de Experiencia',\n",
              " 'Carga Horaria',\n",
              " 'Cargo',\n",
              " 'Salario',\n",
              " 'Moeda',\n",
              " 'Salario em Dolar',\n",
              " 'Localizacao da Empresa',\n",
              " 'Tamanho da Empresa']"
            ]
          },
          "metadata": {},
          "execution_count": 71
        }
      ]
    },
    {
      "cell_type": "code",
      "source": [
        "ds_salary.info()"
      ],
      "metadata": {
        "colab": {
          "base_uri": "https://localhost:8080/"
        },
        "id": "ntQysUPyZoZ3",
        "outputId": "c49aceff-94e1-4fc0-c228-f6e30282b613"
      },
      "execution_count": 72,
      "outputs": [
        {
          "output_type": "stream",
          "name": "stdout",
          "text": [
            "<class 'pandas.core.frame.DataFrame'>\n",
            "Int64Index: 2410 entries, 0 to 3760\n",
            "Data columns (total 9 columns):\n",
            " #   Column                  Non-Null Count  Dtype \n",
            "---  ------                  --------------  ----- \n",
            " 0   Ano de Trabalho         2410 non-null   int64 \n",
            " 1   Nivel de Experiencia    2410 non-null   object\n",
            " 2   Carga Horaria           2410 non-null   object\n",
            " 3   Cargo                   2410 non-null   object\n",
            " 4   Salario                 2410 non-null   int64 \n",
            " 5   Moeda                   2410 non-null   object\n",
            " 6   Salario em Dolar        2410 non-null   int64 \n",
            " 7   Localizacao da Empresa  2410 non-null   object\n",
            " 8   Tamanho da Empresa      2410 non-null   object\n",
            "dtypes: int64(3), object(6)\n",
            "memory usage: 188.3+ KB\n"
          ]
        }
      ]
    },
    {
      "cell_type": "markdown",
      "source": [
        "# Agrupamentos e contagens"
      ],
      "metadata": {
        "id": "3NPTx3b5Mkrd"
      }
    },
    {
      "cell_type": "markdown",
      "source": [
        "Contagem de profissionais por cargo"
      ],
      "metadata": {
        "id": "SNSApAorNoZP"
      }
    },
    {
      "cell_type": "code",
      "source": [
        "cargos_cont = ds_salary.groupby(['Cargo'])['Cargo'].count()\n",
        "display(cargos_cont)"
      ],
      "metadata": {
        "colab": {
          "base_uri": "https://localhost:8080/",
          "height": 243
        },
        "id": "HGZyeSCTNNPe",
        "outputId": "308d2a76-5d01-422c-8f96-41468eea9f78"
      },
      "execution_count": 73,
      "outputs": [
        {
          "output_type": "display_data",
          "data": {
            "text/plain": [
              "Cargo\n",
              "3D Computer Vision Researcher     4\n",
              "AI Developer                     11\n",
              "AI Programmer                     2\n",
              "AI Scientist                     16\n",
              "Analytics Engineer               85\n",
              "                                 ..\n",
              "Research Engineer                33\n",
              "Research Scientist               63\n",
              "Software Data Engineer            2\n",
              "Staff Data Analyst                1\n",
              "Staff Data Scientist              1\n",
              "Name: Cargo, Length: 93, dtype: int64"
            ]
          },
          "metadata": {}
        }
      ]
    },
    {
      "cell_type": "code",
      "source": [
        "salariocientista = grupo_profissao['Salario'].value_counts()\n",
        "salcien = salariocientista.get(\"Data Scientist\")\n",
        "display(salcien)"
      ],
      "metadata": {
        "id": "ySKr0-ZSmdop",
        "outputId": "4b82bc77-0a26-4e23-9325-7d4cb904d32c",
        "colab": {
          "base_uri": "https://localhost:8080/",
          "height": 243
        }
      },
      "execution_count": 74,
      "outputs": [
        {
          "output_type": "display_data",
          "data": {
            "text/plain": [
              "Salario\n",
              "100000      11\n",
              "120000      11\n",
              "90000        9\n",
              "110000       9\n",
              "70000        8\n",
              "            ..\n",
              "4000000      1\n",
              "4200000      1\n",
              "6600000      1\n",
              "11000000     1\n",
              "30400000     1\n",
              "Name: Salario, Length: 302, dtype: int64"
            ]
          },
          "metadata": {}
        }
      ]
    },
    {
      "cell_type": "code",
      "source": [
        "cont_moeda = ds_salary.groupby(['Moeda'])['Moeda'].count()\n",
        "display(cont_moeda)"
      ],
      "metadata": {
        "id": "LuLrDqkHrSwx",
        "outputId": "3a0f8005-5471-4b0f-b2ef-591e197bd2ec",
        "colab": {
          "base_uri": "https://localhost:8080/",
          "height": 399
        }
      },
      "execution_count": 75,
      "outputs": [
        {
          "output_type": "display_data",
          "data": {
            "text/plain": [
              "Moeda\n",
              "AUD       9\n",
              "BRL       6\n",
              "CAD      25\n",
              "CHF       4\n",
              "CLP       1\n",
              "CZK       1\n",
              "DKK       3\n",
              "EUR     199\n",
              "GBP     139\n",
              "HKD       1\n",
              "HUF       3\n",
              "ILS       1\n",
              "INR      59\n",
              "JPY       3\n",
              "MXN       1\n",
              "PLN       5\n",
              "SGD       6\n",
              "THB       2\n",
              "TRY       3\n",
              "USD    1939\n",
              "Name: Moeda, dtype: int64"
            ]
          },
          "metadata": {}
        }
      ]
    },
    {
      "cell_type": "code",
      "source": [
        "contagem_cientista_dados = ds_salary['Cargo'].value_counts().get(\"Data Scientist\", 0)\n",
        "print(contagem_cientista_dados)\n"
      ],
      "metadata": {
        "colab": {
          "base_uri": "https://localhost:8080/"
        },
        "id": "xw0QPSjcQwZ6",
        "outputId": "a5bdf846-283c-4935-f247-af2888813de3"
      },
      "execution_count": 76,
      "outputs": [
        {
          "output_type": "stream",
          "name": "stdout",
          "text": [
            "492\n"
          ]
        }
      ]
    },
    {
      "cell_type": "code",
      "source": [
        "contagem_engenheiro_dados = ds_salary['Cargo'].value_counts().get(\"Data Engineer\", 0)\n",
        "print(contagem_engenheiro_dados)"
      ],
      "metadata": {
        "colab": {
          "base_uri": "https://localhost:8080/"
        },
        "id": "CdXv1V4TSdwX",
        "outputId": "5236394a-25fb-4143-821a-4bcdd6e4fdb3"
      },
      "execution_count": 77,
      "outputs": [
        {
          "output_type": "stream",
          "name": "stdout",
          "text": [
            "529\n"
          ]
        }
      ]
    },
    {
      "cell_type": "code",
      "source": [
        "contagem_analista_dados = ds_salary['Cargo'].value_counts().get(\"Data Analyst\", 0)\n",
        "print(contagem_analista_dados)"
      ],
      "metadata": {
        "colab": {
          "base_uri": "https://localhost:8080/"
        },
        "id": "EgRenHN7Sv7R",
        "outputId": "3406f779-6054-4f8e-8c90-42f40984ea03"
      },
      "execution_count": 78,
      "outputs": [
        {
          "output_type": "stream",
          "name": "stdout",
          "text": [
            "356\n"
          ]
        }
      ]
    },
    {
      "cell_type": "markdown",
      "source": [
        "# Demonstrativo de médias"
      ],
      "metadata": {
        "id": "dw6TyQDbMxVV"
      }
    },
    {
      "cell_type": "code",
      "source": [
        "pd.set_option('display.float_format', lambda x: '%.3f' % x)\n"
      ],
      "metadata": {
        "id": "Sec42FSLq4yu"
      },
      "execution_count": 79,
      "outputs": []
    },
    {
      "cell_type": "code",
      "source": [
        "ds_scientist = ds_salary[(ds_salary['Cargo'] == 'Data Scientist')]\n",
        "print(ds_scientist['Salario'].describe())\n",
        "\n"
      ],
      "metadata": {
        "colab": {
          "base_uri": "https://localhost:8080/"
        },
        "id": "amFJ8cV9dGIg",
        "outputId": "66cfba64-7af6-4a39-e3c8-4e6f587b3839"
      },
      "execution_count": 80,
      "outputs": [
        {
          "output_type": "stream",
          "name": "stdout",
          "text": [
            "count        492.000\n",
            "mean      298126.744\n",
            "std      1523747.412\n",
            "min        10000.000\n",
            "25%        90000.000\n",
            "50%       136807.000\n",
            "75%       183357.500\n",
            "max     30400000.000\n",
            "Name: Salario, dtype: float64\n"
          ]
        }
      ]
    },
    {
      "cell_type": "code",
      "source": [
        "ds_scientist = ds_salary[(ds_salary['Cargo'] == 'Data Scientist') & (ds_salary['Moeda'] == 'USD')]\n",
        "print(ds_scientist['Salario'].describe())\n",
        "\n"
      ],
      "metadata": {
        "id": "B9fsQxOwnK7d",
        "outputId": "9f1d20fe-9f50-4fc6-ea24-2b2cd96d1c6e",
        "colab": {
          "base_uri": "https://localhost:8080/"
        }
      },
      "execution_count": 81,
      "outputs": [
        {
          "output_type": "stream",
          "name": "stdout",
          "text": [
            "count      375.000\n",
            "mean    152054.875\n",
            "std      57465.599\n",
            "min      10000.000\n",
            "25%     114375.000\n",
            "50%     147000.000\n",
            "75%     185500.000\n",
            "max     412000.000\n",
            "Name: Salario, dtype: float64\n"
          ]
        }
      ]
    },
    {
      "cell_type": "code",
      "source": [
        "ds_scientist = ds_salary[(ds_salary['Cargo'] == 'Data Scientist') & (ds_salary['Moeda'] == 'EUR')]\n",
        "print(ds_scientist['Salario'].describe())"
      ],
      "metadata": {
        "id": "LvZJrctyneaJ",
        "outputId": "c4fec80d-0ba7-4ec2-9497-fe893a7ba424",
        "colab": {
          "base_uri": "https://localhost:8080/"
        }
      },
      "execution_count": 82,
      "outputs": [
        {
          "output_type": "stream",
          "name": "stdout",
          "text": [
            "count       52.000\n",
            "mean     55603.462\n",
            "std      19330.302\n",
            "min      19000.000\n",
            "25%      41400.000\n",
            "50%      55000.000\n",
            "75%      70000.000\n",
            "max     110000.000\n",
            "Name: Salario, dtype: float64\n"
          ]
        }
      ]
    },
    {
      "cell_type": "code",
      "source": [
        "dt_eng = ds_salary[(ds_salary['Cargo'] == 'Data Engineer')]\n",
        "print(dt_eng['Salario'].describe())\n"
      ],
      "metadata": {
        "colab": {
          "base_uri": "https://localhost:8080/"
        },
        "id": "Nut5dXzqk0sd",
        "outputId": "46e00d39-26f2-4e63-8d76-b1e1397db988"
      },
      "execution_count": 83,
      "outputs": [
        {
          "output_type": "stream",
          "name": "stdout",
          "text": [
            "count       529.000\n",
            "mean     165101.858\n",
            "std      263599.980\n",
            "min       12000.000\n",
            "25%       92700.000\n",
            "50%      135000.000\n",
            "75%      185000.000\n",
            "max     4450000.000\n",
            "Name: Salario, dtype: float64\n"
          ]
        }
      ]
    },
    {
      "cell_type": "code",
      "source": [
        "dt_eng = ds_salary[(ds_salary['Cargo'] == 'Data Engineer') & (ds_salary['Moeda'] == 'USD')]\n",
        "print(dt_eng['Salario'].describe())\n"
      ],
      "metadata": {
        "id": "FqOVtEegnEiN",
        "outputId": "2b1facf8-29ec-4a30-c387-7cb823d41b64",
        "colab": {
          "base_uri": "https://localhost:8080/"
        }
      },
      "execution_count": 84,
      "outputs": [
        {
          "output_type": "stream",
          "name": "stdout",
          "text": [
            "count      438.000\n",
            "mean    154445.032\n",
            "std      58359.649\n",
            "min      12000.000\n",
            "25%     110000.000\n",
            "50%     150000.000\n",
            "75%     193375.000\n",
            "max     324000.000\n",
            "Name: Salario, dtype: float64\n"
          ]
        }
      ]
    },
    {
      "cell_type": "code",
      "source": [
        "dt_eng = ds_salary[(ds_salary['Cargo'] == 'Data Engineer') & (ds_salary['Moeda'] == 'EUR')]\n",
        "print(dt_eng['Salario'].describe())"
      ],
      "metadata": {
        "id": "QRGyAb-Unvov",
        "outputId": "786268ba-0138-432f-b794-f028415a2f99",
        "colab": {
          "base_uri": "https://localhost:8080/"
        }
      },
      "execution_count": 85,
      "outputs": [
        {
          "output_type": "stream",
          "name": "stdout",
          "text": [
            "count       43.000\n",
            "mean     56829.744\n",
            "std      17665.198\n",
            "min      22000.000\n",
            "25%      45000.000\n",
            "50%      60000.000\n",
            "75%      67500.000\n",
            "max     105120.000\n",
            "Name: Salario, dtype: float64\n"
          ]
        }
      ]
    },
    {
      "cell_type": "code",
      "source": [
        "dt_analy = ds_salary[(ds_salary['Cargo'] == 'Data Analyst')]\n",
        "print(dt_analy['Salario'].describe())"
      ],
      "metadata": {
        "colab": {
          "base_uri": "https://localhost:8080/"
        },
        "id": "aT4w7ufvk1Ck",
        "outputId": "d4679b71-7dba-4697-b7eb-971a31e6aaa8"
      },
      "execution_count": 86,
      "outputs": [
        {
          "output_type": "stream",
          "name": "stdout",
          "text": [
            "count       356.000\n",
            "mean     118523.626\n",
            "std      119246.916\n",
            "min        8000.000\n",
            "25%       65825.000\n",
            "50%      104150.000\n",
            "75%      136065.000\n",
            "max     1300000.000\n",
            "Name: Salario, dtype: float64\n"
          ]
        }
      ]
    },
    {
      "cell_type": "code",
      "source": [
        "dt_analy = ds_salary[(ds_salary['Cargo'] == 'Data Analyst') & (ds_salary['Moeda'] == 'USD')]\n",
        "print(dt_analy['Salario'].describe())"
      ],
      "metadata": {
        "id": "-Pcy3hz2oBP8",
        "outputId": "b2401ac5-e381-4b0f-8719-70323e6086a7",
        "colab": {
          "base_uri": "https://localhost:8080/"
        }
      },
      "execution_count": 87,
      "outputs": [
        {
          "output_type": "stream",
          "name": "stdout",
          "text": [
            "count      300.000\n",
            "mean    114392.817\n",
            "std      47901.267\n",
            "min       8000.000\n",
            "25%      80000.000\n",
            "50%     110000.000\n",
            "75%     139700.000\n",
            "max     385000.000\n",
            "Name: Salario, dtype: float64\n"
          ]
        }
      ]
    },
    {
      "cell_type": "code",
      "source": [
        "dt_analy = ds_salary[(ds_salary['Cargo'] == 'Data Analyst') & (ds_salary['Moeda'] == 'EUR')]\n",
        "print(dt_analy['Salario'].describe())"
      ],
      "metadata": {
        "id": "EdYd1GrZoK8z",
        "outputId": "68678842-511c-4017-ff47-5ee6f27f8b69",
        "colab": {
          "base_uri": "https://localhost:8080/"
        }
      },
      "execution_count": 88,
      "outputs": [
        {
          "output_type": "stream",
          "name": "stdout",
          "text": [
            "count      17.000\n",
            "mean    36691.765\n",
            "std     12290.450\n",
            "min      8760.000\n",
            "25%     30000.000\n",
            "50%     38000.000\n",
            "75%     48000.000\n",
            "max     54000.000\n",
            "Name: Salario, dtype: float64\n"
          ]
        }
      ]
    },
    {
      "cell_type": "code",
      "source": [
        "grupo_profissao = ds_salary.groupby('Cargo')\n"
      ],
      "metadata": {
        "id": "QA5LMFWiTfux"
      },
      "execution_count": 89,
      "outputs": []
    },
    {
      "cell_type": "code",
      "source": [
        "media_salario_por_profissao = grupo_profissao['Salario'].mean()\n"
      ],
      "metadata": {
        "id": "50uWh4COgPvC"
      },
      "execution_count": 90,
      "outputs": []
    },
    {
      "cell_type": "code",
      "source": [
        "media_cientista_dados = media_salario_por_profissao.get(\"Data Scientist\", 0)\n",
        "media_engenheiro_dados = media_salario_por_profissao.get(\"Data Engineer\", 0)\n",
        "media_analista_dados= media_salario_por_profissao.get(\"Data Analyst\", 0)"
      ],
      "metadata": {
        "id": "UkaRQkMyWYzx"
      },
      "execution_count": 91,
      "outputs": []
    },
    {
      "cell_type": "code",
      "source": [
        "print(f'Média de salário para Cientista de Dados: {media_cientista_dados}')\n",
        "print(f'Média de salário para Engenheiro de Dados: {media_engenheiro_dados}')\n",
        "print(f'Média de salário para Analista de Dados: {media_analista_dados}')\n",
        "\n"
      ],
      "metadata": {
        "colab": {
          "base_uri": "https://localhost:8080/"
        },
        "id": "-siR2pQOWlNN",
        "outputId": "5d4f8ff6-227c-4438-d12e-3df4d03d7c2c"
      },
      "execution_count": 92,
      "outputs": [
        {
          "output_type": "stream",
          "name": "stdout",
          "text": [
            "Média de salário para Cientista de Dados: 298126.743902439\n",
            "Média de salário para Engenheiro de Dados: 165101.8582230624\n",
            "Média de salário para Analista de Dados: 118523.62640449438\n"
          ]
        }
      ]
    },
    {
      "cell_type": "markdown",
      "source": [
        "# Demonstrativo de porcentagem"
      ],
      "metadata": {
        "id": "tUwjiY3PXQss"
      }
    },
    {
      "cell_type": "code",
      "source": [
        "diferenca_engenheiro = media_cientista_dados - media_engenheiro_dados\n",
        "diferenca_analista = media_cientista_dados - media_analista_dados\n",
        "\n"
      ],
      "metadata": {
        "id": "PKRgBJOBgJds"
      },
      "execution_count": 93,
      "outputs": []
    },
    {
      "cell_type": "code",
      "source": [
        "porcentagem_a_mais_engenheiro = (diferenca_engenheiro / media_engenheiro_dados) * 100\n",
        "porcentagem_a_mais_analista = (diferenca_analista / media_analista_dados) * 100"
      ],
      "metadata": {
        "id": "SO0CBq4lgOf0"
      },
      "execution_count": 94,
      "outputs": []
    },
    {
      "cell_type": "code",
      "source": [
        "print(f\"O salário de Cientista de Dados é {porcentagem_a_mais_engenheiro:.2f}% maior que o salário de Engenheiro de Dados.\")\n",
        "print(f\"O salário de Cientista de Dados é {porcentagem_a_mais_analista:.2f}% maior que o salário de Analista de Dados.\")\n"
      ],
      "metadata": {
        "colab": {
          "base_uri": "https://localhost:8080/"
        },
        "id": "C_FKXaP_hmFo",
        "outputId": "c746900f-69a7-4e32-f9e7-b9d3b89b320d"
      },
      "execution_count": 95,
      "outputs": [
        {
          "output_type": "stream",
          "name": "stdout",
          "text": [
            "O salário de Cientista de Dados é 80.57% maior que o salário de Engenheiro de Dados.\n",
            "O salário de Cientista de Dados é 151.53% maior que o salário de Analista de Dados.\n"
          ]
        }
      ]
    },
    {
      "cell_type": "markdown",
      "source": [
        "# Visualização dos dados"
      ],
      "metadata": {
        "id": "rkMagXW8M30v"
      }
    },
    {
      "cell_type": "code",
      "source": [
        "sns.set_theme(style=\"darkgrid\")\n"
      ],
      "metadata": {
        "id": "JyjDtfqZXLAZ"
      },
      "execution_count": 96,
      "outputs": []
    },
    {
      "cell_type": "code",
      "source": [
        "medias = [media_cientista_dados, media_engenheiro_dados, media_analista_dados]\n"
      ],
      "metadata": {
        "id": "G3ZHgsTaXMZK"
      },
      "execution_count": 97,
      "outputs": []
    },
    {
      "cell_type": "code",
      "source": [
        "profissoes = [\"Cientista de Dados\", \"Engenheiro de Dados\", \"Analista de Dados\"]\n"
      ],
      "metadata": {
        "id": "c_qJe1wlXU9H"
      },
      "execution_count": 98,
      "outputs": []
    },
    {
      "cell_type": "code",
      "source": [
        "plt.bar(profissoes, medias)\n",
        "plt.xlabel('Profissão')\n",
        "plt.ylabel('Salário Médio')\n",
        "plt.title('Média de Salário por Profissão')\n",
        "\n",
        "plt.show()\n"
      ],
      "metadata": {
        "colab": {
          "base_uri": "https://localhost:8080/",
          "height": 481
        },
        "id": "CBLKhfJ9XfiB",
        "outputId": "e1ee4659-dfce-4e2b-b4b3-6d44c6352807"
      },
      "execution_count": 99,
      "outputs": [
        {
          "output_type": "display_data",
          "data": {
            "text/plain": [
              "<Figure size 640x480 with 1 Axes>"
            ],
            "image/png": "[encoded data removed]"
          },
          "metadata": {}
        }
      ]
    },
    {
      "cell_type": "markdown",
      "source": [
        "O salário do Cientista de Dados é 80,57% superior ao salário do Engenheiro de Dados e 151,53% maior do que o salário do Analista de Dados."
      ],
      "metadata": {
        "id": "32gAE12jExi4"
      }
    },
    {
      "cell_type": "code",
      "source": [
        "paises = ds_salary['Localizacao da Empresa'].unique()\n",
        "print(paises)"
      ],
      "metadata": {
        "colab": {
          "base_uri": "https://localhost:8080/"
        },
        "id": "OMvCFQt3ogSk",
        "outputId": "135621c2-6dda-4a3d-ec5c-2033cf258980"
      },
      "execution_count": 100,
      "outputs": [
        {
          "output_type": "stream",
          "name": "stdout",
          "text": [
            "['US' 'NG' 'IN' 'CA' 'ES' 'GH' 'DE' 'CH' 'AU' 'SE' 'BR' 'GB' 'VN' 'BA'\n",
            " 'GR' 'HK' 'NL' 'FI' 'IE' 'SG' 'SI' 'MX' 'FR' 'HR' 'AM' 'KE' 'RO' 'TH'\n",
            " 'CF' 'UA' 'IL' 'CO' 'PT' 'EE' 'LV' 'MK' 'PK' 'IT' 'MA' 'AR' 'CR' 'IR'\n",
            " 'HU' 'AS' 'BE' 'AT' 'ID' 'LU' 'MY' 'CZ' 'DZ' 'RU' 'PL' 'LT' 'TR' 'BO'\n",
            " 'EG' 'AL' 'SK' 'PR' 'AE' 'DK' 'IQ' 'CN' 'BS' 'JP' 'CL' 'MD' 'MT' 'PH'\n",
            " 'HN' 'NZ']\n"
          ]
        }
      ]
    },
    {
      "cell_type": "code",
      "source": [
        "cientistas_de_dados = ds_salary.loc[ds_salary['Cargo'] == 'Data Scientist']\n"
      ],
      "metadata": {
        "id": "Rx72BaCLoguF"
      },
      "execution_count": 101,
      "outputs": []
    },
    {
      "cell_type": "code",
      "source": [
        "contagem_por_pais = cientistas_de_dados.groupby('Localizacao da Empresa').size().reset_index(name='Quantidade de Cientistas de Dados')\n",
        "print(contagem_por_pais)\n"
      ],
      "metadata": {
        "colab": {
          "base_uri": "https://localhost:8080/"
        },
        "id": "5BTQuN_8og7X",
        "outputId": "c006e4f0-594a-496d-9f9b-ae855de92e10"
      },
      "execution_count": 102,
      "outputs": [
        {
          "output_type": "stream",
          "name": "stdout",
          "text": [
            "   Localizacao da Empresa  Quantidade de Cientistas de Dados\n",
            "0                      AT                                  2\n",
            "1                      AU                                  2\n",
            "2                      BE                                  2\n",
            "3                      BR                                  4\n",
            "4                      CA                                 18\n",
            "5                      CH                                  2\n",
            "6                      CL                                  1\n",
            "7                      DE                                 13\n",
            "8                      DZ                                  1\n",
            "9                      EE                                  1\n",
            "10                     ES                                 10\n",
            "11                     FR                                 14\n",
            "12                     GB                                 29\n",
            "13                     HK                                  1\n",
            "14                     HU                                  2\n",
            "15                     ID                                  1\n",
            "16                     IE                                  4\n",
            "17                     IL                                  1\n",
            "18                     IN                                 15\n",
            "19                     IT                                  1\n",
            "20                     LU                                  1\n",
            "21                     LV                                  2\n",
            "22                     MX                                  1\n",
            "23                     MY                                  1\n",
            "24                     NG                                  1\n",
            "25                     NL                                  4\n",
            "26                     PL                                  1\n",
            "27                     RO                                  1\n",
            "28                     TH                                  1\n",
            "29                     TR                                  3\n",
            "30                     UA                                  1\n",
            "31                     US                                351\n"
          ]
        }
      ]
    },
    {
      "cell_type": "code",
      "source": [
        "contagem_por_pais = contagem_por_pais.sort_values(by='Quantidade de Cientistas de Dados', ascending=False)\n",
        "top_4_paises = contagem_por_pais.head(4)\n"
      ],
      "metadata": {
        "id": "sb1UkGI5u7wT"
      },
      "execution_count": 104,
      "outputs": []
    },
    {
      "cell_type": "code",
      "source": [
        "explode = (0.1, 0, 0, 0)\n"
      ],
      "metadata": {
        "id": "jsoERoTuZaA9"
      },
      "execution_count": 105,
      "outputs": []
    },
    {
      "cell_type": "code",
      "source": [
        "plt.figure(figsize=(10, 6))\n",
        "plt.pie(top_4_paises['Quantidade de Cientistas de Dados'], labels=top_4_paises['Localizacao da Empresa'], autopct='%1.1f%%', startangle=140, explode=explode)\n",
        "plt.title('Top 4 Países com Mais Cientistas de Dados')\n",
        "plt.show()"
      ],
      "metadata": {
        "colab": {
          "base_uri": "https://localhost:8080/",
          "height": 521
        },
        "id": "bUSuxztevfJm",
        "outputId": "a7e43443-0680-4d90-eed2-ca00cad55888"
      },
      "execution_count": 106,
      "outputs": [
        {
          "output_type": "display_data",
          "data": {
            "text/plain": [
              "<Figure size 1000x600 with 1 Axes>"
            ],
            "image/png": "[encoded data removed]"
          },
          "metadata": {}
        }
      ]
    },
    {
      "cell_type": "markdown",
      "source": [
        "Na análise apresentada, destaca-se que os países com a maior concentração de Cientistas de Dados são os Estados Unidos (85%), seguidos pela Grã-Bretanha (7%), Canadá (4,4%) e Índia (3,6%).\n"
      ],
      "metadata": {
        "id": "nZzYRLltEQyD"
      }
    },
    {
      "cell_type": "code",
      "source": [
        "cientistas_de_dados = ds_salary.loc[ds_salary['Cargo'] == 'Data Scientist']\n"
      ],
      "metadata": {
        "id": "67WwW3tf703f"
      },
      "execution_count": 107,
      "outputs": []
    },
    {
      "cell_type": "code",
      "source": [
        "agrupamento_por_nivel = cientistas_de_dados.groupby('Nivel de Experiencia').size().reset_index(name='Quantidade')\n"
      ],
      "metadata": {
        "id": "LldgPPgQ78Ty"
      },
      "execution_count": 108,
      "outputs": []
    },
    {
      "cell_type": "code",
      "source": [
        "agrupamento_por_nivel['Cargo'] = 'Data Scientist'\n",
        "\n",
        "print(agrupamento_por_nivel)"
      ],
      "metadata": {
        "colab": {
          "base_uri": "https://localhost:8080/"
        },
        "id": "sLtm53RE79aA",
        "outputId": "bcedce75-8a32-4601-cfb8-16e2f40aadef"
      },
      "execution_count": 109,
      "outputs": [
        {
          "output_type": "stream",
          "name": "stdout",
          "text": [
            "  Nivel de Experiencia  Quantidade           Cargo\n",
            "0                   EN          57  Data Scientist\n",
            "1                   EX           8  Data Scientist\n",
            "2                   MI         140  Data Scientist\n",
            "3                   SE         287  Data Scientist\n"
          ]
        }
      ]
    },
    {
      "cell_type": "code",
      "source": [
        "# EN = Entry Level = Iniciante\n",
        "# MI = Mid level = Intermediário\n",
        "# SE = Senior = Senior\n",
        "# EX = Executive = Executivo"
      ],
      "metadata": {
        "id": "ujRcXteofdnh"
      },
      "execution_count": 110,
      "outputs": []
    },
    {
      "cell_type": "code",
      "source": [
        "cientistas_de_dados = ds_salary.loc[ds_salary['Cargo'] == 'Data Scientist']\n"
      ],
      "metadata": {
        "id": "J9sDhcchxpm9"
      },
      "execution_count": 111,
      "outputs": []
    },
    {
      "cell_type": "code",
      "source": [
        "contagem_por_nivel = cientistas_de_dados['Nivel de Experiencia'].value_counts().reset_index()\n"
      ],
      "metadata": {
        "id": "NZKKTbxdyFdo"
      },
      "execution_count": 112,
      "outputs": []
    },
    {
      "cell_type": "code",
      "source": [
        "contagem_por_nivel.columns = ['Nível de Experiência', 'Quantidade']\n"
      ],
      "metadata": {
        "id": "OBwrCJZsySKE"
      },
      "execution_count": 113,
      "outputs": []
    },
    {
      "cell_type": "code",
      "source": [
        "plt.figure(figsize=(10, 6))\n",
        "plt.bar(contagem_por_nivel['Nível de Experiência'], contagem_por_nivel['Quantidade'], color='skyblue')\n",
        "plt.xlabel('Nível de Experiência')\n",
        "plt.ylabel('Quantidade')\n",
        "plt.title('Distribuição de Níveis de Experiência entre Cientistas de Dados')\n",
        "plt.show()"
      ],
      "metadata": {
        "colab": {
          "base_uri": "https://localhost:8080/",
          "height": 574
        },
        "id": "TaKmS1huyYLJ",
        "outputId": "0c0f4bab-2c0c-4f93-83a7-8ef8b9dcc925"
      },
      "execution_count": 114,
      "outputs": [
        {
          "output_type": "display_data",
          "data": {
            "text/plain": [
              "<Figure size 1000x600 with 1 Axes>"
            ],
            "image/png": "[encoded data removed]"
          },
          "metadata": {}
        }
      ]
    },
    {
      "cell_type": "markdown",
      "source": [
        "Dentre as vagas ocupadas no cargo de Cientista de Dados, o maior número é de nível \"senior\" e o menor de \"executive\"."
      ],
      "metadata": {
        "id": "Y7TQKpvSFVum"
      }
    },
    {
      "cell_type": "code",
      "source": [
        "figsize = (10, 0.8 * len(ds_salary['Nivel de Experiencia'].unique()))\n",
        "plt.figure(figsize=figsize)\n",
        "sns.violinplot(ds_salary, x='Ano de Trabalho', y='Nivel de Experiencia', inner='box', palette='Dark2')\n",
        "sns.despine(top=True, right=True, bottom=True, left=True)"
      ],
      "metadata": {
        "colab": {
          "base_uri": "https://localhost:8080/",
          "height": 335
        },
        "id": "1xvrx7o2btka",
        "outputId": "2ec36254-339b-434e-c48a-02e504bd7eac"
      },
      "execution_count": 115,
      "outputs": [
        {
          "output_type": "display_data",
          "data": {
            "text/plain": [
              "<Figure size 1000x320 with 1 Axes>"
            ],
            "image/png": "[encoded data removed]"
          },
          "metadata": {}
        }
      ]
    },
    {
      "cell_type": "code",
      "source": [
        "cargo_especifico = 'Data Scientist'\n",
        "df_cargo_especifico = ds_salary[ds_salary['Cargo'] == cargo_especifico]\n"
      ],
      "metadata": {
        "id": "8TUS4heMxg-5"
      },
      "execution_count": 116,
      "outputs": []
    },
    {
      "cell_type": "code",
      "source": [
        "plt.figure(figsize=(10, 6))\n",
        "plt.hist(df_cargo_especifico['Salario em Dolar'], bins=15, rwidth=0.9, alpha=1, color='green')\n",
        "plt.xlabel('Salários em USD')\n",
        "plt.ylabel('Quantidade de Profissionais')\n",
        "plt.title(f'Histograma de Salários para o Cargo de Cientista de Dados')\n",
        "plt.show()"
      ],
      "metadata": {
        "colab": {
          "base_uri": "https://localhost:8080/",
          "height": 573
        },
        "id": "sMAvYeNSxmdi",
        "outputId": "5ea71940-ff75-4fca-bc4a-3811eb758e36"
      },
      "execution_count": 117,
      "outputs": [
        {
          "output_type": "display_data",
          "data": {
            "text/plain": [
              "<Figure size 1000x600 with 1 Axes>"
            ],
            "image/png": "[encoded data removed]"
          },
          "metadata": {}
        }
      ]
    },
    {
      "cell_type": "code",
      "source": [
        "import folium\n",
        "from geopy.geocoders import Nominatim\n"
      ],
      "metadata": {
        "id": "JrFe8mRsnVKy"
      },
      "execution_count": 118,
      "outputs": []
    },
    {
      "cell_type": "code",
      "source": [
        "def get_coordinates(country):\n",
        "    geolocator = Nominatim(user_agent=\"geoapi\")\n",
        "    location = geolocator.geocode(country)\n",
        "    if location:\n",
        "        return [location.latitude, location.longitude]\n",
        "    else:\n",
        "        return None"
      ],
      "metadata": {
        "id": "95WF8QJWnVjC"
      },
      "execution_count": 119,
      "outputs": []
    },
    {
      "cell_type": "code",
      "source": [
        "data = {'Localizacao da Empresa': ['AT', 'AU', 'BE', 'BR', 'CA', 'CH', 'CL', 'DE', 'DZ', 'EE', 'ES', 'FR', 'GB', 'HK', 'HU', 'ID', 'IE', 'IL',\n",
        "                                   'IN', 'IT', 'LU', 'LV', 'MX', 'MY', 'NG', 'NL', 'PL', 'RO', 'TH', 'TR', 'UA', 'US'],\n",
        "        'Quantidade de Cientistas de Dados': [2, 2, 2, 4, 18, 2, 1, 13, 1, 1, 10, 14, 29, 1, 2, 1, 4, 1, 15, 1, 1, 2, 1, 1, 1, 4, 1, 1, 1, 3, 1, 351]}\n"
      ],
      "metadata": {
        "id": "I0sh2J7snV9g"
      },
      "execution_count": 120,
      "outputs": []
    },
    {
      "cell_type": "code",
      "source": [
        "df = pd.DataFrame(data)\n"
      ],
      "metadata": {
        "id": "5ahXLVR6nWQi"
      },
      "execution_count": 121,
      "outputs": []
    },
    {
      "cell_type": "code",
      "source": [
        "mapa_mundi = folium.Map(location=[0, 0], zoom_start=2)\n"
      ],
      "metadata": {
        "id": "pJ4JeRqRnWjN"
      },
      "execution_count": 122,
      "outputs": []
    },
    {
      "cell_type": "code",
      "source": [
        "for index, row in df.iterrows():\n",
        "    coordinates = get_coordinates(row['Localizacao da Empresa'])\n",
        "    if coordinates:\n",
        "        folium.Marker(\n",
        "            location=coordinates,\n",
        "            popup=f\"{row['Localizacao da Empresa']} - {row['Quantidade de Cientistas de Dados']} Cientistas de Dados\",\n",
        "            icon=folium.Icon(color='blue', icon='info-sign')\n",
        "        ).add_to(mapa_mundi)"
      ],
      "metadata": {
        "id": "22R1zv6eoGd9"
      },
      "execution_count": 123,
      "outputs": []
    },
    {
      "cell_type": "code",
      "source": [
        "mapa_mundi"
      ],
      "metadata": {
        "colab": {
          "base_uri": "https://localhost:8080/",
          "height": 1000
        },
        "id": "Li-JnlIDomxA",
        "outputId": "f24ecfba-8b98-44d3-96cc-1a8accc14340"
      },
      "execution_count": 124,
      "outputs": [
        {
          "output_type": "execute_result",
          "data": {
            "text/plain": [
              "<folium.folium.Map at 0x7f361f92f610>"
            ],
            "text/html": [
              "<div style=\"width:100%;\"><div style=\"position:relative;width:100%;height:0;padding-bottom:60%;\"><span style=\"color:#565656\">Make this Notebook Trusted to load map: File -> Trust Notebook</span><iframe srcdoc=\"&lt;!DOCTYPE html&gt;\n",
              "&lt;html&gt;\n",
              "&lt;head&gt;\n",
              "    \n",
              "    &lt;meta http-equiv=&quot;content-type&quot; content=&quot;text/html; charset=UTF-8&quot; /&gt;\n",
              "    \n",
              "        &lt;script&gt;\n",
              "            L_NO_TOUCH = false;\n",
              "            L_DISABLE_3D = false;\n",
              "        &lt;/script&gt;\n",
              "    \n",
              "    &lt;style&gt;html, body {width: 100%;height: 100%;margin: 0;padding: 0;}&lt;/style&gt;\n",
              "    &lt;style&gt;#map {position:absolute;top:0;bottom:0;right:0;left:0;}&lt;/style&gt;\n",
              "    &lt;script src=&quot;https://cdn.jsdelivr.net/npm/leaflet@1.9.3/dist/leaflet.js&quot;&gt;&lt;/script&gt;\n",
              "    &lt;script src=&quot;https://code.jquery.com/jquery-1.12.4.min.js&quot;&gt;&lt;/script&gt;\n",
              "    &lt;script src=&quot;https://cdn.jsdelivr.net/npm/bootstrap@5.2.2/dist/js/bootstrap.bundle.min.js&quot;&gt;&lt;/script&gt;\n",
              "    &lt;script src=&quot;https://cdnjs.cloudflare.com/ajax/libs/Leaflet.awesome-markers/2.0.2/leaflet.awesome-markers.js&quot;&gt;&lt;/script&gt;\n",
              "    &lt;link rel=&quot;stylesheet&quot; href=&quot;https://cdn.jsdelivr.net/npm/leaflet@1.9.3/dist/leaflet.css&quot;/&gt;\n",
              "    &lt;link rel=&quot;stylesheet&quot; href=&quot;https://cdn.jsdelivr.net/npm/bootstrap@5.2.2/dist/css/bootstrap.min.css&quot;/&gt;\n",
              "    &lt;link rel=&quot;stylesheet&quot; href=&quot;https://netdna.bootstrapcdn.com/bootstrap/3.0.0/css/bootstrap.min.css&quot;/&gt;\n",
              "    &lt;link rel=&quot;stylesheet&quot; href=&quot;https://cdn.jsdelivr.net/npm/@fortawesome/fontawesome-free@6.2.0/css/all.min.css&quot;/&gt;\n",
              "    &lt;link rel=&quot;stylesheet&quot; href=&quot;https://cdnjs.cloudflare.com/ajax/libs/Leaflet.awesome-markers/2.0.2/leaflet.awesome-markers.css&quot;/&gt;\n",
              "    &lt;link rel=&quot;stylesheet&quot; href=&quot;https://cdn.jsdelivr.net/gh/python-visualization/folium/folium/templates/leaflet.awesome.rotate.min.css&quot;/&gt;\n",
              "    \n",
              "            &lt;meta name=&quot;viewport&quot; content=&quot;width=device-width,\n",
              "                initial-scale=1.0, maximum-scale=1.0, user-scalable=no&quot; /&gt;\n",
              "            &lt;style&gt;\n",
              "                #map_c9d48075e14e33b2f704135c95e48542 {\n",
              "                    position: relative;\n",
              "                    width: 100.0%;\n",
              "                    height: 100.0%;\n",
              "                    left: 0.0%;\n",
              "                    top: 0.0%;\n",
              "                }\n",
              "                .leaflet-container { font-size: 1rem; }\n",
              "            &lt;/style&gt;\n",
              "        \n",
              "&lt;/head&gt;\n",
              "&lt;body&gt;\n",
              "    \n",
              "    \n",
              "            &lt;div class=&quot;folium-map&quot; id=&quot;map_c9d48075e14e33b2f704135c95e48542&quot; &gt;&lt;/div&gt;\n",
              "        \n",
              "&lt;/body&gt;\n",
              "&lt;script&gt;\n",
              "    \n",
              "    \n",
              "            var map_c9d48075e14e33b2f704135c95e48542 = L.map(\n",
              "                &quot;map_c9d48075e14e33b2f704135c95e48542&quot;,\n",
              "                {\n",
              "                    center: [0.0, 0.0],\n",
              "                    crs: L.CRS.EPSG3857,\n",
              "                    zoom: 2,\n",
              "                    zoomControl: true,\n",
              "                    preferCanvas: false,\n",
              "                }\n",
              "            );\n",
              "\n",
              "            \n",
              "\n",
              "        \n",
              "    \n",
              "            var tile_layer_fef16c290200b0ce8aa42c9cad08718d = L.tileLayer(\n",
              "                &quot;https://{s}.tile.openstreetmap.org/{z}/{x}/{y}.png&quot;,\n",
              "                {&quot;attribution&quot;: &quot;Data by \\u0026copy; \\u003ca target=\\&quot;_blank\\&quot; href=\\&quot;http://openstreetmap.org\\&quot;\\u003eOpenStreetMap\\u003c/a\\u003e, under \\u003ca target=\\&quot;_blank\\&quot; href=\\&quot;http://www.openstreetmap.org/copyright\\&quot;\\u003eODbL\\u003c/a\\u003e.&quot;, &quot;detectRetina&quot;: false, &quot;maxNativeZoom&quot;: 18, &quot;maxZoom&quot;: 18, &quot;minZoom&quot;: 0, &quot;noWrap&quot;: false, &quot;opacity&quot;: 1, &quot;subdomains&quot;: &quot;abc&quot;, &quot;tms&quot;: false}\n",
              "            ).addTo(map_c9d48075e14e33b2f704135c95e48542);\n",
              "        \n",
              "    \n",
              "            var marker_e5328c473c2799ef93af3b9e6bc2c34f = L.marker(\n",
              "                [44.826012649999996, 8.202686328987273],\n",
              "                {}\n",
              "            ).addTo(map_c9d48075e14e33b2f704135c95e48542);\n",
              "        \n",
              "    \n",
              "            var icon_55a1e3c3de54e9b455a03255112b78df = L.AwesomeMarkers.icon(\n",
              "                {&quot;extraClasses&quot;: &quot;fa-rotate-0&quot;, &quot;icon&quot;: &quot;info-sign&quot;, &quot;iconColor&quot;: &quot;white&quot;, &quot;markerColor&quot;: &quot;blue&quot;, &quot;prefix&quot;: &quot;glyphicon&quot;}\n",
              "            );\n",
              "            marker_e5328c473c2799ef93af3b9e6bc2c34f.setIcon(icon_55a1e3c3de54e9b455a03255112b78df);\n",
              "        \n",
              "    \n",
              "        var popup_ddd4dd7ab2b8936845da3fb830ceef02 = L.popup({&quot;maxWidth&quot;: &quot;100%&quot;});\n",
              "\n",
              "        \n",
              "            \n",
              "                var html_c811f2c073cb59a8845d4d47d572713b = $(`&lt;div id=&quot;html_c811f2c073cb59a8845d4d47d572713b&quot; style=&quot;width: 100.0%; height: 100.0%;&quot;&gt;AT - 2 Cientistas de Dados&lt;/div&gt;`)[0];\n",
              "                popup_ddd4dd7ab2b8936845da3fb830ceef02.setContent(html_c811f2c073cb59a8845d4d47d572713b);\n",
              "            \n",
              "        \n",
              "\n",
              "        marker_e5328c473c2799ef93af3b9e6bc2c34f.bindPopup(popup_ddd4dd7ab2b8936845da3fb830ceef02)\n",
              "        ;\n",
              "\n",
              "        \n",
              "    \n",
              "    \n",
              "            var marker_28fd49091037641b04969b792921767e = L.marker(\n",
              "                [47.7563917, 7.0194428],\n",
              "                {}\n",
              "            ).addTo(map_c9d48075e14e33b2f704135c95e48542);\n",
              "        \n",
              "    \n",
              "            var icon_1a775782f50c5cf894f4db7fbaffc1ee = L.AwesomeMarkers.icon(\n",
              "                {&quot;extraClasses&quot;: &quot;fa-rotate-0&quot;, &quot;icon&quot;: &quot;info-sign&quot;, &quot;iconColor&quot;: &quot;white&quot;, &quot;markerColor&quot;: &quot;blue&quot;, &quot;prefix&quot;: &quot;glyphicon&quot;}\n",
              "            );\n",
              "            marker_28fd49091037641b04969b792921767e.setIcon(icon_1a775782f50c5cf894f4db7fbaffc1ee);\n",
              "        \n",
              "    \n",
              "        var popup_05af596091e3801949392423aab838bd = L.popup({&quot;maxWidth&quot;: &quot;100%&quot;});\n",
              "\n",
              "        \n",
              "            \n",
              "                var html_a242b1a4d3587a463f05f41ddb3fd8f8 = $(`&lt;div id=&quot;html_a242b1a4d3587a463f05f41ddb3fd8f8&quot; style=&quot;width: 100.0%; height: 100.0%;&quot;&gt;AU - 2 Cientistas de Dados&lt;/div&gt;`)[0];\n",
              "                popup_05af596091e3801949392423aab838bd.setContent(html_a242b1a4d3587a463f05f41ddb3fd8f8);\n",
              "            \n",
              "        \n",
              "\n",
              "        marker_28fd49091037641b04969b792921767e.bindPopup(popup_05af596091e3801949392423aab838bd)\n",
              "        ;\n",
              "\n",
              "        \n",
              "    \n",
              "    \n",
              "            var marker_d8f34f4dc5725ea896c00a3e6591c639 = L.marker(\n",
              "                [52.5170365, 13.3888599],\n",
              "                {}\n",
              "            ).addTo(map_c9d48075e14e33b2f704135c95e48542);\n",
              "        \n",
              "    \n",
              "            var icon_22e9a095959fc117a2423b57d7ca826e = L.AwesomeMarkers.icon(\n",
              "                {&quot;extraClasses&quot;: &quot;fa-rotate-0&quot;, &quot;icon&quot;: &quot;info-sign&quot;, &quot;iconColor&quot;: &quot;white&quot;, &quot;markerColor&quot;: &quot;blue&quot;, &quot;prefix&quot;: &quot;glyphicon&quot;}\n",
              "            );\n",
              "            marker_d8f34f4dc5725ea896c00a3e6591c639.setIcon(icon_22e9a095959fc117a2423b57d7ca826e);\n",
              "        \n",
              "    \n",
              "        var popup_1bd2c4612c741aa0c1eca24931ba47a6 = L.popup({&quot;maxWidth&quot;: &quot;100%&quot;});\n",
              "\n",
              "        \n",
              "            \n",
              "                var html_9e53180217d6c2c5dcab1680859f3338 = $(`&lt;div id=&quot;html_9e53180217d6c2c5dcab1680859f3338&quot; style=&quot;width: 100.0%; height: 100.0%;&quot;&gt;BE - 2 Cientistas de Dados&lt;/div&gt;`)[0];\n",
              "                popup_1bd2c4612c741aa0c1eca24931ba47a6.setContent(html_9e53180217d6c2c5dcab1680859f3338);\n",
              "            \n",
              "        \n",
              "\n",
              "        marker_d8f34f4dc5725ea896c00a3e6591c639.bindPopup(popup_1bd2c4612c741aa0c1eca24931ba47a6)\n",
              "        ;\n",
              "\n",
              "        \n",
              "    \n",
              "    \n",
              "            var marker_b9e57e3f331500dc91dc61c9efeeb48f = L.marker(\n",
              "                [25.6440845, 85.906508],\n",
              "                {}\n",
              "            ).addTo(map_c9d48075e14e33b2f704135c95e48542);\n",
              "        \n",
              "    \n",
              "            var icon_18b57615a1b2efb2065c41ea5e8c3509 = L.AwesomeMarkers.icon(\n",
              "                {&quot;extraClasses&quot;: &quot;fa-rotate-0&quot;, &quot;icon&quot;: &quot;info-sign&quot;, &quot;iconColor&quot;: &quot;white&quot;, &quot;markerColor&quot;: &quot;blue&quot;, &quot;prefix&quot;: &quot;glyphicon&quot;}\n",
              "            );\n",
              "            marker_b9e57e3f331500dc91dc61c9efeeb48f.setIcon(icon_18b57615a1b2efb2065c41ea5e8c3509);\n",
              "        \n",
              "    \n",
              "        var popup_525ac6dc77fad3ba95720109ddcb1cf5 = L.popup({&quot;maxWidth&quot;: &quot;100%&quot;});\n",
              "\n",
              "        \n",
              "            \n",
              "                var html_ab9aec0a5135bbda548cb007f5596d38 = $(`&lt;div id=&quot;html_ab9aec0a5135bbda548cb007f5596d38&quot; style=&quot;width: 100.0%; height: 100.0%;&quot;&gt;BR - 4 Cientistas de Dados&lt;/div&gt;`)[0];\n",
              "                popup_525ac6dc77fad3ba95720109ddcb1cf5.setContent(html_ab9aec0a5135bbda548cb007f5596d38);\n",
              "            \n",
              "        \n",
              "\n",
              "        marker_b9e57e3f331500dc91dc61c9efeeb48f.bindPopup(popup_525ac6dc77fad3ba95720109ddcb1cf5)\n",
              "        ;\n",
              "\n",
              "        \n",
              "    \n",
              "    \n",
              "            var marker_39ab36c455acdc49f1a438d6b6886a5f = L.marker(\n",
              "                [61.0666922, -107.991707],\n",
              "                {}\n",
              "            ).addTo(map_c9d48075e14e33b2f704135c95e48542);\n",
              "        \n",
              "    \n",
              "            var icon_dc51f626a62f39a6796de6bf26a7de3d = L.AwesomeMarkers.icon(\n",
              "                {&quot;extraClasses&quot;: &quot;fa-rotate-0&quot;, &quot;icon&quot;: &quot;info-sign&quot;, &quot;iconColor&quot;: &quot;white&quot;, &quot;markerColor&quot;: &quot;blue&quot;, &quot;prefix&quot;: &quot;glyphicon&quot;}\n",
              "            );\n",
              "            marker_39ab36c455acdc49f1a438d6b6886a5f.setIcon(icon_dc51f626a62f39a6796de6bf26a7de3d);\n",
              "        \n",
              "    \n",
              "        var popup_192228a0eecfed5a8ed25bdeef37f3e8 = L.popup({&quot;maxWidth&quot;: &quot;100%&quot;});\n",
              "\n",
              "        \n",
              "            \n",
              "                var html_782a8e39d3a33583033e18def9834251 = $(`&lt;div id=&quot;html_782a8e39d3a33583033e18def9834251&quot; style=&quot;width: 100.0%; height: 100.0%;&quot;&gt;CA - 18 Cientistas de Dados&lt;/div&gt;`)[0];\n",
              "                popup_192228a0eecfed5a8ed25bdeef37f3e8.setContent(html_782a8e39d3a33583033e18def9834251);\n",
              "            \n",
              "        \n",
              "\n",
              "        marker_39ab36c455acdc49f1a438d6b6886a5f.bindPopup(popup_192228a0eecfed5a8ed25bdeef37f3e8)\n",
              "        ;\n",
              "\n",
              "        \n",
              "    \n",
              "    \n",
              "            var marker_6457d14f12cbcb97fc9c0c29558c72bc = L.marker(\n",
              "                [42.10269285, 14.41590530501923],\n",
              "                {}\n",
              "            ).addTo(map_c9d48075e14e33b2f704135c95e48542);\n",
              "        \n",
              "    \n",
              "            var icon_78bb8d8678f29c81f318abfa06eb4c27 = L.AwesomeMarkers.icon(\n",
              "                {&quot;extraClasses&quot;: &quot;fa-rotate-0&quot;, &quot;icon&quot;: &quot;info-sign&quot;, &quot;iconColor&quot;: &quot;white&quot;, &quot;markerColor&quot;: &quot;blue&quot;, &quot;prefix&quot;: &quot;glyphicon&quot;}\n",
              "            );\n",
              "            marker_6457d14f12cbcb97fc9c0c29558c72bc.setIcon(icon_78bb8d8678f29c81f318abfa06eb4c27);\n",
              "        \n",
              "    \n",
              "        var popup_07ac2ecf466bb8f1761d24f56eceddd9 = L.popup({&quot;maxWidth&quot;: &quot;100%&quot;});\n",
              "\n",
              "        \n",
              "            \n",
              "                var html_11be1f721a72951374331f81177a1492 = $(`&lt;div id=&quot;html_11be1f721a72951374331f81177a1492&quot; style=&quot;width: 100.0%; height: 100.0%;&quot;&gt;CH - 2 Cientistas de Dados&lt;/div&gt;`)[0];\n",
              "                popup_07ac2ecf466bb8f1761d24f56eceddd9.setContent(html_11be1f721a72951374331f81177a1492);\n",
              "            \n",
              "        \n",
              "\n",
              "        marker_6457d14f12cbcb97fc9c0c29558c72bc.bindPopup(popup_07ac2ecf466bb8f1761d24f56eceddd9)\n",
              "        ;\n",
              "\n",
              "        \n",
              "    \n",
              "    \n",
              "            var marker_c7479d66211d9230224d0f2fa1054460 = L.marker(\n",
              "                [-31.7613365, -71.3187697],\n",
              "                {}\n",
              "            ).addTo(map_c9d48075e14e33b2f704135c95e48542);\n",
              "        \n",
              "    \n",
              "            var icon_2cf63630153d538b94cb850ab3eaa622 = L.AwesomeMarkers.icon(\n",
              "                {&quot;extraClasses&quot;: &quot;fa-rotate-0&quot;, &quot;icon&quot;: &quot;info-sign&quot;, &quot;iconColor&quot;: &quot;white&quot;, &quot;markerColor&quot;: &quot;blue&quot;, &quot;prefix&quot;: &quot;glyphicon&quot;}\n",
              "            );\n",
              "            marker_c7479d66211d9230224d0f2fa1054460.setIcon(icon_2cf63630153d538b94cb850ab3eaa622);\n",
              "        \n",
              "    \n",
              "        var popup_80b3662ad3e915c30ef53ba5d6326fe0 = L.popup({&quot;maxWidth&quot;: &quot;100%&quot;});\n",
              "\n",
              "        \n",
              "            \n",
              "                var html_53ce074b5d0a5c8bb22c4d3caee5ede0 = $(`&lt;div id=&quot;html_53ce074b5d0a5c8bb22c4d3caee5ede0&quot; style=&quot;width: 100.0%; height: 100.0%;&quot;&gt;CL - 1 Cientistas de Dados&lt;/div&gt;`)[0];\n",
              "                popup_80b3662ad3e915c30ef53ba5d6326fe0.setContent(html_53ce074b5d0a5c8bb22c4d3caee5ede0);\n",
              "            \n",
              "        \n",
              "\n",
              "        marker_c7479d66211d9230224d0f2fa1054460.bindPopup(popup_80b3662ad3e915c30ef53ba5d6326fe0)\n",
              "        ;\n",
              "\n",
              "        \n",
              "    \n",
              "    \n",
              "            var marker_cf59b3110653bf6ef1948deef79248ee = L.marker(\n",
              "                [38.6920451, -75.4013315],\n",
              "                {}\n",
              "            ).addTo(map_c9d48075e14e33b2f704135c95e48542);\n",
              "        \n",
              "    \n",
              "            var icon_e99f6d076ba6bfcfffa2e29a2eafbd78 = L.AwesomeMarkers.icon(\n",
              "                {&quot;extraClasses&quot;: &quot;fa-rotate-0&quot;, &quot;icon&quot;: &quot;info-sign&quot;, &quot;iconColor&quot;: &quot;white&quot;, &quot;markerColor&quot;: &quot;blue&quot;, &quot;prefix&quot;: &quot;glyphicon&quot;}\n",
              "            );\n",
              "            marker_cf59b3110653bf6ef1948deef79248ee.setIcon(icon_e99f6d076ba6bfcfffa2e29a2eafbd78);\n",
              "        \n",
              "    \n",
              "        var popup_1bac8de55a6857b5a0e871141f676752 = L.popup({&quot;maxWidth&quot;: &quot;100%&quot;});\n",
              "\n",
              "        \n",
              "            \n",
              "                var html_43104ded7bea9a4807abab1870e686b4 = $(`&lt;div id=&quot;html_43104ded7bea9a4807abab1870e686b4&quot; style=&quot;width: 100.0%; height: 100.0%;&quot;&gt;DE - 13 Cientistas de Dados&lt;/div&gt;`)[0];\n",
              "                popup_1bac8de55a6857b5a0e871141f676752.setContent(html_43104ded7bea9a4807abab1870e686b4);\n",
              "            \n",
              "        \n",
              "\n",
              "        marker_cf59b3110653bf6ef1948deef79248ee.bindPopup(popup_1bac8de55a6857b5a0e871141f676752)\n",
              "        ;\n",
              "\n",
              "        \n",
              "    \n",
              "    \n",
              "            var marker_860c312e7257a8f47472b27dd22b3ccb = L.marker(\n",
              "                [53.3832497, 14.6317114],\n",
              "                {}\n",
              "            ).addTo(map_c9d48075e14e33b2f704135c95e48542);\n",
              "        \n",
              "    \n",
              "            var icon_69cd06227a5307f77c87899a51b3af5f = L.AwesomeMarkers.icon(\n",
              "                {&quot;extraClasses&quot;: &quot;fa-rotate-0&quot;, &quot;icon&quot;: &quot;info-sign&quot;, &quot;iconColor&quot;: &quot;white&quot;, &quot;markerColor&quot;: &quot;blue&quot;, &quot;prefix&quot;: &quot;glyphicon&quot;}\n",
              "            );\n",
              "            marker_860c312e7257a8f47472b27dd22b3ccb.setIcon(icon_69cd06227a5307f77c87899a51b3af5f);\n",
              "        \n",
              "    \n",
              "        var popup_317cf73b52161051f0579d5f670da33d = L.popup({&quot;maxWidth&quot;: &quot;100%&quot;});\n",
              "\n",
              "        \n",
              "            \n",
              "                var html_b199c68b912342c59d380a2be68b6432 = $(`&lt;div id=&quot;html_b199c68b912342c59d380a2be68b6432&quot; style=&quot;width: 100.0%; height: 100.0%;&quot;&gt;DZ - 1 Cientistas de Dados&lt;/div&gt;`)[0];\n",
              "                popup_317cf73b52161051f0579d5f670da33d.setContent(html_b199c68b912342c59d380a2be68b6432);\n",
              "            \n",
              "        \n",
              "\n",
              "        marker_860c312e7257a8f47472b27dd22b3ccb.bindPopup(popup_317cf73b52161051f0579d5f670da33d)\n",
              "        ;\n",
              "\n",
              "        \n",
              "    \n",
              "    \n",
              "            var marker_157174739e7026b7076f281a5aab7a24 = L.marker(\n",
              "                [58.7523778, 25.3319078],\n",
              "                {}\n",
              "            ).addTo(map_c9d48075e14e33b2f704135c95e48542);\n",
              "        \n",
              "    \n",
              "            var icon_730c1fbdaf567a102eaca64126036880 = L.AwesomeMarkers.icon(\n",
              "                {&quot;extraClasses&quot;: &quot;fa-rotate-0&quot;, &quot;icon&quot;: &quot;info-sign&quot;, &quot;iconColor&quot;: &quot;white&quot;, &quot;markerColor&quot;: &quot;blue&quot;, &quot;prefix&quot;: &quot;glyphicon&quot;}\n",
              "            );\n",
              "            marker_157174739e7026b7076f281a5aab7a24.setIcon(icon_730c1fbdaf567a102eaca64126036880);\n",
              "        \n",
              "    \n",
              "        var popup_10a1be482fdf9f42c3cc9a2622f7a401 = L.popup({&quot;maxWidth&quot;: &quot;100%&quot;});\n",
              "\n",
              "        \n",
              "            \n",
              "                var html_ed8db91b08d72691bedc55d1d3f1007c = $(`&lt;div id=&quot;html_ed8db91b08d72691bedc55d1d3f1007c&quot; style=&quot;width: 100.0%; height: 100.0%;&quot;&gt;EE - 1 Cientistas de Dados&lt;/div&gt;`)[0];\n",
              "                popup_10a1be482fdf9f42c3cc9a2622f7a401.setContent(html_ed8db91b08d72691bedc55d1d3f1007c);\n",
              "            \n",
              "        \n",
              "\n",
              "        marker_157174739e7026b7076f281a5aab7a24.bindPopup(popup_10a1be482fdf9f42c3cc9a2622f7a401)\n",
              "        ;\n",
              "\n",
              "        \n",
              "    \n",
              "    \n",
              "            var marker_74ec69dbc697283991425a66809ee218 = L.marker(\n",
              "                [39.3260685, -4.8379791],\n",
              "                {}\n",
              "            ).addTo(map_c9d48075e14e33b2f704135c95e48542);\n",
              "        \n",
              "    \n",
              "            var icon_142e046b9f9fb7beb54571affe2ecbd7 = L.AwesomeMarkers.icon(\n",
              "                {&quot;extraClasses&quot;: &quot;fa-rotate-0&quot;, &quot;icon&quot;: &quot;info-sign&quot;, &quot;iconColor&quot;: &quot;white&quot;, &quot;markerColor&quot;: &quot;blue&quot;, &quot;prefix&quot;: &quot;glyphicon&quot;}\n",
              "            );\n",
              "            marker_74ec69dbc697283991425a66809ee218.setIcon(icon_142e046b9f9fb7beb54571affe2ecbd7);\n",
              "        \n",
              "    \n",
              "        var popup_d1b2f40ef914e522106bb24382c5cc5c = L.popup({&quot;maxWidth&quot;: &quot;100%&quot;});\n",
              "\n",
              "        \n",
              "            \n",
              "                var html_4958ee4577d1383d69913e7a061527f3 = $(`&lt;div id=&quot;html_4958ee4577d1383d69913e7a061527f3&quot; style=&quot;width: 100.0%; height: 100.0%;&quot;&gt;ES - 10 Cientistas de Dados&lt;/div&gt;`)[0];\n",
              "                popup_d1b2f40ef914e522106bb24382c5cc5c.setContent(html_4958ee4577d1383d69913e7a061527f3);\n",
              "            \n",
              "        \n",
              "\n",
              "        marker_74ec69dbc697283991425a66809ee218.bindPopup(popup_d1b2f40ef914e522106bb24382c5cc5c)\n",
              "        ;\n",
              "\n",
              "        \n",
              "    \n",
              "    \n",
              "            var marker_cb6c1abffa3e651339927067c2859f28 = L.marker(\n",
              "                [46.603354, 1.8883335],\n",
              "                {}\n",
              "            ).addTo(map_c9d48075e14e33b2f704135c95e48542);\n",
              "        \n",
              "    \n",
              "            var icon_94f6df66491f7e0248ba32e87eb0e2d9 = L.AwesomeMarkers.icon(\n",
              "                {&quot;extraClasses&quot;: &quot;fa-rotate-0&quot;, &quot;icon&quot;: &quot;info-sign&quot;, &quot;iconColor&quot;: &quot;white&quot;, &quot;markerColor&quot;: &quot;blue&quot;, &quot;prefix&quot;: &quot;glyphicon&quot;}\n",
              "            );\n",
              "            marker_cb6c1abffa3e651339927067c2859f28.setIcon(icon_94f6df66491f7e0248ba32e87eb0e2d9);\n",
              "        \n",
              "    \n",
              "        var popup_cde754592c569d21a987d8d0b16d9b15 = L.popup({&quot;maxWidth&quot;: &quot;100%&quot;});\n",
              "\n",
              "        \n",
              "            \n",
              "                var html_ef4d9464fdf6e5f82d1aa16f9e8eea0c = $(`&lt;div id=&quot;html_ef4d9464fdf6e5f82d1aa16f9e8eea0c&quot; style=&quot;width: 100.0%; height: 100.0%;&quot;&gt;FR - 14 Cientistas de Dados&lt;/div&gt;`)[0];\n",
              "                popup_cde754592c569d21a987d8d0b16d9b15.setContent(html_ef4d9464fdf6e5f82d1aa16f9e8eea0c);\n",
              "            \n",
              "        \n",
              "\n",
              "        marker_cb6c1abffa3e651339927067c2859f28.bindPopup(popup_cde754592c569d21a987d8d0b16d9b15)\n",
              "        ;\n",
              "\n",
              "        \n",
              "    \n",
              "    \n",
              "            var marker_8de726c25081820d561490a9fb9f89d6 = L.marker(\n",
              "                [54.7023545, -3.2765753],\n",
              "                {}\n",
              "            ).addTo(map_c9d48075e14e33b2f704135c95e48542);\n",
              "        \n",
              "    \n",
              "            var icon_1a7c03c3357ccbf722b95ad9bf3e5147 = L.AwesomeMarkers.icon(\n",
              "                {&quot;extraClasses&quot;: &quot;fa-rotate-0&quot;, &quot;icon&quot;: &quot;info-sign&quot;, &quot;iconColor&quot;: &quot;white&quot;, &quot;markerColor&quot;: &quot;blue&quot;, &quot;prefix&quot;: &quot;glyphicon&quot;}\n",
              "            );\n",
              "            marker_8de726c25081820d561490a9fb9f89d6.setIcon(icon_1a7c03c3357ccbf722b95ad9bf3e5147);\n",
              "        \n",
              "    \n",
              "        var popup_be59bb3735e594dce1b16629cdf3bedb = L.popup({&quot;maxWidth&quot;: &quot;100%&quot;});\n",
              "\n",
              "        \n",
              "            \n",
              "                var html_1279af4f920350d2f370ba774b7d3fac = $(`&lt;div id=&quot;html_1279af4f920350d2f370ba774b7d3fac&quot; style=&quot;width: 100.0%; height: 100.0%;&quot;&gt;GB - 29 Cientistas de Dados&lt;/div&gt;`)[0];\n",
              "                popup_be59bb3735e594dce1b16629cdf3bedb.setContent(html_1279af4f920350d2f370ba774b7d3fac);\n",
              "            \n",
              "        \n",
              "\n",
              "        marker_8de726c25081820d561490a9fb9f89d6.bindPopup(popup_be59bb3735e594dce1b16629cdf3bedb)\n",
              "        ;\n",
              "\n",
              "        \n",
              "    \n",
              "    \n",
              "            var marker_65489f06456d22f9c2e8d4926ff34bd4 = L.marker(\n",
              "                [22.350627, 114.1849161],\n",
              "                {}\n",
              "            ).addTo(map_c9d48075e14e33b2f704135c95e48542);\n",
              "        \n",
              "    \n",
              "            var icon_fe2aa5d83d9a5a1ca21dc2ee77d3f1d1 = L.AwesomeMarkers.icon(\n",
              "                {&quot;extraClasses&quot;: &quot;fa-rotate-0&quot;, &quot;icon&quot;: &quot;info-sign&quot;, &quot;iconColor&quot;: &quot;white&quot;, &quot;markerColor&quot;: &quot;blue&quot;, &quot;prefix&quot;: &quot;glyphicon&quot;}\n",
              "            );\n",
              "            marker_65489f06456d22f9c2e8d4926ff34bd4.setIcon(icon_fe2aa5d83d9a5a1ca21dc2ee77d3f1d1);\n",
              "        \n",
              "    \n",
              "        var popup_86cfc5a5db6b2bc16faeb0bf6070be12 = L.popup({&quot;maxWidth&quot;: &quot;100%&quot;});\n",
              "\n",
              "        \n",
              "            \n",
              "                var html_bd438096a3816392a34af36c7159e4d1 = $(`&lt;div id=&quot;html_bd438096a3816392a34af36c7159e4d1&quot; style=&quot;width: 100.0%; height: 100.0%;&quot;&gt;HK - 1 Cientistas de Dados&lt;/div&gt;`)[0];\n",
              "                popup_86cfc5a5db6b2bc16faeb0bf6070be12.setContent(html_bd438096a3816392a34af36c7159e4d1);\n",
              "            \n",
              "        \n",
              "\n",
              "        marker_65489f06456d22f9c2e8d4926ff34bd4.bindPopup(popup_86cfc5a5db6b2bc16faeb0bf6070be12)\n",
              "        ;\n",
              "\n",
              "        \n",
              "    \n",
              "    \n",
              "            var marker_47ad6a70e264c5b6a1115c93133382d4 = L.marker(\n",
              "                [50.5180856, 5.2408138],\n",
              "                {}\n",
              "            ).addTo(map_c9d48075e14e33b2f704135c95e48542);\n",
              "        \n",
              "    \n",
              "            var icon_aa62fb08dcfa133778ab6bf8fba8d697 = L.AwesomeMarkers.icon(\n",
              "                {&quot;extraClasses&quot;: &quot;fa-rotate-0&quot;, &quot;icon&quot;: &quot;info-sign&quot;, &quot;iconColor&quot;: &quot;white&quot;, &quot;markerColor&quot;: &quot;blue&quot;, &quot;prefix&quot;: &quot;glyphicon&quot;}\n",
              "            );\n",
              "            marker_47ad6a70e264c5b6a1115c93133382d4.setIcon(icon_aa62fb08dcfa133778ab6bf8fba8d697);\n",
              "        \n",
              "    \n",
              "        var popup_fb9f699a69fea73fdaa8b169e95dcad7 = L.popup({&quot;maxWidth&quot;: &quot;100%&quot;});\n",
              "\n",
              "        \n",
              "            \n",
              "                var html_ab41ceb1d6950ef2ee8fd927957bf503 = $(`&lt;div id=&quot;html_ab41ceb1d6950ef2ee8fd927957bf503&quot; style=&quot;width: 100.0%; height: 100.0%;&quot;&gt;HU - 2 Cientistas de Dados&lt;/div&gt;`)[0];\n",
              "                popup_fb9f699a69fea73fdaa8b169e95dcad7.setContent(html_ab41ceb1d6950ef2ee8fd927957bf503);\n",
              "            \n",
              "        \n",
              "\n",
              "        marker_47ad6a70e264c5b6a1115c93133382d4.bindPopup(popup_fb9f699a69fea73fdaa8b169e95dcad7)\n",
              "        ;\n",
              "\n",
              "        \n",
              "    \n",
              "    \n",
              "            var marker_ebf8c4e7a2d825770dd46127edb72b8c = L.marker(\n",
              "                [43.6447642, -114.015407],\n",
              "                {}\n",
              "            ).addTo(map_c9d48075e14e33b2f704135c95e48542);\n",
              "        \n",
              "    \n",
              "            var icon_527d397522fef574016243a5dc9dc01c = L.AwesomeMarkers.icon(\n",
              "                {&quot;extraClasses&quot;: &quot;fa-rotate-0&quot;, &quot;icon&quot;: &quot;info-sign&quot;, &quot;iconColor&quot;: &quot;white&quot;, &quot;markerColor&quot;: &quot;blue&quot;, &quot;prefix&quot;: &quot;glyphicon&quot;}\n",
              "            );\n",
              "            marker_ebf8c4e7a2d825770dd46127edb72b8c.setIcon(icon_527d397522fef574016243a5dc9dc01c);\n",
              "        \n",
              "    \n",
              "        var popup_e6a81ad57dcb77b33d033f998c85648c = L.popup({&quot;maxWidth&quot;: &quot;100%&quot;});\n",
              "\n",
              "        \n",
              "            \n",
              "                var html_027a6e8af3732fc3c0b8ffc2fa8b375a = $(`&lt;div id=&quot;html_027a6e8af3732fc3c0b8ffc2fa8b375a&quot; style=&quot;width: 100.0%; height: 100.0%;&quot;&gt;ID - 1 Cientistas de Dados&lt;/div&gt;`)[0];\n",
              "                popup_e6a81ad57dcb77b33d033f998c85648c.setContent(html_027a6e8af3732fc3c0b8ffc2fa8b375a);\n",
              "            \n",
              "        \n",
              "\n",
              "        marker_ebf8c4e7a2d825770dd46127edb72b8c.bindPopup(popup_e6a81ad57dcb77b33d033f998c85648c)\n",
              "        ;\n",
              "\n",
              "        \n",
              "    \n",
              "    \n",
              "            var marker_c7ac379657cb59384d9a7b2fa28b4013 = L.marker(\n",
              "                [52.865196, -7.9794599],\n",
              "                {}\n",
              "            ).addTo(map_c9d48075e14e33b2f704135c95e48542);\n",
              "        \n",
              "    \n",
              "            var icon_58a897befcce0248604dc8701e90a458 = L.AwesomeMarkers.icon(\n",
              "                {&quot;extraClasses&quot;: &quot;fa-rotate-0&quot;, &quot;icon&quot;: &quot;info-sign&quot;, &quot;iconColor&quot;: &quot;white&quot;, &quot;markerColor&quot;: &quot;blue&quot;, &quot;prefix&quot;: &quot;glyphicon&quot;}\n",
              "            );\n",
              "            marker_c7ac379657cb59384d9a7b2fa28b4013.setIcon(icon_58a897befcce0248604dc8701e90a458);\n",
              "        \n",
              "    \n",
              "        var popup_561834ac99cf04bc7d39c7a463abc18d = L.popup({&quot;maxWidth&quot;: &quot;100%&quot;});\n",
              "\n",
              "        \n",
              "            \n",
              "                var html_03cd2cca53e73f78e281b00998f215b0 = $(`&lt;div id=&quot;html_03cd2cca53e73f78e281b00998f215b0&quot; style=&quot;width: 100.0%; height: 100.0%;&quot;&gt;IE - 4 Cientistas de Dados&lt;/div&gt;`)[0];\n",
              "                popup_561834ac99cf04bc7d39c7a463abc18d.setContent(html_03cd2cca53e73f78e281b00998f215b0);\n",
              "            \n",
              "        \n",
              "\n",
              "        marker_c7ac379657cb59384d9a7b2fa28b4013.bindPopup(popup_561834ac99cf04bc7d39c7a463abc18d)\n",
              "        ;\n",
              "\n",
              "        \n",
              "    \n",
              "    \n",
              "            var marker_1ee9ae8499fbe8753bfd798d507cc326 = L.marker(\n",
              "                [40.0796606, -89.4337288],\n",
              "                {}\n",
              "            ).addTo(map_c9d48075e14e33b2f704135c95e48542);\n",
              "        \n",
              "    \n",
              "            var icon_9a21d36d55b9a4768f5d7f11ecc4fc0b = L.AwesomeMarkers.icon(\n",
              "                {&quot;extraClasses&quot;: &quot;fa-rotate-0&quot;, &quot;icon&quot;: &quot;info-sign&quot;, &quot;iconColor&quot;: &quot;white&quot;, &quot;markerColor&quot;: &quot;blue&quot;, &quot;prefix&quot;: &quot;glyphicon&quot;}\n",
              "            );\n",
              "            marker_1ee9ae8499fbe8753bfd798d507cc326.setIcon(icon_9a21d36d55b9a4768f5d7f11ecc4fc0b);\n",
              "        \n",
              "    \n",
              "        var popup_bd46bea084a6d001ee033d1135baadbf = L.popup({&quot;maxWidth&quot;: &quot;100%&quot;});\n",
              "\n",
              "        \n",
              "            \n",
              "                var html_cabb619773edb872b38e0056d50fa7da = $(`&lt;div id=&quot;html_cabb619773edb872b38e0056d50fa7da&quot; style=&quot;width: 100.0%; height: 100.0%;&quot;&gt;IL - 1 Cientistas de Dados&lt;/div&gt;`)[0];\n",
              "                popup_bd46bea084a6d001ee033d1135baadbf.setContent(html_cabb619773edb872b38e0056d50fa7da);\n",
              "            \n",
              "        \n",
              "\n",
              "        marker_1ee9ae8499fbe8753bfd798d507cc326.bindPopup(popup_bd46bea084a6d001ee033d1135baadbf)\n",
              "        ;\n",
              "\n",
              "        \n",
              "    \n",
              "    \n",
              "            var marker_08b782a50a4f31268569c7e42498be1d = L.marker(\n",
              "                [40.3270127, -86.1746933],\n",
              "                {}\n",
              "            ).addTo(map_c9d48075e14e33b2f704135c95e48542);\n",
              "        \n",
              "    \n",
              "            var icon_752169d3d7a9c0ed994cb9fb83645b33 = L.AwesomeMarkers.icon(\n",
              "                {&quot;extraClasses&quot;: &quot;fa-rotate-0&quot;, &quot;icon&quot;: &quot;info-sign&quot;, &quot;iconColor&quot;: &quot;white&quot;, &quot;markerColor&quot;: &quot;blue&quot;, &quot;prefix&quot;: &quot;glyphicon&quot;}\n",
              "            );\n",
              "            marker_08b782a50a4f31268569c7e42498be1d.setIcon(icon_752169d3d7a9c0ed994cb9fb83645b33);\n",
              "        \n",
              "    \n",
              "        var popup_48a15f0f9ffa7b7499b5c2f5289e67db = L.popup({&quot;maxWidth&quot;: &quot;100%&quot;});\n",
              "\n",
              "        \n",
              "            \n",
              "                var html_abf0934a6a1bb1aef23f8733ee6c3bb3 = $(`&lt;div id=&quot;html_abf0934a6a1bb1aef23f8733ee6c3bb3&quot; style=&quot;width: 100.0%; height: 100.0%;&quot;&gt;IN - 15 Cientistas de Dados&lt;/div&gt;`)[0];\n",
              "                popup_48a15f0f9ffa7b7499b5c2f5289e67db.setContent(html_abf0934a6a1bb1aef23f8733ee6c3bb3);\n",
              "            \n",
              "        \n",
              "\n",
              "        marker_08b782a50a4f31268569c7e42498be1d.bindPopup(popup_48a15f0f9ffa7b7499b5c2f5289e67db)\n",
              "        ;\n",
              "\n",
              "        \n",
              "    \n",
              "    \n",
              "            var marker_588b380370a9b8fc4296db646fe0a754 = L.marker(\n",
              "                [42.6384261, 12.674297],\n",
              "                {}\n",
              "            ).addTo(map_c9d48075e14e33b2f704135c95e48542);\n",
              "        \n",
              "    \n",
              "            var icon_958d87b4c40b77ea03867ec2e34fa5e3 = L.AwesomeMarkers.icon(\n",
              "                {&quot;extraClasses&quot;: &quot;fa-rotate-0&quot;, &quot;icon&quot;: &quot;info-sign&quot;, &quot;iconColor&quot;: &quot;white&quot;, &quot;markerColor&quot;: &quot;blue&quot;, &quot;prefix&quot;: &quot;glyphicon&quot;}\n",
              "            );\n",
              "            marker_588b380370a9b8fc4296db646fe0a754.setIcon(icon_958d87b4c40b77ea03867ec2e34fa5e3);\n",
              "        \n",
              "    \n",
              "        var popup_6bf3765eb4b6e486f3d3f338e0a23d74 = L.popup({&quot;maxWidth&quot;: &quot;100%&quot;});\n",
              "\n",
              "        \n",
              "            \n",
              "                var html_3ee26a380f504c17b4e577e7ebdbd384 = $(`&lt;div id=&quot;html_3ee26a380f504c17b4e577e7ebdbd384&quot; style=&quot;width: 100.0%; height: 100.0%;&quot;&gt;IT - 1 Cientistas de Dados&lt;/div&gt;`)[0];\n",
              "                popup_6bf3765eb4b6e486f3d3f338e0a23d74.setContent(html_3ee26a380f504c17b4e577e7ebdbd384);\n",
              "            \n",
              "        \n",
              "\n",
              "        marker_588b380370a9b8fc4296db646fe0a754.bindPopup(popup_6bf3765eb4b6e486f3d3f338e0a23d74)\n",
              "        ;\n",
              "\n",
              "        \n",
              "    \n",
              "    \n",
              "            var marker_c070a18edbdfb4802b35a860e123b1d6 = L.marker(\n",
              "                [44.017763900000006, 10.454430026192636],\n",
              "                {}\n",
              "            ).addTo(map_c9d48075e14e33b2f704135c95e48542);\n",
              "        \n",
              "    \n",
              "            var icon_50f761e5135446a077bf86722e054aa2 = L.AwesomeMarkers.icon(\n",
              "                {&quot;extraClasses&quot;: &quot;fa-rotate-0&quot;, &quot;icon&quot;: &quot;info-sign&quot;, &quot;iconColor&quot;: &quot;white&quot;, &quot;markerColor&quot;: &quot;blue&quot;, &quot;prefix&quot;: &quot;glyphicon&quot;}\n",
              "            );\n",
              "            marker_c070a18edbdfb4802b35a860e123b1d6.setIcon(icon_50f761e5135446a077bf86722e054aa2);\n",
              "        \n",
              "    \n",
              "        var popup_0ef30e687de9ffd98e67ce26ea0b4d82 = L.popup({&quot;maxWidth&quot;: &quot;100%&quot;});\n",
              "\n",
              "        \n",
              "            \n",
              "                var html_c08cf62471eb3089edaaa46eccff077c = $(`&lt;div id=&quot;html_c08cf62471eb3089edaaa46eccff077c&quot; style=&quot;width: 100.0%; height: 100.0%;&quot;&gt;LU - 1 Cientistas de Dados&lt;/div&gt;`)[0];\n",
              "                popup_0ef30e687de9ffd98e67ce26ea0b4d82.setContent(html_c08cf62471eb3089edaaa46eccff077c);\n",
              "            \n",
              "        \n",
              "\n",
              "        marker_c070a18edbdfb4802b35a860e123b1d6.bindPopup(popup_0ef30e687de9ffd98e67ce26ea0b4d82)\n",
              "        ;\n",
              "\n",
              "        \n",
              "    \n",
              "    \n",
              "            var marker_4d6061d7c2c40607833d700e4aeda994 = L.marker(\n",
              "                [46.52170099999999, 28.40154537523081],\n",
              "                {}\n",
              "            ).addTo(map_c9d48075e14e33b2f704135c95e48542);\n",
              "        \n",
              "    \n",
              "            var icon_3ea2eefd6cb9a1f6127bff6df825a5b2 = L.AwesomeMarkers.icon(\n",
              "                {&quot;extraClasses&quot;: &quot;fa-rotate-0&quot;, &quot;icon&quot;: &quot;info-sign&quot;, &quot;iconColor&quot;: &quot;white&quot;, &quot;markerColor&quot;: &quot;blue&quot;, &quot;prefix&quot;: &quot;glyphicon&quot;}\n",
              "            );\n",
              "            marker_4d6061d7c2c40607833d700e4aeda994.setIcon(icon_3ea2eefd6cb9a1f6127bff6df825a5b2);\n",
              "        \n",
              "    \n",
              "        var popup_0dd4c37115b24e6ac07c52b26911aa70 = L.popup({&quot;maxWidth&quot;: &quot;100%&quot;});\n",
              "\n",
              "        \n",
              "            \n",
              "                var html_dddc1825907500047afc0da1033e515e = $(`&lt;div id=&quot;html_dddc1825907500047afc0da1033e515e&quot; style=&quot;width: 100.0%; height: 100.0%;&quot;&gt;LV - 2 Cientistas de Dados&lt;/div&gt;`)[0];\n",
              "                popup_0dd4c37115b24e6ac07c52b26911aa70.setContent(html_dddc1825907500047afc0da1033e515e);\n",
              "            \n",
              "        \n",
              "\n",
              "        marker_4d6061d7c2c40607833d700e4aeda994.bindPopup(popup_0dd4c37115b24e6ac07c52b26911aa70)\n",
              "        ;\n",
              "\n",
              "        \n",
              "    \n",
              "    \n",
              "            var marker_e4b6f903bdb86dcfb44ca1a5abfaee02 = L.marker(\n",
              "                [23.6585116, -102.0077097],\n",
              "                {}\n",
              "            ).addTo(map_c9d48075e14e33b2f704135c95e48542);\n",
              "        \n",
              "    \n",
              "            var icon_56794d0abd35e6af3cdccbd67e2f5c5e = L.AwesomeMarkers.icon(\n",
              "                {&quot;extraClasses&quot;: &quot;fa-rotate-0&quot;, &quot;icon&quot;: &quot;info-sign&quot;, &quot;iconColor&quot;: &quot;white&quot;, &quot;markerColor&quot;: &quot;blue&quot;, &quot;prefix&quot;: &quot;glyphicon&quot;}\n",
              "            );\n",
              "            marker_e4b6f903bdb86dcfb44ca1a5abfaee02.setIcon(icon_56794d0abd35e6af3cdccbd67e2f5c5e);\n",
              "        \n",
              "    \n",
              "        var popup_d9bc0b40ab30874d10b6287602850d90 = L.popup({&quot;maxWidth&quot;: &quot;100%&quot;});\n",
              "\n",
              "        \n",
              "            \n",
              "                var html_2d1c3e7759c57f6254bc2fcfb46410c0 = $(`&lt;div id=&quot;html_2d1c3e7759c57f6254bc2fcfb46410c0&quot; style=&quot;width: 100.0%; height: 100.0%;&quot;&gt;MX - 1 Cientistas de Dados&lt;/div&gt;`)[0];\n",
              "                popup_d9bc0b40ab30874d10b6287602850d90.setContent(html_2d1c3e7759c57f6254bc2fcfb46410c0);\n",
              "            \n",
              "        \n",
              "\n",
              "        marker_e4b6f903bdb86dcfb44ca1a5abfaee02.bindPopup(popup_d9bc0b40ab30874d10b6287602850d90)\n",
              "        ;\n",
              "\n",
              "        \n",
              "    \n",
              "    \n",
              "            var marker_2c18aaadb131c6563288c304970501c4 = L.marker(\n",
              "                [36.81843005, -99.00906717303353],\n",
              "                {}\n",
              "            ).addTo(map_c9d48075e14e33b2f704135c95e48542);\n",
              "        \n",
              "    \n",
              "            var icon_2146255f8c9a0509c61d82e1be25bce5 = L.AwesomeMarkers.icon(\n",
              "                {&quot;extraClasses&quot;: &quot;fa-rotate-0&quot;, &quot;icon&quot;: &quot;info-sign&quot;, &quot;iconColor&quot;: &quot;white&quot;, &quot;markerColor&quot;: &quot;blue&quot;, &quot;prefix&quot;: &quot;glyphicon&quot;}\n",
              "            );\n",
              "            marker_2c18aaadb131c6563288c304970501c4.setIcon(icon_2146255f8c9a0509c61d82e1be25bce5);\n",
              "        \n",
              "    \n",
              "        var popup_c38f548af1595ed590112346b4ef4844 = L.popup({&quot;maxWidth&quot;: &quot;100%&quot;});\n",
              "\n",
              "        \n",
              "            \n",
              "                var html_2e650d65a3dba426e77a39bdcbbf1d39 = $(`&lt;div id=&quot;html_2e650d65a3dba426e77a39bdcbbf1d39&quot; style=&quot;width: 100.0%; height: 100.0%;&quot;&gt;MY - 1 Cientistas de Dados&lt;/div&gt;`)[0];\n",
              "                popup_c38f548af1595ed590112346b4ef4844.setContent(html_2e650d65a3dba426e77a39bdcbbf1d39);\n",
              "            \n",
              "        \n",
              "\n",
              "        marker_2c18aaadb131c6563288c304970501c4.bindPopup(popup_c38f548af1595ed590112346b4ef4844)\n",
              "        ;\n",
              "\n",
              "        \n",
              "    \n",
              "    \n",
              "            var marker_c954eafd897cc4d6a3f04b2d1acca510 = L.marker(\n",
              "                [8.16698, 48.9978971],\n",
              "                {}\n",
              "            ).addTo(map_c9d48075e14e33b2f704135c95e48542);\n",
              "        \n",
              "    \n",
              "            var icon_6870d262feeda1681f7666c3216646e4 = L.AwesomeMarkers.icon(\n",
              "                {&quot;extraClasses&quot;: &quot;fa-rotate-0&quot;, &quot;icon&quot;: &quot;info-sign&quot;, &quot;iconColor&quot;: &quot;white&quot;, &quot;markerColor&quot;: &quot;blue&quot;, &quot;prefix&quot;: &quot;glyphicon&quot;}\n",
              "            );\n",
              "            marker_c954eafd897cc4d6a3f04b2d1acca510.setIcon(icon_6870d262feeda1681f7666c3216646e4);\n",
              "        \n",
              "    \n",
              "        var popup_d87642c16b5a43183239eba77f83c697 = L.popup({&quot;maxWidth&quot;: &quot;100%&quot;});\n",
              "\n",
              "        \n",
              "            \n",
              "                var html_2f6e29cde9121ebdf09a7f45c64f7a41 = $(`&lt;div id=&quot;html_2f6e29cde9121ebdf09a7f45c64f7a41&quot; style=&quot;width: 100.0%; height: 100.0%;&quot;&gt;NG - 1 Cientistas de Dados&lt;/div&gt;`)[0];\n",
              "                popup_d87642c16b5a43183239eba77f83c697.setContent(html_2f6e29cde9121ebdf09a7f45c64f7a41);\n",
              "            \n",
              "        \n",
              "\n",
              "        marker_c954eafd897cc4d6a3f04b2d1acca510.bindPopup(popup_d87642c16b5a43183239eba77f83c697)\n",
              "        ;\n",
              "\n",
              "        \n",
              "    \n",
              "    \n",
              "            var marker_6fcc43c39b83b14074707b667c08f36b = L.marker(\n",
              "                [53.8217327, -61.2295532],\n",
              "                {}\n",
              "            ).addTo(map_c9d48075e14e33b2f704135c95e48542);\n",
              "        \n",
              "    \n",
              "            var icon_428f7377f1dc1242b0d87b7a3b31247b = L.AwesomeMarkers.icon(\n",
              "                {&quot;extraClasses&quot;: &quot;fa-rotate-0&quot;, &quot;icon&quot;: &quot;info-sign&quot;, &quot;iconColor&quot;: &quot;white&quot;, &quot;markerColor&quot;: &quot;blue&quot;, &quot;prefix&quot;: &quot;glyphicon&quot;}\n",
              "            );\n",
              "            marker_6fcc43c39b83b14074707b667c08f36b.setIcon(icon_428f7377f1dc1242b0d87b7a3b31247b);\n",
              "        \n",
              "    \n",
              "        var popup_bd1fccd5541300ea1c9b1934491cf3fc = L.popup({&quot;maxWidth&quot;: &quot;100%&quot;});\n",
              "\n",
              "        \n",
              "            \n",
              "                var html_f412908b6acd1f4570f63d51be3decd1 = $(`&lt;div id=&quot;html_f412908b6acd1f4570f63d51be3decd1&quot; style=&quot;width: 100.0%; height: 100.0%;&quot;&gt;NL - 4 Cientistas de Dados&lt;/div&gt;`)[0];\n",
              "                popup_bd1fccd5541300ea1c9b1934491cf3fc.setContent(html_f412908b6acd1f4570f63d51be3decd1);\n",
              "            \n",
              "        \n",
              "\n",
              "        marker_6fcc43c39b83b14074707b667c08f36b.bindPopup(popup_bd1fccd5541300ea1c9b1934491cf3fc)\n",
              "        ;\n",
              "\n",
              "        \n",
              "    \n",
              "    \n",
              "            var marker_670f2d025d17dde00298be80d5e59371 = L.marker(\n",
              "                [52.215933, 19.134422],\n",
              "                {}\n",
              "            ).addTo(map_c9d48075e14e33b2f704135c95e48542);\n",
              "        \n",
              "    \n",
              "            var icon_dace79cd4136cad50cc3faf959d8d978 = L.AwesomeMarkers.icon(\n",
              "                {&quot;extraClasses&quot;: &quot;fa-rotate-0&quot;, &quot;icon&quot;: &quot;info-sign&quot;, &quot;iconColor&quot;: &quot;white&quot;, &quot;markerColor&quot;: &quot;blue&quot;, &quot;prefix&quot;: &quot;glyphicon&quot;}\n",
              "            );\n",
              "            marker_670f2d025d17dde00298be80d5e59371.setIcon(icon_dace79cd4136cad50cc3faf959d8d978);\n",
              "        \n",
              "    \n",
              "        var popup_91f21728ac07e4bbd730fcd9782346ae = L.popup({&quot;maxWidth&quot;: &quot;100%&quot;});\n",
              "\n",
              "        \n",
              "            \n",
              "                var html_fdc8db372edb9b1e1d52de6b71a0fc73 = $(`&lt;div id=&quot;html_fdc8db372edb9b1e1d52de6b71a0fc73&quot; style=&quot;width: 100.0%; height: 100.0%;&quot;&gt;PL - 1 Cientistas de Dados&lt;/div&gt;`)[0];\n",
              "                popup_91f21728ac07e4bbd730fcd9782346ae.setContent(html_fdc8db372edb9b1e1d52de6b71a0fc73);\n",
              "            \n",
              "        \n",
              "\n",
              "        marker_670f2d025d17dde00298be80d5e59371.bindPopup(popup_91f21728ac07e4bbd730fcd9782346ae)\n",
              "        ;\n",
              "\n",
              "        \n",
              "    \n",
              "    \n",
              "            var marker_d0f931ebca082d11fc4e6cfd68512b94 = L.marker(\n",
              "                [44.97720615, 12.274190436964231],\n",
              "                {}\n",
              "            ).addTo(map_c9d48075e14e33b2f704135c95e48542);\n",
              "        \n",
              "    \n",
              "            var icon_431cc41745d9d818b3a84b95b3dcb521 = L.AwesomeMarkers.icon(\n",
              "                {&quot;extraClasses&quot;: &quot;fa-rotate-0&quot;, &quot;icon&quot;: &quot;info-sign&quot;, &quot;iconColor&quot;: &quot;white&quot;, &quot;markerColor&quot;: &quot;blue&quot;, &quot;prefix&quot;: &quot;glyphicon&quot;}\n",
              "            );\n",
              "            marker_d0f931ebca082d11fc4e6cfd68512b94.setIcon(icon_431cc41745d9d818b3a84b95b3dcb521);\n",
              "        \n",
              "    \n",
              "        var popup_ee429c343359da833ee974e7481f4eef = L.popup({&quot;maxWidth&quot;: &quot;100%&quot;});\n",
              "\n",
              "        \n",
              "            \n",
              "                var html_9c96946df5e9cd42fd0dd7af35d6886f = $(`&lt;div id=&quot;html_9c96946df5e9cd42fd0dd7af35d6886f&quot; style=&quot;width: 100.0%; height: 100.0%;&quot;&gt;RO - 1 Cientistas de Dados&lt;/div&gt;`)[0];\n",
              "                popup_ee429c343359da833ee974e7481f4eef.setContent(html_9c96946df5e9cd42fd0dd7af35d6886f);\n",
              "            \n",
              "        \n",
              "\n",
              "        marker_d0f931ebca082d11fc4e6cfd68512b94.bindPopup(popup_ee429c343359da833ee974e7481f4eef)\n",
              "        ;\n",
              "\n",
              "        \n",
              "    \n",
              "    \n",
              "            var marker_69da1f91378a5e2f0b3fe4bf16b0b56b = L.marker(\n",
              "                [19.9781573, 105.4816107],\n",
              "                {}\n",
              "            ).addTo(map_c9d48075e14e33b2f704135c95e48542);\n",
              "        \n",
              "    \n",
              "            var icon_e32a5b6c061a10a632d8b61473c70faa = L.AwesomeMarkers.icon(\n",
              "                {&quot;extraClasses&quot;: &quot;fa-rotate-0&quot;, &quot;icon&quot;: &quot;info-sign&quot;, &quot;iconColor&quot;: &quot;white&quot;, &quot;markerColor&quot;: &quot;blue&quot;, &quot;prefix&quot;: &quot;glyphicon&quot;}\n",
              "            );\n",
              "            marker_69da1f91378a5e2f0b3fe4bf16b0b56b.setIcon(icon_e32a5b6c061a10a632d8b61473c70faa);\n",
              "        \n",
              "    \n",
              "        var popup_d5dbbefe4900114c3360435f0abec729 = L.popup({&quot;maxWidth&quot;: &quot;100%&quot;});\n",
              "\n",
              "        \n",
              "            \n",
              "                var html_53784afd7071849fde83f06c253fa7aa = $(`&lt;div id=&quot;html_53784afd7071849fde83f06c253fa7aa&quot; style=&quot;width: 100.0%; height: 100.0%;&quot;&gt;TH - 1 Cientistas de Dados&lt;/div&gt;`)[0];\n",
              "                popup_d5dbbefe4900114c3360435f0abec729.setContent(html_53784afd7071849fde83f06c253fa7aa);\n",
              "            \n",
              "        \n",
              "\n",
              "        marker_69da1f91378a5e2f0b3fe4bf16b0b56b.bindPopup(popup_d5dbbefe4900114c3360435f0abec729)\n",
              "        ;\n",
              "\n",
              "        \n",
              "    \n",
              "    \n",
              "            var marker_47784c055c472a41b40a1b3690d726eb = L.marker(\n",
              "                [42.6539486, 12.439652829139407],\n",
              "                {}\n",
              "            ).addTo(map_c9d48075e14e33b2f704135c95e48542);\n",
              "        \n",
              "    \n",
              "            var icon_623c806b2bc403505749b02eb2bf40c4 = L.AwesomeMarkers.icon(\n",
              "                {&quot;extraClasses&quot;: &quot;fa-rotate-0&quot;, &quot;icon&quot;: &quot;info-sign&quot;, &quot;iconColor&quot;: &quot;white&quot;, &quot;markerColor&quot;: &quot;blue&quot;, &quot;prefix&quot;: &quot;glyphicon&quot;}\n",
              "            );\n",
              "            marker_47784c055c472a41b40a1b3690d726eb.setIcon(icon_623c806b2bc403505749b02eb2bf40c4);\n",
              "        \n",
              "    \n",
              "        var popup_a073d422165ed439ccf6f875c3a6fe86 = L.popup({&quot;maxWidth&quot;: &quot;100%&quot;});\n",
              "\n",
              "        \n",
              "            \n",
              "                var html_32c5175707dd545d1ed7b20ff9e00f16 = $(`&lt;div id=&quot;html_32c5175707dd545d1ed7b20ff9e00f16&quot; style=&quot;width: 100.0%; height: 100.0%;&quot;&gt;TR - 3 Cientistas de Dados&lt;/div&gt;`)[0];\n",
              "                popup_a073d422165ed439ccf6f875c3a6fe86.setContent(html_32c5175707dd545d1ed7b20ff9e00f16);\n",
              "            \n",
              "        \n",
              "\n",
              "        marker_47784c055c472a41b40a1b3690d726eb.bindPopup(popup_a073d422165ed439ccf6f875c3a6fe86)\n",
              "        ;\n",
              "\n",
              "        \n",
              "    \n",
              "    \n",
              "            var marker_6cb15fd4f86da18a6b8c385db7e7e0ec = L.marker(\n",
              "                [-8.8613303, 121.2037997],\n",
              "                {}\n",
              "            ).addTo(map_c9d48075e14e33b2f704135c95e48542);\n",
              "        \n",
              "    \n",
              "            var icon_bf3cf644d6101706323b761dfbfaad80 = L.AwesomeMarkers.icon(\n",
              "                {&quot;extraClasses&quot;: &quot;fa-rotate-0&quot;, &quot;icon&quot;: &quot;info-sign&quot;, &quot;iconColor&quot;: &quot;white&quot;, &quot;markerColor&quot;: &quot;blue&quot;, &quot;prefix&quot;: &quot;glyphicon&quot;}\n",
              "            );\n",
              "            marker_6cb15fd4f86da18a6b8c385db7e7e0ec.setIcon(icon_bf3cf644d6101706323b761dfbfaad80);\n",
              "        \n",
              "    \n",
              "        var popup_8c950efaacb689e113e3d588f26e98d4 = L.popup({&quot;maxWidth&quot;: &quot;100%&quot;});\n",
              "\n",
              "        \n",
              "            \n",
              "                var html_16577e4f2d7fb3e8ba2a9103a7262db5 = $(`&lt;div id=&quot;html_16577e4f2d7fb3e8ba2a9103a7262db5&quot; style=&quot;width: 100.0%; height: 100.0%;&quot;&gt;UA - 1 Cientistas de Dados&lt;/div&gt;`)[0];\n",
              "                popup_8c950efaacb689e113e3d588f26e98d4.setContent(html_16577e4f2d7fb3e8ba2a9103a7262db5);\n",
              "            \n",
              "        \n",
              "\n",
              "        marker_6cb15fd4f86da18a6b8c385db7e7e0ec.bindPopup(popup_8c950efaacb689e113e3d588f26e98d4)\n",
              "        ;\n",
              "\n",
              "        \n",
              "    \n",
              "    \n",
              "            var marker_9fb11d66caaaa3af1959324679fe3e39 = L.marker(\n",
              "                [42.9663688, -0.0852324],\n",
              "                {}\n",
              "            ).addTo(map_c9d48075e14e33b2f704135c95e48542);\n",
              "        \n",
              "    \n",
              "            var icon_064971535f576ff158e0e4369f66081c = L.AwesomeMarkers.icon(\n",
              "                {&quot;extraClasses&quot;: &quot;fa-rotate-0&quot;, &quot;icon&quot;: &quot;info-sign&quot;, &quot;iconColor&quot;: &quot;white&quot;, &quot;markerColor&quot;: &quot;blue&quot;, &quot;prefix&quot;: &quot;glyphicon&quot;}\n",
              "            );\n",
              "            marker_9fb11d66caaaa3af1959324679fe3e39.setIcon(icon_064971535f576ff158e0e4369f66081c);\n",
              "        \n",
              "    \n",
              "        var popup_a5d90a18b6142a0c24dd290307ca4c36 = L.popup({&quot;maxWidth&quot;: &quot;100%&quot;});\n",
              "\n",
              "        \n",
              "            \n",
              "                var html_ed3219ca65c94f3cc598053c9c8ce973 = $(`&lt;div id=&quot;html_ed3219ca65c94f3cc598053c9c8ce973&quot; style=&quot;width: 100.0%; height: 100.0%;&quot;&gt;US - 351 Cientistas de Dados&lt;/div&gt;`)[0];\n",
              "                popup_a5d90a18b6142a0c24dd290307ca4c36.setContent(html_ed3219ca65c94f3cc598053c9c8ce973);\n",
              "            \n",
              "        \n",
              "\n",
              "        marker_9fb11d66caaaa3af1959324679fe3e39.bindPopup(popup_a5d90a18b6142a0c24dd290307ca4c36)\n",
              "        ;\n",
              "\n",
              "        \n",
              "    \n",
              "&lt;/script&gt;\n",
              "&lt;/html&gt;\" style=\"position:absolute;width:100%;height:100%;left:0;top:0;border:none !important;\" allowfullscreen webkitallowfullscreen mozallowfullscreen></iframe></div></div>"
            ]
          },
          "metadata": {},
          "execution_count": 124
        }
      ]
    }
  ]
}