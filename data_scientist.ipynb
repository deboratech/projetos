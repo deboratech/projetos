{
  "nbformat": 4,
  "nbformat_minor": 0,
  "metadata": {
    "colab": {
      "provenance": []
    },
    "kernelspec": {
      "name": "python3",
      "display_name": "Python 3"
    },
    "language_info": {
      "name": "python"
    }
  },
  "cells": [
    {
      "cell_type": "code",
      "execution_count": 45,
      "metadata": {
        "id": "1AEb_nPnP9zg"
      },
      "outputs": [],
      "source": [
        "import pandas as pd\n"
      ]
    },
    {
      "cell_type": "code",
      "source": [
        "import numpy as np\n",
        "import matplotlib.pyplot as plt"
      ],
      "metadata": {
        "id": "ULxZgPLGQDLy"
      },
      "execution_count": 46,
      "outputs": []
    },
    {
      "cell_type": "code",
      "source": [
        "import seaborn as sns\n",
        "plt.style.use(\"seaborn-whitegrid\")\n",
        "import warnings\n",
        "warnings.filterwarnings('ignore')"
      ],
      "metadata": {
        "id": "KIwa-xRdRr_H"
      },
      "execution_count": 47,
      "outputs": []
    },
    {
      "cell_type": "code",
      "source": [
        "ds_salary = pd.read_csv('ds_salary_2021_2023(2).csv', sep=';')\n"
      ],
      "metadata": {
        "id": "Fs8PrdiMYO-D"
      },
      "execution_count": 48,
      "outputs": []
    },
    {
      "cell_type": "code",
      "source": [
        "ds_salary_sem_duplicatas = ds_salary.drop_duplicates()\n"
      ],
      "metadata": {
        "id": "1pfRF4CDYtwJ"
      },
      "execution_count": 49,
      "outputs": []
    },
    {
      "cell_type": "code",
      "source": [
        "ds_salary = ds_salary.dropna()\n"
      ],
      "metadata": {
        "id": "-Z0FVDKvZK9c"
      },
      "execution_count": 50,
      "outputs": []
    },
    {
      "cell_type": "code",
      "source": [
        "print(ds_salary)"
      ],
      "metadata": {
        "colab": {
          "base_uri": "https://localhost:8080/"
        },
        "id": "vCZ5gHcuaTxN",
        "outputId": "e04e6c90-76c4-46a6-9f4e-ba06a736da9e"
      },
      "execution_count": 51,
      "outputs": [
        {
          "output_type": "stream",
          "name": "stdout",
          "text": [
            "      work_year experience_level employment_type                  job_title  \\\n",
            "0          2023               EN              FT          Applied Scientist   \n",
            "1          2023               EN              FT          Applied Scientist   \n",
            "2          2023               EN              FT       Data Quality Analyst   \n",
            "3          2023               EN              FT    Compliance Data Analyst   \n",
            "4          2023               EN              FT          Applied Scientist   \n",
            "...         ...              ...             ...                        ...   \n",
            "3756       2020               SE              FT   Principal Data Scientist   \n",
            "3757       2020               SE              FT             Data Scientist   \n",
            "3758       2020               SE              FT       Data Science Manager   \n",
            "3759       2020               SE              FT  Machine Learning Engineer   \n",
            "3760       2020               SE              FT             Data Scientist   \n",
            "\n",
            "      salary salary_currency  salary_in_usd company_location company_size  \n",
            "0     213660             USD         213660               US            L  \n",
            "1     130760             USD         130760               US            L  \n",
            "2     100000             USD         100000               NG            L  \n",
            "3      30000             USD          30000               NG            L  \n",
            "4     204620             USD         204620               US            L  \n",
            "...      ...             ...            ...              ...          ...  \n",
            "3756  130000             EUR         148261               DE            M  \n",
            "3757   80000             EUR          91237               AT            S  \n",
            "3758  190200             USD         190200               US            M  \n",
            "3759   40000             EUR          45618               HR            S  \n",
            "3760  412000             USD         412000               US            L  \n",
            "\n",
            "[3761 rows x 9 columns]\n"
          ]
        }
      ]
    },
    {
      "cell_type": "code",
      "source": [
        "ds_salary.head()"
      ],
      "metadata": {
        "colab": {
          "base_uri": "https://localhost:8080/",
          "height": 206
        },
        "id": "f_9GWQUVaVBg",
        "outputId": "10175e2e-e351-4287-945b-53b8d65f86f0"
      },
      "execution_count": 52,
      "outputs": [
        {
          "output_type": "execute_result",
          "data": {
            "text/plain": [
              "   work_year experience_level employment_type                job_title  \\\n",
              "0       2023               EN              FT        Applied Scientist   \n",
              "1       2023               EN              FT        Applied Scientist   \n",
              "2       2023               EN              FT     Data Quality Analyst   \n",
              "3       2023               EN              FT  Compliance Data Analyst   \n",
              "4       2023               EN              FT        Applied Scientist   \n",
              "\n",
              "   salary salary_currency  salary_in_usd company_location company_size  \n",
              "0  213660             USD         213660               US            L  \n",
              "1  130760             USD         130760               US            L  \n",
              "2  100000             USD         100000               NG            L  \n",
              "3   30000             USD          30000               NG            L  \n",
              "4  204620             USD         204620               US            L  "
            ],
            "text/html": [
              "\n",
              "  <div id=\"df-fa20dcfa-792f-4830-9dd2-ffaabb21db02\" class=\"colab-df-container\">\n",
              "    <div>\n",
              "<style scoped>\n",
              "    .dataframe tbody tr th:only-of-type {\n",
              "        vertical-align: middle;\n",
              "    }\n",
              "\n",
              "    .dataframe tbody tr th {\n",
              "        vertical-align: top;\n",
              "    }\n",
              "\n",
              "    .dataframe thead th {\n",
              "        text-align: right;\n",
              "    }\n",
              "</style>\n",
              "<table border=\"1\" class=\"dataframe\">\n",
              "  <thead>\n",
              "    <tr style=\"text-align: right;\">\n",
              "      <th></th>\n",
              "      <th>work_year</th>\n",
              "      <th>experience_level</th>\n",
              "      <th>employment_type</th>\n",
              "      <th>job_title</th>\n",
              "      <th>salary</th>\n",
              "      <th>salary_currency</th>\n",
              "      <th>salary_in_usd</th>\n",
              "      <th>company_location</th>\n",
              "      <th>company_size</th>\n",
              "    </tr>\n",
              "  </thead>\n",
              "  <tbody>\n",
              "    <tr>\n",
              "      <th>0</th>\n",
              "      <td>2023</td>\n",
              "      <td>EN</td>\n",
              "      <td>FT</td>\n",
              "      <td>Applied Scientist</td>\n",
              "      <td>213660</td>\n",
              "      <td>USD</td>\n",
              "      <td>213660</td>\n",
              "      <td>US</td>\n",
              "      <td>L</td>\n",
              "    </tr>\n",
              "    <tr>\n",
              "      <th>1</th>\n",
              "      <td>2023</td>\n",
              "      <td>EN</td>\n",
              "      <td>FT</td>\n",
              "      <td>Applied Scientist</td>\n",
              "      <td>130760</td>\n",
              "      <td>USD</td>\n",
              "      <td>130760</td>\n",
              "      <td>US</td>\n",
              "      <td>L</td>\n",
              "    </tr>\n",
              "    <tr>\n",
              "      <th>2</th>\n",
              "      <td>2023</td>\n",
              "      <td>EN</td>\n",
              "      <td>FT</td>\n",
              "      <td>Data Quality Analyst</td>\n",
              "      <td>100000</td>\n",
              "      <td>USD</td>\n",
              "      <td>100000</td>\n",
              "      <td>NG</td>\n",
              "      <td>L</td>\n",
              "    </tr>\n",
              "    <tr>\n",
              "      <th>3</th>\n",
              "      <td>2023</td>\n",
              "      <td>EN</td>\n",
              "      <td>FT</td>\n",
              "      <td>Compliance Data Analyst</td>\n",
              "      <td>30000</td>\n",
              "      <td>USD</td>\n",
              "      <td>30000</td>\n",
              "      <td>NG</td>\n",
              "      <td>L</td>\n",
              "    </tr>\n",
              "    <tr>\n",
              "      <th>4</th>\n",
              "      <td>2023</td>\n",
              "      <td>EN</td>\n",
              "      <td>FT</td>\n",
              "      <td>Applied Scientist</td>\n",
              "      <td>204620</td>\n",
              "      <td>USD</td>\n",
              "      <td>204620</td>\n",
              "      <td>US</td>\n",
              "      <td>L</td>\n",
              "    </tr>\n",
              "  </tbody>\n",
              "</table>\n",
              "</div>\n",
              "    <div class=\"colab-df-buttons\">\n",
              "\n",
              "  <div class=\"colab-df-container\">\n",
              "    <button class=\"colab-df-convert\" onclick=\"convertToInteractive('df-fa20dcfa-792f-4830-9dd2-ffaabb21db02')\"\n",
              "            title=\"Convert this dataframe to an interactive table.\"\n",
              "            style=\"display:none;\">\n",
              "\n",
              "  <svg xmlns=\"http://www.w3.org/2000/svg\" height=\"24px\" viewBox=\"0 -960 960 960\">\n",
              "    <path d=\"M120-120v-720h720v720H120Zm60-500h600v-160H180v160Zm220 220h160v-160H400v160Zm0 220h160v-160H400v160ZM180-400h160v-160H180v160Zm440 0h160v-160H620v160ZM180-180h160v-160H180v160Zm440 0h160v-160H620v160Z\"/>\n",
              "  </svg>\n",
              "    </button>\n",
              "\n",
              "  <style>\n",
              "    .colab-df-container {\n",
              "      display:flex;\n",
              "      gap: 12px;\n",
              "    }\n",
              "\n",
              "    .colab-df-convert {\n",
              "      background-color: #E8F0FE;\n",
              "      border: none;\n",
              "      border-radius: 50%;\n",
              "      cursor: pointer;\n",
              "      display: none;\n",
              "      fill: #1967D2;\n",
              "      height: 32px;\n",
              "      padding: 0 0 0 0;\n",
              "      width: 32px;\n",
              "    }\n",
              "\n",
              "    .colab-df-convert:hover {\n",
              "      background-color: #E2EBFA;\n",
              "      box-shadow: 0px 1px 2px rgba(60, 64, 67, 0.3), 0px 1px 3px 1px rgba(60, 64, 67, 0.15);\n",
              "      fill: #174EA6;\n",
              "    }\n",
              "\n",
              "    .colab-df-buttons div {\n",
              "      margin-bottom: 4px;\n",
              "    }\n",
              "\n",
              "    [theme=dark] .colab-df-convert {\n",
              "      background-color: #3B4455;\n",
              "      fill: #D2E3FC;\n",
              "    }\n",
              "\n",
              "    [theme=dark] .colab-df-convert:hover {\n",
              "      background-color: #434B5C;\n",
              "      box-shadow: 0px 1px 3px 1px rgba(0, 0, 0, 0.15);\n",
              "      filter: drop-shadow(0px 1px 2px rgba(0, 0, 0, 0.3));\n",
              "      fill: #FFFFFF;\n",
              "    }\n",
              "  </style>\n",
              "\n",
              "    <script>\n",
              "      const buttonEl =\n",
              "        document.querySelector('#df-fa20dcfa-792f-4830-9dd2-ffaabb21db02 button.colab-df-convert');\n",
              "      buttonEl.style.display =\n",
              "        google.colab.kernel.accessAllowed ? 'block' : 'none';\n",
              "\n",
              "      async function convertToInteractive(key) {\n",
              "        const element = document.querySelector('#df-fa20dcfa-792f-4830-9dd2-ffaabb21db02');\n",
              "        const dataTable =\n",
              "          await google.colab.kernel.invokeFunction('convertToInteractive',\n",
              "                                                    [key], {});\n",
              "        if (!dataTable) return;\n",
              "\n",
              "        const docLinkHtml = 'Like what you see? Visit the ' +\n",
              "          '<a target=\"_blank\" href=https://colab.research.google.com/notebooks/data_table.ipynb>data table notebook</a>'\n",
              "          + ' to learn more about interactive tables.';\n",
              "        element.innerHTML = '';\n",
              "        dataTable['output_type'] = 'display_data';\n",
              "        await google.colab.output.renderOutput(dataTable, element);\n",
              "        const docLink = document.createElement('div');\n",
              "        docLink.innerHTML = docLinkHtml;\n",
              "        element.appendChild(docLink);\n",
              "      }\n",
              "    </script>\n",
              "  </div>\n",
              "\n",
              "\n",
              "<div id=\"df-bde189ac-8414-48ec-95e0-a3ff1de5dcc0\">\n",
              "  <button class=\"colab-df-quickchart\" onclick=\"quickchart('df-bde189ac-8414-48ec-95e0-a3ff1de5dcc0')\"\n",
              "            title=\"Suggest charts\"\n",
              "            style=\"display:none;\">\n",
              "\n",
              "<svg xmlns=\"http://www.w3.org/2000/svg\" height=\"24px\"viewBox=\"0 0 24 24\"\n",
              "     width=\"24px\">\n",
              "    <g>\n",
              "        <path d=\"M19 3H5c-1.1 0-2 .9-2 2v14c0 1.1.9 2 2 2h14c1.1 0 2-.9 2-2V5c0-1.1-.9-2-2-2zM9 17H7v-7h2v7zm4 0h-2V7h2v10zm4 0h-2v-4h2v4z\"/>\n",
              "    </g>\n",
              "</svg>\n",
              "  </button>\n",
              "\n",
              "<style>\n",
              "  .colab-df-quickchart {\n",
              "      --bg-color: #E8F0FE;\n",
              "      --fill-color: #1967D2;\n",
              "      --hover-bg-color: #E2EBFA;\n",
              "      --hover-fill-color: #174EA6;\n",
              "      --disabled-fill-color: #AAA;\n",
              "      --disabled-bg-color: #DDD;\n",
              "  }\n",
              "\n",
              "  [theme=dark] .colab-df-quickchart {\n",
              "      --bg-color: #3B4455;\n",
              "      --fill-color: #D2E3FC;\n",
              "      --hover-bg-color: #434B5C;\n",
              "      --hover-fill-color: #FFFFFF;\n",
              "      --disabled-bg-color: #3B4455;\n",
              "      --disabled-fill-color: #666;\n",
              "  }\n",
              "\n",
              "  .colab-df-quickchart {\n",
              "    background-color: var(--bg-color);\n",
              "    border: none;\n",
              "    border-radius: 50%;\n",
              "    cursor: pointer;\n",
              "    display: none;\n",
              "    fill: var(--fill-color);\n",
              "    height: 32px;\n",
              "    padding: 0;\n",
              "    width: 32px;\n",
              "  }\n",
              "\n",
              "  .colab-df-quickchart:hover {\n",
              "    background-color: var(--hover-bg-color);\n",
              "    box-shadow: 0 1px 2px rgba(60, 64, 67, 0.3), 0 1px 3px 1px rgba(60, 64, 67, 0.15);\n",
              "    fill: var(--button-hover-fill-color);\n",
              "  }\n",
              "\n",
              "  .colab-df-quickchart-complete:disabled,\n",
              "  .colab-df-quickchart-complete:disabled:hover {\n",
              "    background-color: var(--disabled-bg-color);\n",
              "    fill: var(--disabled-fill-color);\n",
              "    box-shadow: none;\n",
              "  }\n",
              "\n",
              "  .colab-df-spinner {\n",
              "    border: 2px solid var(--fill-color);\n",
              "    border-color: transparent;\n",
              "    border-bottom-color: var(--fill-color);\n",
              "    animation:\n",
              "      spin 1s steps(1) infinite;\n",
              "  }\n",
              "\n",
              "  @keyframes spin {\n",
              "    0% {\n",
              "      border-color: transparent;\n",
              "      border-bottom-color: var(--fill-color);\n",
              "      border-left-color: var(--fill-color);\n",
              "    }\n",
              "    20% {\n",
              "      border-color: transparent;\n",
              "      border-left-color: var(--fill-color);\n",
              "      border-top-color: var(--fill-color);\n",
              "    }\n",
              "    30% {\n",
              "      border-color: transparent;\n",
              "      border-left-color: var(--fill-color);\n",
              "      border-top-color: var(--fill-color);\n",
              "      border-right-color: var(--fill-color);\n",
              "    }\n",
              "    40% {\n",
              "      border-color: transparent;\n",
              "      border-right-color: var(--fill-color);\n",
              "      border-top-color: var(--fill-color);\n",
              "    }\n",
              "    60% {\n",
              "      border-color: transparent;\n",
              "      border-right-color: var(--fill-color);\n",
              "    }\n",
              "    80% {\n",
              "      border-color: transparent;\n",
              "      border-right-color: var(--fill-color);\n",
              "      border-bottom-color: var(--fill-color);\n",
              "    }\n",
              "    90% {\n",
              "      border-color: transparent;\n",
              "      border-bottom-color: var(--fill-color);\n",
              "    }\n",
              "  }\n",
              "</style>\n",
              "\n",
              "  <script>\n",
              "    async function quickchart(key) {\n",
              "      const quickchartButtonEl =\n",
              "        document.querySelector('#' + key + ' button');\n",
              "      quickchartButtonEl.disabled = true;  // To prevent multiple clicks.\n",
              "      quickchartButtonEl.classList.add('colab-df-spinner');\n",
              "      try {\n",
              "        const charts = await google.colab.kernel.invokeFunction(\n",
              "            'suggestCharts', [key], {});\n",
              "      } catch (error) {\n",
              "        console.error('Error during call to suggestCharts:', error);\n",
              "      }\n",
              "      quickchartButtonEl.classList.remove('colab-df-spinner');\n",
              "      quickchartButtonEl.classList.add('colab-df-quickchart-complete');\n",
              "    }\n",
              "    (() => {\n",
              "      let quickchartButtonEl =\n",
              "        document.querySelector('#df-bde189ac-8414-48ec-95e0-a3ff1de5dcc0 button');\n",
              "      quickchartButtonEl.style.display =\n",
              "        google.colab.kernel.accessAllowed ? 'block' : 'none';\n",
              "    })();\n",
              "  </script>\n",
              "</div>\n",
              "    </div>\n",
              "  </div>\n"
            ]
          },
          "metadata": {},
          "execution_count": 52
        }
      ]
    },
    {
      "cell_type": "code",
      "source": [
        "contagem_cientista_dados = ds_salary['job_title'].value_counts().get(\"Data Scientist\", 0)\n",
        "print(contagem_cientista_dados)\n"
      ],
      "metadata": {
        "colab": {
          "base_uri": "https://localhost:8080/"
        },
        "id": "xw0QPSjcQwZ6",
        "outputId": "70335cee-0ea0-48ed-f3be-fe797de5f402"
      },
      "execution_count": 53,
      "outputs": [
        {
          "output_type": "stream",
          "name": "stdout",
          "text": [
            "840\n"
          ]
        }
      ]
    },
    {
      "cell_type": "code",
      "source": [
        "contagem_engenheiro_dados = ds_salary['job_title'].value_counts().get(\"Data Engineer\", 0)\n",
        "print(contagem_engenheiro_dados)"
      ],
      "metadata": {
        "colab": {
          "base_uri": "https://localhost:8080/"
        },
        "id": "CdXv1V4TSdwX",
        "outputId": "286f57cb-8840-49cd-a629-d05e3c58e6d8"
      },
      "execution_count": 54,
      "outputs": [
        {
          "output_type": "stream",
          "name": "stdout",
          "text": [
            "1040\n"
          ]
        }
      ]
    },
    {
      "cell_type": "code",
      "source": [
        "contagem_analista_dados = ds_salary['job_title'].value_counts().get(\"Data Analyst\", 0)\n",
        "print(contagem_analista_dados)"
      ],
      "metadata": {
        "colab": {
          "base_uri": "https://localhost:8080/"
        },
        "id": "EgRenHN7Sv7R",
        "outputId": "7fcf15bf-8753-475e-bada-dd0a244ecd74"
      },
      "execution_count": 55,
      "outputs": [
        {
          "output_type": "stream",
          "name": "stdout",
          "text": [
            "614\n"
          ]
        }
      ]
    },
    {
      "cell_type": "code",
      "source": [
        "grupo_profissao = ds_salary.groupby('job_title')\n"
      ],
      "metadata": {
        "id": "QA5LMFWiTfux"
      },
      "execution_count": 56,
      "outputs": []
    },
    {
      "cell_type": "code",
      "source": [
        "media_salario_por_profissao = grupo_profissao['salary'].mean()\n"
      ],
      "metadata": {
        "id": "qRBHfSBBTp5x"
      },
      "execution_count": 57,
      "outputs": []
    },
    {
      "cell_type": "code",
      "source": [
        "media_cientista_dados = media_salario_por_profissao.get(\"Data Scientist\", 0)\n",
        "media_engenheiro_dados = media_salario_por_profissao.get(\"Data Engineer\", 0)\n",
        "media_analista_dados= media_salario_por_profissao.get(\"Data Analyst\", 0)"
      ],
      "metadata": {
        "id": "LOpe3GylT6zH"
      },
      "execution_count": 58,
      "outputs": []
    },
    {
      "cell_type": "code",
      "source": [
        "print(f'Média de salário para Cientista de Dados: {media_cientista_dados}')\n",
        "print(f'Média de salário para Engenheiro de Dados: {media_engenheiro_dados}')\n",
        "print(f'Média de salário para Analista de Dados: {media_analista_dados}')\n",
        "\n"
      ],
      "metadata": {
        "colab": {
          "base_uri": "https://localhost:8080/"
        },
        "id": "yv1GV9UCUYnw",
        "outputId": "b585c50c-e29e-490d-e189-3a3eb432f756"
      },
      "execution_count": 59,
      "outputs": [
        {
          "output_type": "stream",
          "name": "stdout",
          "text": [
            "Média de salário para Cientista de Dados: 239073.47619047618\n",
            "Média de salário para Engenheiro de Dados: 156574.96346153846\n",
            "Média de salário para Analista de Dados: 116306.8664495114\n"
          ]
        }
      ]
    },
    {
      "cell_type": "code",
      "source": [
        "media_cientista_dados_formatada = round(media_cientista_dados, 2)\n",
        "media_engenheiro_ddados_formatada = round(media_engenheiro_dados, 2)\n",
        "media_analista_dados_formatada = round(media_analista_dados, 2)"
      ],
      "metadata": {
        "id": "BedRF3ykVQur"
      },
      "execution_count": 60,
      "outputs": []
    },
    {
      "cell_type": "code",
      "source": [
        "sns.set_theme(style=\"darkgrid\")\n"
      ],
      "metadata": {
        "id": "JyjDtfqZXLAZ"
      },
      "execution_count": 61,
      "outputs": []
    },
    {
      "cell_type": "code",
      "source": [
        "medias = [media_cientista_dados, media_engenheiro_dados, media_analista_dados]\n"
      ],
      "metadata": {
        "id": "G3ZHgsTaXMZK"
      },
      "execution_count": 62,
      "outputs": []
    },
    {
      "cell_type": "code",
      "source": [
        "profissoes = [\"Cientista de Dados\", \"Engenheiro de Dados\", \"Analista de Dados\"]\n"
      ],
      "metadata": {
        "id": "c_qJe1wlXU9H"
      },
      "execution_count": 63,
      "outputs": []
    },
    {
      "cell_type": "code",
      "source": [
        "plt.bar(profissoes, medias)\n",
        "plt.xlabel('Profissão')\n",
        "plt.ylabel('Salário Médio')\n",
        "plt.title('Média de Salário por Profissão')\n",
        "\n",
        "plt.show()\n"
      ],
      "metadata": {
        "colab": {
          "base_uri": "https://localhost:8080/",
          "height": 481
        },
        "id": "CBLKhfJ9XfiB",
        "outputId": "cb533601-2f1a-4003-d40f-46664538b813"
      },
      "execution_count": 64,
      "outputs": [
        {
          "output_type": "display_data",
          "data": {
            "text/plain": [
              "<Figure size 640x480 with 1 Axes>"
            ],
            "image/png": "[encoded data removed]"
          },
          "metadata": {}
        }
      ]
    },
    {
      "cell_type": "code",
      "source": [
        "paises = ds_salary['company_location'].unique()\n",
        "print(paises)"
      ],
      "metadata": {
        "colab": {
          "base_uri": "https://localhost:8080/"
        },
        "id": "OMvCFQt3ogSk",
        "outputId": "6039ac7d-b27e-48d3-af6c-d5ca70919de1"
      },
      "execution_count": 65,
      "outputs": [
        {
          "output_type": "stream",
          "name": "stdout",
          "text": [
            "['US' 'NG' 'IN' 'CA' 'ES' 'GH' 'DE' 'CH' 'AU' 'SE' 'BR' 'GB' 'VN' 'BA'\n",
            " 'GR' 'HK' 'NL' 'FI' 'IE' 'SG' 'SI' 'MX' 'FR' 'HR' 'AM' 'KE' 'RO' 'TH'\n",
            " 'CF' 'UA' 'IL' 'CO' 'PT' 'EE' 'LV' 'MK' 'PK' 'IT' 'MA' 'AR' 'CR' 'IR'\n",
            " 'HU' 'AS' 'BE' 'AT' 'ID' 'LU' 'MY' 'CZ' 'DZ' 'RU' 'PL' 'LT' 'TR' 'BO'\n",
            " 'EG' 'AL' 'SK' 'PR' 'AE' 'DK' 'IQ' 'CN' 'BS' 'JP' 'CL' 'MD' 'MT' 'PH'\n",
            " 'HN' 'NZ']\n"
          ]
        }
      ]
    },
    {
      "cell_type": "code",
      "source": [
        "cientistas_de_dados = ds_salary.loc[ds_salary['job_title'] == 'Data Scientist']\n"
      ],
      "metadata": {
        "id": "Rx72BaCLoguF"
      },
      "execution_count": 66,
      "outputs": []
    },
    {
      "cell_type": "code",
      "source": [
        "contagem_por_pais = cientistas_de_dados.groupby('company_location').size().reset_index(name='Quantidade de Cientistas de Dados')\n",
        "print(contagem_por_pais)\n"
      ],
      "metadata": {
        "colab": {
          "base_uri": "https://localhost:8080/"
        },
        "id": "5BTQuN_8og7X",
        "outputId": "e87df26e-22f9-4e04-9cc3-29e40deb9c87"
      },
      "execution_count": 67,
      "outputs": [
        {
          "output_type": "stream",
          "name": "stdout",
          "text": [
            "   company_location  Quantidade de Cientistas de Dados\n",
            "0                AT                                  2\n",
            "1                AU                                  2\n",
            "2                BE                                  2\n",
            "3                BR                                  4\n",
            "4                CA                                 21\n",
            "5                CH                                  2\n",
            "6                CL                                  1\n",
            "7                DE                                 14\n",
            "8                DZ                                  1\n",
            "9                EE                                  1\n",
            "10               ES                                 28\n",
            "11               FR                                 15\n",
            "12               GB                                 31\n",
            "13               HK                                  1\n",
            "14               HU                                  2\n",
            "15               ID                                  1\n",
            "16               IE                                  4\n",
            "17               IL                                  1\n",
            "18               IN                                 15\n",
            "19               IT                                  1\n",
            "20               LU                                  1\n",
            "21               LV                                  2\n",
            "22               MX                                  1\n",
            "23               MY                                  1\n",
            "24               NG                                  1\n",
            "25               NL                                  4\n",
            "26               PL                                  1\n",
            "27               RO                                  1\n",
            "28               TH                                  1\n",
            "29               TR                                  3\n",
            "30               UA                                  1\n",
            "31               US                                674\n"
          ]
        }
      ]
    },
    {
      "cell_type": "code",
      "source": [
        "contagem_por_pais = contagem_por_pais.sort_values(by='Quantidade de Cientistas de Dados', ascending=False)\n",
        "top_4_paises = contagem_por_pais.head(4)\n"
      ],
      "metadata": {
        "id": "sb1UkGI5u7wT"
      },
      "execution_count": 77,
      "outputs": []
    },
    {
      "cell_type": "code",
      "source": [
        "plt.figure(figsize=(10, 6))\n",
        "plt.pie(top_4_paises['Quantidade de Cientistas de Dados'], labels=top_4_paises['company_location'], autopct='%1.1f%%', startangle=140)\n",
        "plt.title('Top 4 Países com Mais Cientistas de Dados')\n",
        "plt.show()"
      ],
      "metadata": {
        "colab": {
          "base_uri": "https://localhost:8080/",
          "height": 521
        },
        "id": "bUSuxztevfJm",
        "outputId": "17b1dbbc-c843-497e-ff12-10b9cfc94a30"
      },
      "execution_count": 79,
      "outputs": [
        {
          "output_type": "display_data",
          "data": {
            "text/plain": [
              "<Figure size 1000x600 with 1 Axes>"
            ],
            "image/png": "[encoded data removed]"
          },
          "metadata": {}
        }
      ]
    },
    {
      "cell_type": "code",
      "source": [
        "cientistas_de_dados = ds_salary.loc[ds_salary['job_title'] == 'Data Scientist']\n"
      ],
      "metadata": {
        "id": "67WwW3tf703f"
      },
      "execution_count": 70,
      "outputs": []
    },
    {
      "cell_type": "code",
      "source": [
        "agrupacao_por_nivel = cientistas_de_dados.groupby('experience_level').size().reset_index(name='Quantidade')\n"
      ],
      "metadata": {
        "id": "LldgPPgQ78Ty"
      },
      "execution_count": 71,
      "outputs": []
    },
    {
      "cell_type": "code",
      "source": [
        "agrupacao_por_nivel['job_title'] = 'Data Scientist'\n",
        "\n",
        "print(agrupacao_por_nivel)"
      ],
      "metadata": {
        "colab": {
          "base_uri": "https://localhost:8080/"
        },
        "id": "sLtm53RE79aA",
        "outputId": "f3f0bc14-b5a4-4209-ca88-6db7090df761"
      },
      "execution_count": 72,
      "outputs": [
        {
          "output_type": "stream",
          "name": "stdout",
          "text": [
            "  experience_level  Quantidade       job_title\n",
            "0               EN          59  Data Scientist\n",
            "1               EX          12  Data Scientist\n",
            "2               MI         161  Data Scientist\n",
            "3               SE         608  Data Scientist\n"
          ]
        }
      ]
    },
    {
      "cell_type": "code",
      "source": [
        "cientistas_de_dados = ds_salary.loc[ds_salary['job_title'] == 'Data Scientist']\n"
      ],
      "metadata": {
        "id": "J9sDhcchxpm9"
      },
      "execution_count": 73,
      "outputs": []
    },
    {
      "cell_type": "code",
      "source": [
        "contagem_por_nivel = cientistas_de_dados['experience_level'].value_counts().reset_index()\n"
      ],
      "metadata": {
        "id": "NZKKTbxdyFdo"
      },
      "execution_count": 74,
      "outputs": []
    },
    {
      "cell_type": "code",
      "source": [
        "contagem_por_nivel.columns = ['Nível de Experiência', 'Quantidade']\n"
      ],
      "metadata": {
        "id": "OBwrCJZsySKE"
      },
      "execution_count": 75,
      "outputs": []
    },
    {
      "cell_type": "code",
      "source": [
        "plt.figure(figsize=(10, 6))\n",
        "plt.bar(contagem_por_nivel['Nível de Experiência'], contagem_por_nivel['Quantidade'], color='skyblue')\n",
        "plt.xlabel('Nível de Experiência')\n",
        "plt.ylabel('Quantidade')\n",
        "plt.title('Distribuição de Níveis de Experiência entre Cientistas de Dados')\n",
        "plt.show()"
      ],
      "metadata": {
        "colab": {
          "base_uri": "https://localhost:8080/",
          "height": 574
        },
        "id": "TaKmS1huyYLJ",
        "outputId": "09a2244b-33eb-4908-c7d1-6e406ebc4060"
      },
      "execution_count": 76,
      "outputs": [
        {
          "output_type": "display_data",
          "data": {
            "text/plain": [
              "<Figure size 1000x600 with 1 Axes>"
            ],
            "image/png": "[encoded data removed]"
          },
          "metadata": {}
        }
      ]
    }
  ]
}